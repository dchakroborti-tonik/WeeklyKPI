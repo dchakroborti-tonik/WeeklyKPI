{
 "cells": [
  {
   "cell_type": "code",
   "execution_count": 1,
   "metadata": {},
   "outputs": [
    {
     "name": "stderr",
     "output_type": "stream",
     "text": [
      "<frozen importlib._bootstrap>:219: RuntimeWarning: scipy._lib.messagestream.MessageStream size changed, may indicate binary incompatibility. Expected 56 from C header, got 64 from PyObject\n"
     ]
    }
   ],
   "source": [
    "from sklearn.ensemble import RandomForestClassifier\n",
    "import pandas as pd\n",
    "import numpy as np\n",
    "import matplotlib.pyplot as plt\n",
    "# To use this experimental feature, we need to explicitly ask for it:\n",
    "from sklearn.experimental import enable_iterative_imputer  # noqa\n",
    "from sklearn.datasets import fetch_california_housing\n",
    "from sklearn.impute import SimpleImputer\n",
    "from sklearn.impute import IterativeImputer\n",
    "from sklearn.linear_model import BayesianRidge, Ridge\n",
    "from sklearn.kernel_approximation import Nystroem\n",
    "from sklearn.ensemble import RandomForestRegressor\n",
    "from sklearn.neighbors import KNeighborsRegressor\n",
    "from sklearn.pipeline import make_pipeline\n",
    "from sklearn.model_selection import cross_val_score\n",
    "from sklearn.tree import plot_tree\n",
    "from sklearn.feature_selection import SelectFromModel\n",
    "from sklearn.model_selection import train_test_split\n"
   ]
  },
  {
   "cell_type": "code",
   "execution_count": 4,
   "metadata": {},
   "outputs": [
    {
     "name": "stdout",
     "output_type": "stream",
     "text": [
      "Table with rows and columns : (696680, 222)\n",
      "['customerId', 'digitalLoanAccountId', 'loanAccountNumber', 'loanRequestAmount', 'loanRequestTenure', 'startApplyDateTime', 'customerCategory', 'applicationStatus', 'timeToDecision', 'approvedDateTime', 'flagApproval', 'approvedLoanAmount', 'approvedLoanTenure', 'rejectedDateTime', 'flagRejection', 'signedDateTime', 'timeToSigned', 'flagSigned', 'disbursementDateTime', 'payrollLinked', 'rateOfInterest', 'flagDisbursement', 'disbursedLoanAmount', 'disbursedLoanTenur', 'firstDueDate', 'secondDueDate', 'thirdDueDate', 'obsFPD00', 'obsFPD05', 'obsFPD10', 'obsFPD15', 'obsFPD30', 'obsSPD10', 'obsSPD15', 'obsSPD30', 'obsTPD10', 'obsTPD15', 'obsTPD30', 'defFPD00', 'defFPD05', 'defFPD10', 'defFPD15', 'defFPD30', 'defSPD10', 'defSPD15', 'defSPD30', 'defTPD10', 'defTPD15', 'defTPD30', 'currentDelinquency', 'bucket', 'loanPaidStatus', 'lastPaidDT', 'paymentDueButNotpaidDates', 'purposeDescription', 'bankName', 'flagSecondMobileNumber', 'salaryDays', 'paymentDay', 'demographicScore', 'finScore', 'fraudScore', 'industryDescription', 'incomeMultiple', 'employmentstatus', 'natureofwork', 'refContact', 'credolabScore', 'outstandingBalance', 'maritalStatus', 'dependentsCount', 'city', 'barangay', 'province', 'postalCode', 'age', 'monthlyIncome', 'tinNumber', 'gender', 'dateOfBirth', 'email', 'mobileNo', 'nationality', 'firstName', 'middleName', 'lastName', 'isfatca', 'docNumber', 'docExpiryDate', 'docType', 'stage0DateTime', 'stage0FailureReason', 'isBankStatementSubmitted', 'isTermsAndConditionsAccepted', 'stage1Status', 'crifApplicationId', 'isDirectDebitAgreementSigned', 'isPromissoryNoteAccepted', 'isDisclosureAccepted', 'isAmortizationScheduleAccepted', 'stage1FailureReason', 'loanType', 'credolabRefNumber', 'alternateNumber', 'isDocExpiryDateAvailable', 'subIndustryDescription', 'covidImpactOnIndustry', 'internalFailureReason', 'isLoanActive', 'termsAndConditionsSubmitDateTime', 'timeToSubmit', 'rejectedStage', 'rejectedReason', 'custLoanJourneyZipCode', 'custLoanJourneyProvince', 'custLoanJourneyCity', 'tsa_onboarding_time', 'kyc_status_change_time', 'salaryBankName', 'calculatedBucket', 'IPAddress', 'geolocation', 'deviceId', 'deviceType', 'receiptDueDate', 'documentVerifiedDate', 'documentStatus', 'isDocumentVerified', 'credolabDeviceId', 'kycStatus', 'skycUpgrade', 'brand', 'osVersion', 'appVersion', 'cddStatus', 'cddRejectReason', 'cddAgentRemarks', 'cddInitiatedDateAndTime', 'cddVerificationDateAndTime', 'cddAgentName', 'startInitiateDateTime', 'credolabscore_crif', 'purpleKey', 'merchantName', 'calculatedDelinquency', 'TSA_company_name', 'companyName', 'CRIF_approved_amount', 'decision_date', 'rejection_code', 'Ref1_Firstname', 'Ref1_Lastname', 'Ref1_contact', 'Ref2_Firstname', 'Ref2_Lastname', 'Ref2_contact', 'Ref_custname1_check_flag', 'Ref_custname2_check_flag', 'Ref_custname1_eq_custname2_flag', 'Stage0_Status', 'Stage1_DateTime', 'Overdue_Principal', 'Overdue_Interest', 'Overdue_Penalty', 'Total_Outstanding_Principal', 'Total_Outstanding_Interest', 'Total_Outstanding_Penalty', 'Flag_Overdue_Principal', 'Flag_Overdue_Interest', 'Flag_Overdue_Penalty', 'Flag_Total_Outstanding_Principal', 'Flag_Total_Outstanding_Interest', 'Flag_Total_Outstanding_Penalty', 'obsSPD00', 'obsSPD05', 'obsTPD00', 'obsTPD05', 'Flag_Decision', 'defSPD00', 'defSPD05', 'defTPD00', 'defTPD05', 'Max_Ever_DPD', 'isUserAtStore', 'Geo_PostalCode', 'Geo_locality', 'Geo_fullAddress', 'cancelledReason', 'cancellationDateTime', 'EmployerContactNo', 'ContactPersonName', 'PayrollCardVerified', 'PayrollCardLinked', 'accountHolderName', 'accountNum', 'processingFee', 'BankStatementType', 'BankStatementFileName', 'IncomeProofDocumentType', 'IncomeProofDocumentFileNAme', 'Last_Login_Date', 'industryperSalaryScale', 'occupationperSalaryScale', 'incomeperSalaryScale', 'incomeSenttoCRIF', 'countryOfRemittance', 'BNPL_PRODUCT_CATEGORY_CNT', 'downPaymentAmount', 'defaultDPAmount', 'dpPercent', 'reloan_flag', 'decision_date_actual', 'AppsFlyer_ID', 'Media_Source', 'channel', 'Campaign', 'Campaign_ID', 'Adset', 'Adset_ID', 'Install_Time', 'adminFee', 'new_loan_type']\n"
     ]
    }
   ],
   "source": [
    "# load data and split into X (features) and y (target variable)\n",
    "data = pd.read_csv(r'D:\\MyStuff\\Important_tables\\Loan_master\\loan_master_table_lt.csv', low_memory=False)\n",
    "print(\"Table with rows and columns :\", data.shape)\n",
    "print(list(data.columns))\n"
   ]
  },
  {
   "cell_type": "code",
   "execution_count": 5,
   "metadata": {},
   "outputs": [
    {
     "name": "stdout",
     "output_type": "stream",
     "text": [
      "Before selection shape (696680, 222)\n",
      "After selection shape (39681, 222)\n"
     ]
    }
   ],
   "source": [
    "print(\"Before selection shape\", data.shape)\n",
    "data = data[data['obsFPD30']==1]\n",
    "print(\"After selection shape\", data.shape)"
   ]
  },
  {
   "cell_type": "code",
   "execution_count": 6,
   "metadata": {},
   "outputs": [
    {
     "name": "stdout",
     "output_type": "stream",
     "text": [
      "After manual feature selection the shape of data is : (39681, 14)\n"
     ]
    }
   ],
   "source": [
    "data = data[['loanRequestAmount', 'loanRequestTenure','defFPD30' ,'obsFPD30', 'purposeDescription', 'industryDescription', 'natureofwork', 'credolabScore', 'maritalStatus', 'age', 'monthlyIncome', 'gender', 'docType', 'subIndustryDescription']]\n",
    "print(\"After manual feature selection the shape of data is :\", data.shape)"
   ]
  },
  {
   "cell_type": "code",
   "execution_count": 7,
   "metadata": {},
   "outputs": [
    {
     "data": {
      "text/plain": [
       "Index(['purposeDescription', 'industryDescription', 'natureofwork',\n",
       "       'maritalStatus', 'gender', 'docType', 'subIndustryDescription'],\n",
       "      dtype='object')"
      ]
     },
     "execution_count": 7,
     "metadata": {},
     "output_type": "execute_result"
    }
   ],
   "source": [
    "# checking features\n",
    "cat = data.select_dtypes(include='O').keys()\n",
    "# display the categorical variables\n",
    "cat"
   ]
  },
  {
   "cell_type": "code",
   "execution_count": 8,
   "metadata": {},
   "outputs": [
    {
     "name": "stdout",
     "output_type": "stream",
     "text": [
      "purposeDescription : 103\n",
      "industryDescription : 8\n",
      "natureofwork : 27\n",
      "maritalStatus : 5\n",
      "gender : 2\n",
      "docType : 47\n",
      "subIndustryDescription : 56\n"
     ]
    }
   ],
   "source": [
    "# unique values in each columns\n",
    "for x in data[cat].columns:\n",
    "    #prinfting unique values\n",
    "    print(x ,':', len(data[x].unique()))"
   ]
  },
  {
   "cell_type": "code",
   "execution_count": 9,
   "metadata": {},
   "outputs": [
    {
     "name": "stdout",
     "output_type": "stream",
     "text": [
      "Shape of data after creating dummies (39681, 251)\n"
     ]
    }
   ],
   "source": [
    "data = pd.get_dummies(data, columns = cat)\n",
    "print(\"Shape of data after creating dummies\", data.shape)"
   ]
  },
  {
   "cell_type": "code",
   "execution_count": null,
   "metadata": {},
   "outputs": [],
   "source": [
    "print(list(data.columns))"
   ]
  },
  {
   "cell_type": "code",
   "execution_count": 10,
   "metadata": {},
   "outputs": [],
   "source": [
    "X = data.drop('defFPD30', axis=1)\n",
    "y = data['defFPD30']"
   ]
  },
  {
   "cell_type": "code",
   "execution_count": 11,
   "metadata": {},
   "outputs": [
    {
     "data": {
      "text/plain": [
       "loanRequestAmount                             1\n",
       "loanRequestTenure                             0\n",
       "obsFPD30                                      0\n",
       "credolabScore                               824\n",
       "age                                           0\n",
       "                                           ... \n",
       "subIndustryDescription_Textile / Garment      0\n",
       "subIndustryDescription_Trading                0\n",
       "subIndustryDescription_Travel & Tourism       0\n",
       "subIndustryDescription_White Goods            0\n",
       "subIndustryDescription_e-Commerce             0\n",
       "Length: 250, dtype: int64"
      ]
     },
     "execution_count": 11,
     "metadata": {},
     "output_type": "execute_result"
    }
   ],
   "source": [
    "X.isnull().sum()"
   ]
  },
  {
   "cell_type": "code",
   "execution_count": 12,
   "metadata": {},
   "outputs": [],
   "source": [
    "X.credolabScore = X.credolabScore.fillna(X.credolabScore.median())\n",
    "X.loanRequestAmount = X.loanRequestAmount.fillna(X.loanRequestAmount.mean())"
   ]
  },
  {
   "cell_type": "code",
   "execution_count": 15,
   "metadata": {},
   "outputs": [
    {
     "name": "stdout",
     "output_type": "stream",
     "text": [
      "Is there still any column with null value. : loanRequestAmount                           0\n",
      "loanRequestTenure                           0\n",
      "obsFPD30                                    0\n",
      "credolabScore                               0\n",
      "age                                         0\n",
      "                                           ..\n",
      "subIndustryDescription_Textile / Garment    0\n",
      "subIndustryDescription_Trading              0\n",
      "subIndustryDescription_Travel & Tourism     0\n",
      "subIndustryDescription_White Goods          0\n",
      "subIndustryDescription_e-Commerce           0\n",
      "Length: 250, dtype: int64\n"
     ]
    }
   ],
   "source": [
    "print(\"Is there still any column with null value. :\", X.isnull().sum())"
   ]
  },
  {
   "cell_type": "code",
   "execution_count": 37,
   "metadata": {},
   "outputs": [
    {
     "data": {
      "text/plain": [
       "RandomForestClassifier(n_estimators=10)"
      ]
     },
     "execution_count": 37,
     "metadata": {},
     "output_type": "execute_result"
    }
   ],
   "source": [
    "# train random forest classifier\n",
    "rf = RandomForestClassifier(n_estimators = 10)\n",
    "rf.fit(X, y)\n",
    "\n"
   ]
  },
  {
   "cell_type": "code",
   "execution_count": 38,
   "metadata": {},
   "outputs": [
    {
     "name": "stdout",
     "output_type": "stream",
     "text": [
      "                                              Feature  Importance Score\n",
      "3                                       credolabScore          0.102377\n",
      "0                                   loanRequestAmount          0.092385\n",
      "1                                   loanRequestTenure          0.089131\n",
      "5                                       monthlyIncome          0.082731\n",
      "4                                                 age          0.075881\n",
      "..                                                ...               ...\n",
      "89  purposeDescription_Washing machine, dryer or b...          0.000000\n",
      "58  purposeDescription_Stereo set, Soundbar, Audio...          0.000000\n",
      "43  purposeDescription_Sala set, Couch, Sofa set,O...          0.000000\n",
      "42  purposeDescription_Sala set, Couch, Sofa set,O...          0.000000\n",
      "57  purposeDescription_Stereo set, Soundbar, Audio...          0.000000\n",
      "\n",
      "[250 rows x 2 columns]\n"
     ]
    }
   ],
   "source": [
    "# get feature importances\n",
    "importances = rf.feature_importances_\n",
    "features = X.columns\n",
    "\n",
    "# Create a dataframe to display the results\n",
    "score_card = pd.DataFrame({'Feature': features, 'Importance Score': importances})\n",
    "\n",
    "# Sort the dataframe by importance score in descending order\n",
    "score_card = score_card.sort_values('Importance Score', ascending=False)\n",
    "\n",
    "# Print the score card with the actual column names from the database\n",
    "print(score_card)\n",
    "\n",
    "# # print feature importances\n",
    "# for i, importance in enumerate(importances):\n",
    "#     print('Feature {}: {}'.format(i+1, importance))"
   ]
  },
  {
   "cell_type": "code",
   "execution_count": 39,
   "metadata": {},
   "outputs": [],
   "source": [
    "score_card.to_csv(\"Randomforest_importantfeatures.csv\", index = False)"
   ]
  },
  {
   "cell_type": "code",
   "execution_count": null,
   "metadata": {},
   "outputs": [],
   "source": [
    "data.head()"
   ]
  },
  {
   "cell_type": "code",
   "execution_count": null,
   "metadata": {},
   "outputs": [],
   "source": [
    "X = data.drop('defFPD30', axis=1)\n",
    "y = data['defFPD30']"
   ]
  },
  {
   "cell_type": "code",
   "execution_count": null,
   "metadata": {},
   "outputs": [],
   "source": [
    "print(\"X Shape\", X.shape)\n",
    "print(\"y Shape\", y.shape)"
   ]
  },
  {
   "cell_type": "code",
   "execution_count": 19,
   "metadata": {},
   "outputs": [
    {
     "data": {
      "text/plain": [
       "True"
      ]
     },
     "execution_count": 19,
     "metadata": {},
     "output_type": "execute_result"
    }
   ],
   "source": [
    "X.shape[0] == y.shape[0]"
   ]
  },
  {
   "cell_type": "code",
   "execution_count": 22,
   "metadata": {},
   "outputs": [
    {
     "data": {
      "text/plain": [
       "31744"
      ]
     },
     "execution_count": 22,
     "metadata": {},
     "output_type": "execute_result"
    }
   ],
   "source": [
    "len(X_train)"
   ]
  },
  {
   "cell_type": "code",
   "execution_count": 47,
   "metadata": {},
   "outputs": [],
   "source": [
    "X_train,X_test,y_train, y_test = train_test_split(X, y,test_size=0.3)\n",
    "sel = SelectFromModel(RandomForestClassifier(n_estimators = 100))\n",
    "s = sel.fit(X_train, y_train)"
   ]
  },
  {
   "cell_type": "code",
   "execution_count": 48,
   "metadata": {},
   "outputs": [
    {
     "data": {
      "text/plain": [
       "array([ True,  True, False,  True,  True,  True, False, False, False,\n",
       "       False, False, False, False, False, False,  True, False, False,\n",
       "       False, False,  True, False, False,  True,  True, False,  True,\n",
       "       False, False, False, False, False, False, False, False, False,\n",
       "       False, False, False, False, False, False, False, False, False,\n",
       "       False, False, False, False, False, False, False, False, False,\n",
       "       False, False, False, False, False, False, False, False, False,\n",
       "       False, False, False, False, False, False, False, False, False,\n",
       "       False, False, False, False, False, False, False, False, False,\n",
       "       False, False, False, False, False, False, False, False, False,\n",
       "       False, False, False, False, False, False, False, False, False,\n",
       "       False, False, False, False, False, False, False, False, False,\n",
       "       False,  True,  True,  True,  True,  True,  True, False, False,\n",
       "        True, False, False, False,  True, False, False,  True, False,\n",
       "       False, False, False,  True,  True, False, False, False, False,\n",
       "        True, False, False,  True, False, False, False, False,  True,\n",
       "        True,  True, False,  True,  True, False, False, False, False,\n",
       "       False, False,  True, False, False,  True,  True, False, False,\n",
       "       False, False, False, False, False, False, False,  True, False,\n",
       "       False, False, False, False,  True,  True,  True,  True, False,\n",
       "       False,  True, False, False, False, False,  True, False, False,\n",
       "       False,  True, False, False,  True, False,  True, False, False,\n",
       "       False, False,  True, False, False, False, False, False, False,\n",
       "       False, False, False, False, False, False, False,  True, False,\n",
       "       False,  True, False,  True, False, False, False, False, False,\n",
       "       False, False, False, False, False,  True, False, False, False,\n",
       "       False, False, False, False, False, False, False, False, False,\n",
       "       False, False, False, False, False, False, False])"
      ]
     },
     "execution_count": 48,
     "metadata": {},
     "output_type": "execute_result"
    }
   ],
   "source": [
    "s.get_support()"
   ]
  },
  {
   "cell_type": "code",
   "execution_count": 49,
   "metadata": {},
   "outputs": [
    {
     "data": {
      "text/plain": [
       "46"
      ]
     },
     "execution_count": 49,
     "metadata": {},
     "output_type": "execute_result"
    }
   ],
   "source": [
    "selected_feat= X_train.columns[(s.get_support())]\n",
    "len(selected_feat)"
   ]
  },
  {
   "cell_type": "code",
   "execution_count": 50,
   "metadata": {},
   "outputs": [
    {
     "name": "stdout",
     "output_type": "stream",
     "text": [
      "Index(['loanRequestAmount', 'loanRequestTenure', 'credolabScore', 'age',\n",
      "       'monthlyIncome', 'purposeDescription_Education',\n",
      "       'purposeDescription_Home Repair & Improvement',\n",
      "       'purposeDescription_Living Expenses',\n",
      "       'purposeDescription_Medical or Other Emergency/Health Care',\n",
      "       'purposeDescription_Others', 'industryDescription_Agriculture',\n",
      "       'industryDescription_Financial Services',\n",
      "       'industryDescription_Government Institution',\n",
      "       'industryDescription_Manufacturing', 'industryDescription_Services',\n",
      "       'industryDescription_Technology', 'natureofwork_Admin/Secretarial',\n",
      "       'natureofwork_Call Center Agent/Tele Marketer',\n",
      "       'natureofwork_Doctor/Dentist/Medical Professional',\n",
      "       'natureofwork_Govt Employee', 'natureofwork_IT Professional',\n",
      "       'natureofwork_Other Professional services',\n",
      "       'natureofwork_Sales/Marketing Professional',\n",
      "       'maritalStatus_Live-in Partner', 'maritalStatus_Married',\n",
      "       'maritalStatus_Single', 'gender_F', 'gender_M',\n",
      "       'docType_Philippines - Driving License',\n",
      "       'docType_Philippines - Driving License (2017) #2',\n",
      "       'docType_Philippines - Driving License (2017) #3',\n",
      "       'docType_Philippines - Professional Driving License (2017)',\n",
      "       'docType_Philippines - Social Security Card #1',\n",
      "       'docType_Philippines - UMID Card', 'docType_Philippines - UMID Card #1',\n",
      "       'docType_Philippines - UMID Card #2',\n",
      "       'docType_Philippines - UMID Card (2016)',\n",
      "       'docType_Philippines - ePassport',\n",
      "       'docType_Philippines - ePassport (2016)', 'docType_UMID',\n",
      "       'subIndustryDescription_Agriculture /  Horticulture',\n",
      "       'subIndustryDescription_Call Centre / BPO',\n",
      "       'subIndustryDescription_Government Department / Institutions',\n",
      "       'subIndustryDescription_Hospital',\n",
      "       'subIndustryDescription_IT / Tech Consultancy / Projects / AI ML Solution Providers',\n",
      "       'subIndustryDescription_Others'],\n",
      "      dtype='object')\n"
     ]
    }
   ],
   "source": [
    "print(selected_feat)"
   ]
  },
  {
   "cell_type": "code",
   "execution_count": 51,
   "metadata": {},
   "outputs": [
    {
     "data": {
      "text/plain": [
       "<AxesSubplot:>"
      ]
     },
     "execution_count": 51,
     "metadata": {},
     "output_type": "execute_result"
    },
    {
     "data": {
      "image/png": "[encoded data removed]",
      "text/plain": [
       "<Figure size 432x288 with 1 Axes>"
      ]
     },
     "metadata": {
      "needs_background": "light"
     },
     "output_type": "display_data"
    }
   ],
   "source": [
    "pd.Series(s.estimator_.feature_importances_.ravel()).hist()"
   ]
  },
  {
   "cell_type": "code",
   "execution_count": 40,
   "metadata": {},
   "outputs": [],
   "source": [
    "from sklearn.metrics import classification_report"
   ]
  },
  {
   "cell_type": "code",
   "execution_count": 54,
   "metadata": {},
   "outputs": [],
   "source": [
    "y_pred = rf.predict(X_test)"
   ]
  },
  {
   "cell_type": "code",
   "execution_count": 56,
   "metadata": {},
   "outputs": [
    {
     "name": "stdout",
     "output_type": "stream",
     "text": [
      "              precision    recall  f1-score   support\n",
      "\n",
      "           0       0.97      1.00      0.98      7005\n",
      "           1       1.00      0.95      0.97      4900\n",
      "\n",
      "    accuracy                           0.98     11905\n",
      "   macro avg       0.98      0.98      0.98     11905\n",
      "weighted avg       0.98      0.98      0.98     11905\n",
      "\n"
     ]
    }
   ],
   "source": [
    "print(classification_report(y_test, y_pred))"
   ]
  },
  {
   "cell_type": "code",
   "execution_count": null,
   "metadata": {},
   "outputs": [],
   "source": []
  }
 ],
 "metadata": {
  "kernelspec": {
   "display_name": "prjfraudscore",
   "language": "python",
   "name": "python3"
  },
  "language_info": {
   "codemirror_mode": {
    "name": "ipython",
    "version": 3
   },
   "file_extension": ".py",
   "mimetype": "text/x-python",
   "name": "python",
   "nbconvert_exporter": "python",
   "pygments_lexer": "ipython3",
   "version": "3.8.12"
  },
  "orig_nbformat": 4
 },
 "nbformat": 4,
 "nbformat_minor": 2
}
