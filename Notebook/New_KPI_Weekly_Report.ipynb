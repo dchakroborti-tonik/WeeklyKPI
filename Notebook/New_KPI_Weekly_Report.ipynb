{
 "cells": [
  {
   "cell_type": "markdown",
   "metadata": {},
   "source": [
    "# Weekly KPI"
   ]
  },
  {
   "cell_type": "code",
   "execution_count": 1,
   "metadata": {},
   "outputs": [],
   "source": [
    "from google.cloud import bigquery\n",
    "import os\n",
    "\n",
    "path = r\"C:\\Users\\DwaipayanChakroborti\\AppData\\Roaming\\gcloud\\legacy_credentials\\dchakroborti@tonikbank.com\\adc.json\"\n",
    "\n",
    "os.environ[\"GOOGLE_APPLICATION_CREDENTIALS\"] = path\n",
    "client = bigquery.Client(project=\"prj-prod-dataplatform\")\n",
    "import pandas as pd \n",
    "import numpy as np"
   ]
  },
  {
   "cell_type": "markdown",
   "metadata": {},
   "source": [
    "Put the data range in cell below"
   ]
  },
  {
   "cell_type": "code",
   "execution_count": 2,
   "metadata": {},
   "outputs": [],
   "source": [
    "sd = '2024-04-01'\n",
    "ed = '2024-04-07'"
   ]
  },
  {
   "cell_type": "markdown",
   "metadata": {},
   "source": [
    "# Welcome call Connect - Weekly"
   ]
  },
  {
   "cell_type": "code",
   "execution_count": 3,
   "metadata": {},
   "outputs": [
    {
     "name": "stdout",
     "output_type": "stream",
     "text": [
      "Job ID 32185dd1-b491-4c10-b891-834d688c1fe5 successfully executed: 100%|\u001b[32m██████████\u001b[0m|\n",
      "Downloading: 100%|\u001b[32m██████████\u001b[0m|\n"
     ]
    },
    {
     "data": {
      "text/html": [
       "<div>\n",
       "<style scoped>\n",
       "    .dataframe tbody tr th:only-of-type {\n",
       "        vertical-align: middle;\n",
       "    }\n",
       "\n",
       "    .dataframe tbody tr th {\n",
       "        vertical-align: top;\n",
       "    }\n",
       "\n",
       "    .dataframe thead th {\n",
       "        text-align: right;\n",
       "    }\n",
       "</style>\n",
       "<table border=\"1\" class=\"dataframe\">\n",
       "  <thead>\n",
       "    <tr style=\"text-align: right;\">\n",
       "      <th></th>\n",
       "      <th>WkstartDate</th>\n",
       "      <th>WkendDate</th>\n",
       "      <th>apc_wc_connected</th>\n",
       "      <th>wccalled</th>\n",
       "      <th>WelcomeCall_ContactRate</th>\n",
       "    </tr>\n",
       "  </thead>\n",
       "  <tbody>\n",
       "    <tr>\n",
       "      <th>0</th>\n",
       "      <td>2024-04-01</td>\n",
       "      <td>2024-04-07</td>\n",
       "      <td>1096</td>\n",
       "      <td>1982</td>\n",
       "      <td>0.552977</td>\n",
       "    </tr>\n",
       "  </tbody>\n",
       "</table>\n",
       "</div>"
      ],
      "text/plain": [
       "  WkstartDate   WkendDate  apc_wc_connected  wccalled  WelcomeCall_ContactRate\n",
       "0  2024-04-01  2024-04-07              1096      1982                 0.552977"
      ]
     },
     "execution_count": 3,
     "metadata": {},
     "output_type": "execute_result"
    }
   ],
   "source": [
    "sq = f\"\"\"WITH\n",
    "  dt AS (\n",
    "  SELECT\n",
    "    DATE('{sd}') WkstartDate,\n",
    "    DATE('{ed}') WkendDate),\n",
    "disb as (select distinct disbursementDateTime, customerId, loanType, loanAccountNumber, SUBSTR(mobileNo, -10) as mobileno , loanPaidStatus\n",
    ", row_number() over(partition by SUBSTR(mobileNo, -10) order by SUBSTR(mobileNo, -10))rnk\n",
    "from `risk_credit_mis.loan_master_table`, dt \n",
    "where \n",
    "date_trunc(disbursementDateTime, day) <= dt.WkendDate\n",
    "-- between dt.WkstartDate and dt.WkendDate \n",
    "and \n",
    "coalesce(loanPaidStatus, 'NA') not in ('Settled','Completed')\n",
    "),\n",
    "wc1 as \n",
    "(\n",
    "SELECT\n",
    "  dt.WkstartDate,\n",
    "  dt.WkendDate,\n",
    "  Genesys_call_id,\n",
    "  callDatetime,\n",
    "  COALESCE(IS_APC, 0) APC,\n",
    "  COALESCE(IS_RPC, 0) RPC,\n",
    "  COALESCE(IS_PTP,0) PTP,\n",
    "  RIGHT(mobileNumber, 10) mobileNumber,\n",
    "  g.campaignName,\n",
    "  g.agentGroup,\n",
    "  g.agentFullName,\n",
    "  g.employeeId,\n",
    "  g.connected,\n",
    "  g.notConnected,\n",
    "  g.callResult,\n",
    "  ROW_NUMBER() OVER(PARTITION BY Genesys_call_id ORDER BY callDatetime DESC, COALESCE(IS_APC, 0), COALESCE(IS_RPC, 0), COALESCE(IS_PTP, 0))rnk\n",
    "FROM\n",
    "  `risk_credit_mis.call_attempt_history_gensys` g,  dt\n",
    "LEFT JOIN\n",
    "  `dap_ds_poweruser_playground.campaignmaster` cm\n",
    "ON\n",
    "  UPPER(cm.Campaignname) = UPPER(g.campaignName)\n",
    "INNER JOIN disb ON  SUBSTR(disb.mobileNo, -10) = SUBSTR(CAST(g.mobileNumber AS string), -10)\n",
    "WHERE\n",
    "  cm.reference = 'WC'\n",
    "  and disb.rnk = 1\n",
    "  and date(callDatetime) between  dt.WkstartDate and dt.WkendDate\n",
    "), \n",
    "wc as \n",
    "(select wc1.WkstartDate, wc1.WkendDate, Genesys_call_id,\n",
    "callDatetime,\n",
    "APC,\n",
    "RPC,\n",
    "PTP,\n",
    "case when APC = 1 then mobileNumber end apc_m,\n",
    "case when RPC = 1 then mobileNumber end rpc_m,\n",
    "case when PTP = 1 then mobileNumber end ptp_m,\n",
    "mobileNumber,\n",
    "campaignName,\n",
    "agentGroup,\n",
    "agentFullName,\n",
    "employeeId,\n",
    "connected,\n",
    "notConnected,\n",
    "callResult,\n",
    "rnk,\n",
    "from wc1 \n",
    "where rnk = 1\n",
    ")\n",
    ",\n",
    "wcbase as \n",
    "( \n",
    "select wc.WkstartDate, wc.WkendDate,\n",
    " Genesys_call_id,\n",
    "callDatetime,\n",
    "APC,\n",
    "RPC,\n",
    "PTP,\n",
    "mobileNumber,\n",
    "campaignName,\n",
    "agentGroup,\n",
    "agentFullName,\n",
    "employeeId,\n",
    "connected,\n",
    "notConnected,\n",
    "callResult,\n",
    "rnk,\n",
    "apc_m,\n",
    "rpc_m,\n",
    "ptp_m\n",
    "from wc\n",
    ")\n",
    "select\n",
    "(select WkstartDate from dt) WkstartDate,\n",
    "(select WkendDate from dt) WkendDate,\n",
    "(select count(distinct apc_m) from wcbase) apc_wc_connected,\n",
    "(select count(distinct mobileNumber) wccontactrate from wcbase) wccalled,\n",
    "\"\"\"\n",
    "\n",
    "df_wcconnect_monthly = client.query(sq).to_dataframe(progress_bar_type='tqdm')\n",
    "df_wcconnect_monthly['WelcomeCall_ContactRate'] = df_wcconnect_monthly['apc_wc_connected']/df_wcconnect_monthly['wccalled']\n",
    "df_wcconnect_monthly"
   ]
  },
  {
   "cell_type": "markdown",
   "metadata": {},
   "source": [
    "This SQL code seems to be extracting data related to welcome calls from a database, likely in a Google BigQuery environment. Let me explain the logic step by step:\n",
    "\n",
    "1. **Common Table Expressions (CTE): `dt`**\n",
    "   - This CTE (Common Table Expression) creates a temporary table (`dt`) with the start and end dates provided (`sd` and `ed`), used for filtering later.\n",
    "\n",
    "2. **Common Table Expressions (CTE): `disb`**\n",
    "   - This CTE retrieves distinct records from the `risk_credit_mis.loan_master_table` table, filtering for disbursement events that occurred on or before the provided end date (`WkendDate`).\n",
    "   - The `rnk` column is calculated using the `ROW_NUMBER()` function partitioned by the last 10 digits of the mobile number.\n",
    "   - The result is filtered to exclude records with a `loanPaidStatus` of 'Settled' or 'Completed'.\n",
    "\n",
    "3. **Common Table Expressions (CTE): `wc1`**\n",
    "   - This CTE retrieves data from the `risk_credit_mis.call_attempt_history_gensys` table related to welcome calls (`cm.reference = 'WC'`).\n",
    "   - The result is joined with the previously defined `disb` CTE using the last 10 digits of the mobile numbers.\n",
    "   - The `ROW_NUMBER()` function is used to assign a rank to each record based on `callDatetime` and the flags `IS_APC`, `IS_RPC`, and `IS_PTP`.\n",
    "   - The result is filtered to include only records with `rnk = 1`.\n",
    "\n",
    "4. **Common Table Expressions (CTE): `wc`**\n",
    "   - This CTE further refines the data from `wc1`. It includes only records where `rnk = 1`.\n",
    "\n",
    "5. **Common Table Expressions (CTE): `wcbase`**\n",
    "   - This CTE is a copy of the previous `wc` CTE, retaining all columns.\n",
    "\n",
    "6. **Main Query**\n",
    "   - The main query selects various aggregated counts and values from the CTEs, providing metrics related to welcome calls.\n",
    "   - The counts include the number of connected calls (`apc_wc_connected`) and the total number of distinct called mobile numbers (`wccontactrate`).\n",
    "   - Finally, it calculates the contact rate as the ratio of connected calls to the total called numbers.\n",
    "\n",
    "Overall, this code is designed to analyze and report metrics related to welcome calls, specifically focusing on connected calls and contact rates over a specified time period."
   ]
  },
  {
   "cell_type": "markdown",
   "metadata": {},
   "source": [
    "# Reminder Call Contact Rate"
   ]
  },
  {
   "cell_type": "code",
   "execution_count": 4,
   "metadata": {},
   "outputs": [
    {
     "name": "stdout",
     "output_type": "stream",
     "text": [
      "Job ID c0f4184f-8617-4cb3-b843-405e2cfd37df successfully executed: 100%|\u001b[32m██████████\u001b[0m|\n",
      "Downloading: 100%|\u001b[32m██████████\u001b[0m|\n"
     ]
    },
    {
     "data": {
      "text/html": [
       "<div>\n",
       "<style scoped>\n",
       "    .dataframe tbody tr th:only-of-type {\n",
       "        vertical-align: middle;\n",
       "    }\n",
       "\n",
       "    .dataframe tbody tr th {\n",
       "        vertical-align: top;\n",
       "    }\n",
       "\n",
       "    .dataframe thead th {\n",
       "        text-align: right;\n",
       "    }\n",
       "</style>\n",
       "<table border=\"1\" class=\"dataframe\">\n",
       "  <thead>\n",
       "    <tr style=\"text-align: right;\">\n",
       "      <th></th>\n",
       "      <th>WkstartDate</th>\n",
       "      <th>WkendDate</th>\n",
       "      <th>apc_rc_connected</th>\n",
       "      <th>rccalled</th>\n",
       "      <th>remindercallcontactrate</th>\n",
       "    </tr>\n",
       "  </thead>\n",
       "  <tbody>\n",
       "    <tr>\n",
       "      <th>0</th>\n",
       "      <td>2024-04-01</td>\n",
       "      <td>2024-04-07</td>\n",
       "      <td>2295</td>\n",
       "      <td>6934</td>\n",
       "      <td>0.330978</td>\n",
       "    </tr>\n",
       "  </tbody>\n",
       "</table>\n",
       "</div>"
      ],
      "text/plain": [
       "  WkstartDate   WkendDate  apc_rc_connected  rccalled  remindercallcontactrate\n",
       "0  2024-04-01  2024-04-07              2295      6934                 0.330978"
      ]
     },
     "execution_count": 4,
     "metadata": {},
     "output_type": "execute_result"
    }
   ],
   "source": [
    "sq = f\"\"\"WITH\n",
    "  dt AS (\n",
    "  SELECT\n",
    "    DATE('{sd}') WkstartDate,\n",
    "    DATE('{ed}') WkendDate),\n",
    "disb as (select distinct disbursementDateTime, customerId, loanType, loanAccountNumber, SUBSTR(mobileNo, -10) as mobileno , loanPaidStatus\n",
    ", row_number() over(partition by SUBSTR(mobileNo, -10) order by SUBSTR(mobileNo, -10))rnk\n",
    "from `risk_credit_mis.loan_master_table`, dt \n",
    "where \n",
    "date_trunc(disbursementDateTime, day) <= dt.WkendDate\n",
    "-- between dt.WkstartDate and dt.WkendDate \n",
    "and \n",
    "coalesce(loanPaidStatus, 'NA') not in ('Settled','Completed')\n",
    "),\n",
    "rc1 as \n",
    "(\n",
    "SELECT\n",
    "  dt.WkstartDate,\n",
    "  dt.WkendDate,\n",
    "  Genesys_call_id,\n",
    "  callDatetime,\n",
    "  COALESCE(IS_APC, 0) APC,\n",
    "  COALESCE(IS_RPC, 0) RPC,\n",
    "  COALESCE(IS_PTP,0) PTP,\n",
    "  RIGHT(mobileNumber, 10) mobileNumber,\n",
    "  g.campaignName,\n",
    "  g.agentGroup,\n",
    "  g.agentFullName,\n",
    "  g.employeeId,\n",
    "  g.connected,\n",
    "  g.notConnected,\n",
    "  g.callResult,\n",
    "  ROW_NUMBER() OVER(PARTITION BY Genesys_call_id ORDER BY callDatetime DESC, COALESCE(IS_APC, 0), COALESCE(IS_RPC, 0), COALESCE(IS_PTP, 0))rnk\n",
    "FROM\n",
    "  `risk_credit_mis.call_attempt_history_gensys` g,  dt\n",
    "LEFT JOIN\n",
    "  `dap_ds_poweruser_playground.campaignmaster` cm\n",
    "ON\n",
    "  UPPER(cm.Campaignname) = UPPER(g.campaignName)\n",
    "INNER JOIN disb ON  SUBSTR(disb.mobileNo, -10) = SUBSTR(CAST(g.mobileNumber AS string), -10)\n",
    "WHERE\n",
    "  cm.reference = 'REM'\n",
    "  and disb.rnk = 1\n",
    "  and date(callDatetime) between  dt.WkstartDate and dt.WkendDate\n",
    "), \n",
    "rc as \n",
    "(select rc1.WkstartDate, rc1.WkendDate, Genesys_call_id,\n",
    "callDatetime,\n",
    "APC,\n",
    "RPC,\n",
    "PTP,\n",
    "case when APC = 1 then mobileNumber end apc_m,\n",
    "case when RPC = 1 then mobileNumber end rpc_m,\n",
    "case when PTP = 1 then mobileNumber end ptp_m,\n",
    "mobileNumber,\n",
    "campaignName,\n",
    "agentGroup,\n",
    "agentFullName,\n",
    "employeeId,\n",
    "connected,\n",
    "notConnected,\n",
    "callResult,\n",
    "rnk,\n",
    "from rc1 \n",
    "where rnk = 1\n",
    ")\n",
    ",\n",
    "rcbase as \n",
    "( \n",
    "select rc.WkstartDate, rc.WkendDate,\n",
    " Genesys_call_id,\n",
    "callDatetime,\n",
    "APC,\n",
    "RPC,\n",
    "PTP,\n",
    "mobileNumber,\n",
    "campaignName,\n",
    "agentGroup,\n",
    "agentFullName,\n",
    "employeeId,\n",
    "connected,\n",
    "notConnected,\n",
    "callResult,\n",
    "rnk,\n",
    "apc_m,\n",
    "rpc_m,\n",
    "ptp_m\n",
    "from rc\n",
    ")\n",
    "select\n",
    "(select WkstartDate from dt) WkstartDate,\n",
    "(select WkendDate from dt) WkendDate,\n",
    "(select count(distinct apc_m) from rcbase) apc_rc_connected,\n",
    "(select count(distinct mobileNumber) rccontactrate from rcbase) rccalled\n",
    "\"\"\"\n",
    "dfremindercall = client.query(sq).to_dataframe(progress_bar_type='tqdm')\n",
    "dfremindercall['remindercallcontactrate'] = dfremindercall['apc_rc_connected']/dfremindercall['rccalled']\n",
    "dfremindercall\n"
   ]
  },
  {
   "cell_type": "code",
   "execution_count": 5,
   "metadata": {},
   "outputs": [
    {
     "data": {
      "text/html": [
       "<div>\n",
       "<style scoped>\n",
       "    .dataframe tbody tr th:only-of-type {\n",
       "        vertical-align: middle;\n",
       "    }\n",
       "\n",
       "    .dataframe tbody tr th {\n",
       "        vertical-align: top;\n",
       "    }\n",
       "\n",
       "    .dataframe thead th {\n",
       "        text-align: right;\n",
       "    }\n",
       "</style>\n",
       "<table border=\"1\" class=\"dataframe\">\n",
       "  <thead>\n",
       "    <tr style=\"text-align: right;\">\n",
       "      <th></th>\n",
       "      <th>WkstartDate</th>\n",
       "      <th>WkendDate</th>\n",
       "      <th>apc_wc_connected</th>\n",
       "      <th>wccalled</th>\n",
       "      <th>WelcomeCall_ContactRate</th>\n",
       "      <th>apc_rc_connected</th>\n",
       "      <th>rccalled</th>\n",
       "      <th>remindercallcontactrate</th>\n",
       "    </tr>\n",
       "  </thead>\n",
       "  <tbody>\n",
       "    <tr>\n",
       "      <th>0</th>\n",
       "      <td>2024-04-01</td>\n",
       "      <td>2024-04-07</td>\n",
       "      <td>1096</td>\n",
       "      <td>1982</td>\n",
       "      <td>0.552977</td>\n",
       "      <td>2295</td>\n",
       "      <td>6934</td>\n",
       "      <td>0.330978</td>\n",
       "    </tr>\n",
       "  </tbody>\n",
       "</table>\n",
       "</div>"
      ],
      "text/plain": [
       "  WkstartDate   WkendDate  apc_wc_connected  wccalled  \\\n",
       "0  2024-04-01  2024-04-07              1096      1982   \n",
       "\n",
       "   WelcomeCall_ContactRate  apc_rc_connected  rccalled  \\\n",
       "0                 0.552977              2295      6934   \n",
       "\n",
       "   remindercallcontactrate  \n",
       "0                 0.330978  "
      ]
     },
     "execution_count": 5,
     "metadata": {},
     "output_type": "execute_result"
    }
   ],
   "source": [
    "df = pd.concat([df_wcconnect_monthly,dfremindercall[['apc_rc_connected', 'rccalled', 'remindercallcontactrate']]], axis = 1)\n",
    "df"
   ]
  },
  {
   "cell_type": "markdown",
   "metadata": {},
   "source": [
    "This SQL code appears to be querying data related to reminder calls from a database, potentially in a Google BigQuery environment. Let's break down the logic step by step:\n",
    "\n",
    "1. **Common Table Expressions (CTE): `dt`**\n",
    "   - This CTE creates a temporary table (`dt`) with the start and end dates provided (`sd` and `ed`), used for filtering later.\n",
    "\n",
    "2. **Common Table Expressions (CTE): `disb`**\n",
    "   - This CTE retrieves distinct records from the `risk_credit_mis.loan_master_table` table, filtering for disbursement events that occurred on or before the provided end date (`WkendDate`).\n",
    "   - The `rnk` column is calculated using the `ROW_NUMBER()` function partitioned by the last 10 digits of the mobile number.\n",
    "   - The result is filtered to exclude records with a `loanPaidStatus` of 'Settled' or 'Completed'.\n",
    "\n",
    "3. **Common Table Expressions (CTE): `rc1`**\n",
    "   - This CTE retrieves data from the `risk_credit_mis.call_attempt_history_gensys` table related to reminder calls (`cm.reference = 'REM'`).\n",
    "   - The result is joined with the previously defined `disb` CTE using the last 10 digits of the mobile numbers.\n",
    "   - The `ROW_NUMBER()` function is used to assign a rank to each record based on `callDatetime` and the flags `IS_APC`, `IS_RPC`, and `IS_PTP`.\n",
    "   - The result is filtered to include only records with `rnk = 1`.\n",
    "\n",
    "4. **Common Table Expressions (CTE): `rc`**\n",
    "   - This CTE further refines the data from `rc1`. It includes only records where `rnk = 1`.\n",
    "\n",
    "5. **Common Table Expressions (CTE): `rcbase`**\n",
    "   - This CTE is a copy of the previous `rc` CTE, retaining all columns.\n",
    "\n",
    "6. **Main Query**\n",
    "   - The main query selects various aggregated counts and values from the CTEs, providing metrics related to reminder calls.\n",
    "   - The counts include the number of connected calls (`apc_rc_connected`) and the total number of distinct called mobile numbers (`rccontactrate`).\n",
    "   - Finally, it calculates the contact rate as the ratio of connected calls to the total called numbers.\n",
    "\n",
    "Overall, this code is designed to analyze and report metrics related to reminder calls, specifically focusing on connected calls and contact rates over a specified time period. The logic is quite similar to the previous code related to welcome calls, with adjustments made for the specific criteria and metrics related to reminder calls."
   ]
  },
  {
   "cell_type": "markdown",
   "metadata": {},
   "source": [
    "# Bucket 1 contact Rate"
   ]
  },
  {
   "cell_type": "code",
   "execution_count": 6,
   "metadata": {},
   "outputs": [
    {
     "name": "stdout",
     "output_type": "stream",
     "text": [
      "Job ID f95aab63-1322-41c4-b825-97f07624b98b successfully executed: 100%|\u001b[32m██████████\u001b[0m|\n",
      "Downloading: 100%|\u001b[32m██████████\u001b[0m|\n"
     ]
    },
    {
     "data": {
      "text/html": [
       "<div>\n",
       "<style scoped>\n",
       "    .dataframe tbody tr th:only-of-type {\n",
       "        vertical-align: middle;\n",
       "    }\n",
       "\n",
       "    .dataframe tbody tr th {\n",
       "        vertical-align: top;\n",
       "    }\n",
       "\n",
       "    .dataframe thead th {\n",
       "        text-align: right;\n",
       "    }\n",
       "</style>\n",
       "<table border=\"1\" class=\"dataframe\">\n",
       "  <thead>\n",
       "    <tr style=\"text-align: right;\">\n",
       "      <th></th>\n",
       "      <th>WkstartDate</th>\n",
       "      <th>WkendDate</th>\n",
       "      <th>bucket1contacted</th>\n",
       "      <th>bucketcallcontacted</th>\n",
       "      <th>bucket1contactrate</th>\n",
       "    </tr>\n",
       "  </thead>\n",
       "  <tbody>\n",
       "    <tr>\n",
       "      <th>0</th>\n",
       "      <td>2024-04-01</td>\n",
       "      <td>2024-04-07</td>\n",
       "      <td>975</td>\n",
       "      <td>4758</td>\n",
       "      <td>0.204918</td>\n",
       "    </tr>\n",
       "  </tbody>\n",
       "</table>\n",
       "</div>"
      ],
      "text/plain": [
       "  WkstartDate   WkendDate  bucket1contacted  bucketcallcontacted  \\\n",
       "0  2024-04-01  2024-04-07               975                 4758   \n",
       "\n",
       "   bucket1contactrate  \n",
       "0            0.204918  "
      ]
     },
     "execution_count": 6,
     "metadata": {},
     "output_type": "execute_result"
    }
   ],
   "source": [
    "sq = f\"\"\"WITH\n",
    "  dt AS (\n",
    "  SELECT\n",
    "    DATE('{sd}') WkstartDate,\n",
    "    DATE('{ed}') WkendDate),\n",
    "disb as (select distinct disbursementDateTime, customerId, loanType, loanAccountNumber, SUBSTR(mobileNo, -10) as mobileno , loanPaidStatus\n",
    ", row_number() over(partition by SUBSTR(mobileNo, -10) order by SUBSTR(mobileNo, -10))rnk\n",
    "from `risk_credit_mis.loan_master_table`, dt \n",
    "where \n",
    "date_trunc(disbursementDateTime, day) <= dt.WkendDate\n",
    "-- between dt.WkstartDate and dt.WkendDate \n",
    "and \n",
    "coalesce(loanPaidStatus, 'NA') not in ('Settled','Completed')\n",
    "),\n",
    "cd AS (\n",
    "  SELECT\n",
    "    customer_id,\n",
    "    new_mobile_number,\n",
    "    ROW_NUMBER() OVER(PARTITION BY customer_id ORDER BY change_date)rnk\n",
    "  FROM\n",
    "    `risk_credit_mis.customer_contact_details`\n",
    "  WHERE\n",
    "    ACTIVE = 'Y')\n",
    "  ,\n",
    "  buck1 as \n",
    "  (select distinct dt.WkstartDate, dt.WkendDate, lbfrc.loanAccountNumber, lbfrc.loanStatus, lbfrc.bucketDate, lbfrc.Max_current_DPD as DPD, lmt.customerId, right(cd.new_mobile_number, 10) newmobilenumber\n",
    "  , row_number() over(partition by lbfrc.loanAccountNumber order by lbfrc.bucketDate desc) buck1rnk\n",
    "  from `risk_credit_mis.loan_bucket_flow_report_core` lbfrc, dt \n",
    "  left join `risk_credit_mis.loan_master_table` lmt on lmt.loanAccountNumber = lbfrc.loanAccountNumber\n",
    "  left join cd on cd.customer_id = lmt.customerId\n",
    "  where date(bucketDate) between  date(dt.WkstartDate) and  date(dt.WkendDate)\n",
    "  and coalesce(lbfrc.Max_current_DPD, 0) between 1 and 30 \n",
    "  and date(lbfrc.firstDueDate) <= date(current_date())\n",
    "  and lbfrc.loanStatus = 'In Arrears'\n",
    "  and cd.rnk = 1\n",
    "  )\n",
    "    ,\n",
    "buck1cr1 as \n",
    "(select distinct\n",
    " dt.WkstartDate,\n",
    "  dt.WkendDate,\n",
    "  g.Genesys_call_id,\n",
    "  g.callDatetime,\n",
    "  COALESCE(g.IS_APC, 0) APC,\n",
    "  COALESCE(g.IS_RPC, 0) RPC,\n",
    "  COALESCE(g.IS_PTP,0) PTP,\n",
    "  RIGHT(g.mobileNumber, 10) mobileNumber,\n",
    "  buck1.newmobilenumber mobilefrombuckettable,\n",
    "  g.campaignName,\n",
    "  g.agentGroup,\n",
    "  g.agentFullName,\n",
    "  g.employeeId,\n",
    "  g.connected,\n",
    "  g.notConnected,\n",
    "  g.callResult, \n",
    "  buck1.loanAccountNumber,\n",
    "  buck1.DPD,\n",
    "  case when g.IS_APC = 1 then g.mobileNumber end apc_m,\n",
    "  case when g.IS_RPC = 1 then g.mobileNumber end rpc_m,\n",
    "  case when g.IS_PTP = 1 then mobileNumber end ptp_m,\n",
    "  ROW_NUMBER() OVER(PARTITION BY g.Genesys_call_id ORDER BY g.callDatetime DESC, COALESCE(g.IS_APC, 0), COALESCE(g.IS_RPC, 0), COALESCE(g.IS_PTP, 0))rnk \n",
    "from  `risk_credit_mis.call_attempt_history_gensys` g,  dt\n",
    "inner join buck1 on buck1.newmobilenumber = right(g.mobileNumber,10)\n",
    "LEFT JOIN  `dap_ds_poweruser_playground.campaignmaster` cm ON  UPPER(cm.Campaignname) = UPPER(g.campaignName)\n",
    "where cm.Reference = 'COLL' and cm.Subcategory = 'SOFT'\n",
    "AND DATE(g.callDatetime) BETWEEN DATE(dt.WkstartDate) AND DATE(dt.WkendDate)\n",
    "and buck1.buck1rnk = 1\n",
    "\n",
    ")\n",
    ",\n",
    "buck1cr1base as \n",
    "(select buck1cr1.WkstartDate, buck1cr1.WkendDate, buck1cr1.Genesys_call_id, buck1cr1.callDatetime\n",
    ", buck1cr1.mobileNumber\n",
    ", buck1cr1.mobilefrombuckettable\n",
    ", buck1cr1.campaignName\n",
    ", buck1cr1.agentGroup\n",
    ", buck1cr1.agentFullName\n",
    ", buck1cr1.employeeId\n",
    ", buck1cr1.connected\n",
    ", buck1cr1.notConnected\n",
    ", buck1cr1.callResult\n",
    ", buck1cr1.loanAccountNumber\n",
    ", buck1cr1.apc_m \n",
    ", buck1cr1.rpc_m\n",
    ", buck1cr1.ptp_m \n",
    ", buck1cr1.DPD\n",
    ", buck1cr1.rnk \n",
    " from buck1cr1 where rnk = 1\n",
    ")\n",
    "Select * \n",
    ", (select count(distinct apc_m) from buck1cr1base) bucket1contacted,\n",
    "(select count(distinct mobilefrombuckettable) Bucket1callcontactrate from buck1cr1base where mobilefrombuckettable is not null)bucketcallcontacted\n",
    "from dt;\"\"\"\n",
    "\n",
    "dfbucket1contactrate = client.query(sq).to_dataframe(progress_bar_type='tqdm')\n",
    "dfbucket1contactrate['bucket1contactrate'] = dfbucket1contactrate['bucket1contacted']/dfbucket1contactrate['bucketcallcontacted']\n",
    "dfbucket1contactrate"
   ]
  },
  {
   "cell_type": "code",
   "execution_count": 7,
   "metadata": {},
   "outputs": [
    {
     "data": {
      "text/html": [
       "<div>\n",
       "<style scoped>\n",
       "    .dataframe tbody tr th:only-of-type {\n",
       "        vertical-align: middle;\n",
       "    }\n",
       "\n",
       "    .dataframe tbody tr th {\n",
       "        vertical-align: top;\n",
       "    }\n",
       "\n",
       "    .dataframe thead th {\n",
       "        text-align: right;\n",
       "    }\n",
       "</style>\n",
       "<table border=\"1\" class=\"dataframe\">\n",
       "  <thead>\n",
       "    <tr style=\"text-align: right;\">\n",
       "      <th></th>\n",
       "      <th>WkstartDate</th>\n",
       "      <th>WkendDate</th>\n",
       "      <th>apc_wc_connected</th>\n",
       "      <th>wccalled</th>\n",
       "      <th>WelcomeCall_ContactRate</th>\n",
       "      <th>apc_rc_connected</th>\n",
       "      <th>rccalled</th>\n",
       "      <th>remindercallcontactrate</th>\n",
       "      <th>bucket1contacted</th>\n",
       "      <th>bucketcallcontacted</th>\n",
       "      <th>bucket1contactrate</th>\n",
       "    </tr>\n",
       "  </thead>\n",
       "  <tbody>\n",
       "    <tr>\n",
       "      <th>0</th>\n",
       "      <td>2024-04-01</td>\n",
       "      <td>2024-04-07</td>\n",
       "      <td>1096</td>\n",
       "      <td>1982</td>\n",
       "      <td>0.552977</td>\n",
       "      <td>2295</td>\n",
       "      <td>6934</td>\n",
       "      <td>0.330978</td>\n",
       "      <td>975</td>\n",
       "      <td>4758</td>\n",
       "      <td>0.204918</td>\n",
       "    </tr>\n",
       "  </tbody>\n",
       "</table>\n",
       "</div>"
      ],
      "text/plain": [
       "  WkstartDate   WkendDate  apc_wc_connected  wccalled  \\\n",
       "0  2024-04-01  2024-04-07              1096      1982   \n",
       "\n",
       "   WelcomeCall_ContactRate  apc_rc_connected  rccalled  \\\n",
       "0                 0.552977              2295      6934   \n",
       "\n",
       "   remindercallcontactrate  bucket1contacted  bucketcallcontacted  \\\n",
       "0                 0.330978               975                 4758   \n",
       "\n",
       "   bucket1contactrate  \n",
       "0            0.204918  "
      ]
     },
     "execution_count": 7,
     "metadata": {},
     "output_type": "execute_result"
    }
   ],
   "source": [
    "df = pd.concat([df,dfbucket1contactrate[['bucket1contacted', 'bucketcallcontacted', 'bucket1contactrate']]], axis = 1)\n",
    "df"
   ]
  },
  {
   "cell_type": "markdown",
   "metadata": {},
   "source": [
    "This SQL code appears to be querying data related to a specific type of call campaign, likely associated with loan collections or debt recovery. Let's break down the logic step by step:\n",
    "\n",
    "1. **Common Table Expressions (CTE): `dt`**\n",
    "   - Similar to previous examples, this CTE creates a temporary table (`dt`) with the start and end dates provided (`sd` and `ed`), used for filtering later.\n",
    "\n",
    "2. **Common Table Expressions (CTE): `disb`**\n",
    "   - This CTE retrieves distinct records from the `risk_credit_mis.loan_master_table` table, filtering for disbursement events that occurred on or before the provided end date (`WkendDate`).\n",
    "   - The `rnk` column is calculated using the `ROW_NUMBER()` function partitioned by the last 10 digits of the mobile number.\n",
    "   - The result is filtered to exclude records with a `loanPaidStatus` of 'Settled' or 'Completed'.\n",
    "\n",
    "3. **Common Table Expressions (CTE): `cd`**\n",
    "   - This CTE retrieves data from the `risk_credit_mis.customer_contact_details` table, including the customer ID and new mobile number, with row numbers assigned based on the change date.\n",
    "\n",
    "4. **Common Table Expressions (CTE): `buck1`**\n",
    "   - This CTE retrieves data related to loans in arrears from the `risk_credit_mis.loan_bucket_flow_report_core` table, considering only loans with a maximum current DPD (Days Past Due) between 1 and 30.\n",
    "   - It also joins with the previously defined `disb` CTE and applies additional filters.\n",
    "   - The result is assigned a row number based on the bucket date in descending order.\n",
    "\n",
    "5. **Common Table Expressions (CTE): `buck1cr1`**\n",
    "   - This CTE retrieves call attempt data related to collections from the `risk_credit_mis.call_attempt_history_gensys` table.\n",
    "   - It joins with the `buck1` CTE and includes details such as campaign information, call results, and row numbers based on the call datetime and flags for different call types (APC, RPC, PTP).\n",
    "   - The result is filtered to include only records with `rnk = 1` and calls associated with the 'COLL' reference and 'SOFT' subcategory.\n",
    "\n",
    "6. **Common Table Expressions (CTE): `buck1cr1base`**\n",
    "   - This CTE is a copy of the previous `buck1cr1` CTE, retaining all columns.\n",
    "\n",
    "7. **Main Query**\n",
    "   - The main query selects various aggregated counts and values from the CTEs, providing metrics related to calls associated with loans in arrears.\n",
    "   - The counts include the number of connected calls (`bucket1contacted`) and the total number of distinct mobile numbers contacted (`Bucket1callcontactrate`).\n",
    "   - Finally, it calculates the contact rate as the ratio of connected calls to the total called numbers.\n",
    "\n",
    "Overall, this code is designed to analyze and report metrics related to calls associated with loans in arrears, specifically focusing on connected calls and contact rates over a specified time period. The logic involves joining and filtering data from multiple tables to extract relevant information for analysis."
   ]
  },
  {
   "cell_type": "markdown",
   "metadata": {},
   "source": [
    "# Bucket 1 Normalization (Greg)"
   ]
  },
  {
   "cell_type": "code",
   "execution_count": 8,
   "metadata": {},
   "outputs": [
    {
     "name": "stdout",
     "output_type": "stream",
     "text": [
      "Job ID 1dffa6d8-e159-4d5e-8957-5f01f34fc9f3 successfully executed: 100%|\u001b[32m██████████\u001b[0m|\n",
      "Downloading: 100%|\u001b[32m██████████\u001b[0m|\n"
     ]
    },
    {
     "data": {
      "text/html": [
       "<div>\n",
       "<style scoped>\n",
       "    .dataframe tbody tr th:only-of-type {\n",
       "        vertical-align: middle;\n",
       "    }\n",
       "\n",
       "    .dataframe tbody tr th {\n",
       "        vertical-align: top;\n",
       "    }\n",
       "\n",
       "    .dataframe thead th {\n",
       "        text-align: right;\n",
       "    }\n",
       "</style>\n",
       "<table border=\"1\" class=\"dataframe\">\n",
       "  <thead>\n",
       "    <tr style=\"text-align: right;\">\n",
       "      <th></th>\n",
       "      <th>WkstartDate</th>\n",
       "      <th>WkendDate</th>\n",
       "      <th>Normalized_Greg</th>\n",
       "      <th>Normalized_denominator</th>\n",
       "      <th>Bucket1_Normalized</th>\n",
       "    </tr>\n",
       "  </thead>\n",
       "  <tbody>\n",
       "    <tr>\n",
       "      <th>0</th>\n",
       "      <td>2024-04-01</td>\n",
       "      <td>2024-04-07</td>\n",
       "      <td>952</td>\n",
       "      <td>3661</td>\n",
       "      <td>0.260038</td>\n",
       "    </tr>\n",
       "  </tbody>\n",
       "</table>\n",
       "</div>"
      ],
      "text/plain": [
       "  WkstartDate   WkendDate  Normalized_Greg  Normalized_denominator  \\\n",
       "0  2024-04-01  2024-04-07              952                    3661   \n",
       "\n",
       "   Bucket1_Normalized  \n",
       "0            0.260038  "
      ]
     },
     "execution_count": 8,
     "metadata": {},
     "output_type": "execute_result"
    }
   ],
   "source": [
    "sq = f\"\"\"WITH\n",
    "  dt AS (\n",
    "  SELECT\n",
    "    DATE('{sd}') WkstartDate,\n",
    "    DATE('{ed}') WkendDate),\n",
    "disb as (select distinct disbursementDateTime, customerId, loanType, loanAccountNumber, SUBSTR(mobileNo, -10) as mobileno , loanPaidStatus\n",
    ", row_number() over(partition by SUBSTR(mobileNo, -10) order by SUBSTR(mobileNo, -10))rnk\n",
    "from `risk_credit_mis.loan_master_table`, dt \n",
    "where \n",
    "date_trunc(disbursementDateTime, day) <= dt.WkendDate\n",
    "-- between dt.WkstartDate and dt.WkendDate \n",
    "and \n",
    "coalesce(loanPaidStatus, 'NA') not in ('Settled','Completed')\n",
    "),\n",
    "cd AS (\n",
    "  SELECT\n",
    "    customer_id,\n",
    "    new_mobile_number,\n",
    "    ROW_NUMBER() OVER(PARTITION BY customer_id ORDER BY change_date)rnk\n",
    "  FROM\n",
    "    `risk_credit_mis.customer_contact_details`\n",
    "  WHERE\n",
    "    ACTIVE = 'Y')\n",
    "  ,\n",
    "buck1 as \n",
    "(select distinct dt.WkstartDate, dt.WkendDate, lbfrc.bucketDate, lbfrc.loanAccountNumber, lbfrc.loanStatus, lbfrc.bucketDate, lbfrc.Max_current_DPD as DPD\n",
    "  , lmt.customerId, right(cd.new_mobile_number, 10) newmobilenumber from `risk_credit_mis.loan_bucket_flow_report_core` lbfrc, dt \n",
    "  left join `risk_credit_mis.loan_master_table` lmt on lmt.loanAccountNumber = lbfrc.loanAccountNumber\n",
    "  left join cd on cd.customer_id = lmt.customerId\n",
    "  where date(bucketDate) =  date(dt.WkstartDate) and coalesce(lbfrc.Max_current_DPD, 0) between 1 and 30 ),\n",
    "buck1end as\n",
    "(select distinct dt.WkstartDate, dt.WkendDate, lbfrc.bucketDate, lbfrc.loanAccountNumber, lbfrc.loanStatus, lbfrc.bucketDate, lbfrc.Max_current_DPD as DPD\n",
    "  , lmt.customerId, right(cd.new_mobile_number, 10) newmobilenumber \n",
    "from `risk_credit_mis.loan_bucket_flow_report_core` lbfrc, dt \n",
    "inner join buck1 on buck1.loanAccountNumber = lbfrc.loanAccountNumber\n",
    "left join `risk_credit_mis.loan_master_table` lmt on lmt.loanAccountNumber = lbfrc.loanAccountNumber\n",
    "left join cd on cd.customer_id = lmt.customerId\n",
    "where date(lbfrc.bucketDate) =  date(dt.WkendDate))\n",
    "select  dt.WkstartDate, dt.WkendDate\n",
    ", count(distinct case when coalesce(buck1end.DPD, 0) <= coalesce(buck1.DPD, 0) then buck1.loanAccountNumber end) Normalized_Greg\n",
    ", count(distinct buck1.loanAccountNumber) Normalized_denominator\n",
    "from buck1, dt\n",
    "left join buck1end on buck1end.loanAccountNumber = buck1.loanAccountNumber\n",
    "group by 1, 2\n",
    "\n",
    "\"\"\"\n",
    "dfbuck1normalizationgreg = client.query(sq).to_dataframe(progress_bar_type='tqdm')\n",
    "dfbuck1normalizationgreg['Bucket1_Normalized'] = dfbuck1normalizationgreg['Normalized_Greg']/dfbuck1normalizationgreg['Normalized_denominator']\n",
    "dfbuck1normalizationgreg"
   ]
  },
  {
   "cell_type": "code",
   "execution_count": 9,
   "metadata": {},
   "outputs": [
    {
     "data": {
      "text/html": [
       "<div>\n",
       "<style scoped>\n",
       "    .dataframe tbody tr th:only-of-type {\n",
       "        vertical-align: middle;\n",
       "    }\n",
       "\n",
       "    .dataframe tbody tr th {\n",
       "        vertical-align: top;\n",
       "    }\n",
       "\n",
       "    .dataframe thead th {\n",
       "        text-align: right;\n",
       "    }\n",
       "</style>\n",
       "<table border=\"1\" class=\"dataframe\">\n",
       "  <thead>\n",
       "    <tr style=\"text-align: right;\">\n",
       "      <th></th>\n",
       "      <th>WkstartDate</th>\n",
       "      <th>WkendDate</th>\n",
       "      <th>apc_wc_connected</th>\n",
       "      <th>wccalled</th>\n",
       "      <th>WelcomeCall_ContactRate</th>\n",
       "      <th>apc_rc_connected</th>\n",
       "      <th>rccalled</th>\n",
       "      <th>remindercallcontactrate</th>\n",
       "      <th>bucket1contacted</th>\n",
       "      <th>bucketcallcontacted</th>\n",
       "      <th>bucket1contactrate</th>\n",
       "      <th>Normalized_Greg</th>\n",
       "      <th>Normalized_denominator</th>\n",
       "      <th>Bucket1_Normalized</th>\n",
       "    </tr>\n",
       "  </thead>\n",
       "  <tbody>\n",
       "    <tr>\n",
       "      <th>0</th>\n",
       "      <td>2024-04-01</td>\n",
       "      <td>2024-04-07</td>\n",
       "      <td>1096</td>\n",
       "      <td>1982</td>\n",
       "      <td>0.552977</td>\n",
       "      <td>2295</td>\n",
       "      <td>6934</td>\n",
       "      <td>0.330978</td>\n",
       "      <td>975</td>\n",
       "      <td>4758</td>\n",
       "      <td>0.204918</td>\n",
       "      <td>952</td>\n",
       "      <td>3661</td>\n",
       "      <td>0.260038</td>\n",
       "    </tr>\n",
       "  </tbody>\n",
       "</table>\n",
       "</div>"
      ],
      "text/plain": [
       "  WkstartDate   WkendDate  apc_wc_connected  wccalled  \\\n",
       "0  2024-04-01  2024-04-07              1096      1982   \n",
       "\n",
       "   WelcomeCall_ContactRate  apc_rc_connected  rccalled  \\\n",
       "0                 0.552977              2295      6934   \n",
       "\n",
       "   remindercallcontactrate  bucket1contacted  bucketcallcontacted  \\\n",
       "0                 0.330978               975                 4758   \n",
       "\n",
       "   bucket1contactrate  Normalized_Greg  Normalized_denominator  \\\n",
       "0            0.204918              952                    3661   \n",
       "\n",
       "   Bucket1_Normalized  \n",
       "0            0.260038  "
      ]
     },
     "execution_count": 9,
     "metadata": {},
     "output_type": "execute_result"
    }
   ],
   "source": [
    "df = pd.concat([df, dfbuck1normalizationgreg[['Normalized_Greg','Normalized_denominator','Bucket1_Normalized']]], axis = 1)\n",
    "df"
   ]
  },
  {
   "cell_type": "markdown",
   "metadata": {},
   "source": [
    "This SQL code seems to be calculating a normalization factor for a specific scenario related to loans and their bucket flow. Let's break down the logic step by step:\n",
    "\n",
    "1. **Common Table Expressions (CTE): `dt`**\n",
    "   - This CTE creates a temporary table (`dt`) with the start and end dates provided (`sd` and `ed`), used for filtering later.\n",
    "\n",
    "2. **Common Table Expressions (CTE): `disb`**\n",
    "   - This CTE retrieves distinct records from the `risk_credit_mis.loan_master_table` table, filtering for disbursement events that occurred on or before the provided end date (`WkendDate`).\n",
    "   - The `rnk` column is calculated using the `ROW_NUMBER()` function partitioned by the last 10 digits of the mobile number.\n",
    "   - The result is filtered to exclude records with a `loanPaidStatus` of 'Settled' or 'Completed'.\n",
    "\n",
    "3. **Common Table Expressions (CTE): `cd`**\n",
    "   - This CTE retrieves data from the `risk_credit_mis.customer_contact_details` table, including the customer ID and new mobile number, with row numbers assigned based on the change date.\n",
    "\n",
    "4. **Common Table Expressions (CTE): `buck1`**\n",
    "   - This CTE retrieves data related to loans in a specific DPD (Days Past Due) range from the `risk_credit_mis.loan_bucket_flow_report_core` table.\n",
    "   - It joins with the previously defined `disb` CTE and includes additional information about the loan, customer, and mobile number.\n",
    "   - The result is filtered to consider only the bucket date matching the start date (`WkstartDate`) and where the DPD is between 1 and 30.\n",
    "\n",
    "5. **Common Table Expressions (CTE): `buck1end`**\n",
    "   - This CTE refines the data from `buck1` by joining with the same bucket flow report table but considering the end date (`WkendDate`).\n",
    "   - It includes information about the loan, customer, and mobile number.\n",
    "\n",
    "6. **Main Query**\n",
    "   - The main query calculates a normalization factor for a specific scenario related to loans and their bucket flow.\n",
    "   - It counts the number of distinct loans where the DPD at the end date is less than or equal to the DPD at the start date (`Normalized_Greg`).\n",
    "   - It also counts the total number of distinct loans at the start date (`Normalized_denominator`).\n",
    "   - The final result includes the start and end dates, along with the calculated normalization factor (`Bucket1_Normalized`), which is the ratio of `Normalized_Greg` to `Normalized_denominator`.\n",
    "\n",
    "Overall, this code is designed to analyze and report on the normalization factor for a specific scenario involving loans, their bucket flow, and the Days Past Due (DPD) values over a specified time period. The normalization factor provides insight into how many loans have maintained or improved their DPD status within the given time frame."
   ]
  },
  {
   "cell_type": "markdown",
   "metadata": {},
   "source": [
    "# Bucket 2 Contact Rate"
   ]
  },
  {
   "cell_type": "code",
   "execution_count": 10,
   "metadata": {},
   "outputs": [
    {
     "data": {
      "text/html": [
       "<div>\n",
       "<style scoped>\n",
       "    .dataframe tbody tr th:only-of-type {\n",
       "        vertical-align: middle;\n",
       "    }\n",
       "\n",
       "    .dataframe tbody tr th {\n",
       "        vertical-align: top;\n",
       "    }\n",
       "\n",
       "    .dataframe thead th {\n",
       "        text-align: right;\n",
       "    }\n",
       "</style>\n",
       "<table border=\"1\" class=\"dataframe\">\n",
       "  <thead>\n",
       "    <tr style=\"text-align: right;\">\n",
       "      <th></th>\n",
       "      <th>WkstartDate</th>\n",
       "      <th>WkendDate</th>\n",
       "      <th>bucket2contacted</th>\n",
       "      <th>bucket2callcontacted</th>\n",
       "      <th>bucket2contactrate</th>\n",
       "    </tr>\n",
       "  </thead>\n",
       "  <tbody>\n",
       "    <tr>\n",
       "      <th>0</th>\n",
       "      <td>2024-04-01</td>\n",
       "      <td>2024-04-07</td>\n",
       "      <td>148</td>\n",
       "      <td>2309</td>\n",
       "      <td>0.064097</td>\n",
       "    </tr>\n",
       "  </tbody>\n",
       "</table>\n",
       "</div>"
      ],
      "text/plain": [
       "  WkstartDate   WkendDate  bucket2contacted  bucket2callcontacted  \\\n",
       "0  2024-04-01  2024-04-07               148                  2309   \n",
       "\n",
       "   bucket2contactrate  \n",
       "0            0.064097  "
      ]
     },
     "execution_count": 10,
     "metadata": {},
     "output_type": "execute_result"
    }
   ],
   "source": [
    "sq = f\"\"\"WITH\n",
    "  dt AS (\n",
    "  SELECT\n",
    "    DATE('{sd}') WkstartDate,\n",
    "    DATE('{ed}') WkendDate),\n",
    "disb as (select distinct disbursementDateTime, customerId, loanType, loanAccountNumber, SUBSTR(mobileNo, -10) as mobileno , loanPaidStatus\n",
    ", row_number() over(partition by SUBSTR(mobileNo, -10) order by SUBSTR(mobileNo, -10))rnk\n",
    "from `risk_credit_mis.loan_master_table`, dt \n",
    "where \n",
    "date_trunc(disbursementDateTime, day) <= dt.WkendDate\n",
    "-- between dt.WkstartDate and dt.WkendDate \n",
    "and \n",
    "coalesce(loanPaidStatus, 'NA') not in ('Settled','Completed')\n",
    "),\n",
    "cd AS (\n",
    "  SELECT\n",
    "    customer_id,\n",
    "    new_mobile_number,\n",
    "    ROW_NUMBER() OVER(PARTITION BY customer_id ORDER BY change_date)rnk\n",
    "  FROM\n",
    "    `risk_credit_mis.customer_contact_details`\n",
    "  WHERE\n",
    "    ACTIVE = 'Y')\n",
    "  ,\n",
    "  buck2 as \n",
    "  (select distinct dt.WkstartDate, dt.WkendDate, lbfrc.loanAccountNumber, lbfrc.loanStatus, lbfrc.bucketDate, lbfrc.Max_current_DPD as DPD, lmt.customerId, right(cd.new_mobile_number, 10) newmobilenumber\n",
    "  , row_number() over(partition by lbfrc.loanAccountNumber order by lbfrc.bucketDate desc) buck2rnk\n",
    "  from `risk_credit_mis.loan_bucket_flow_report_core` lbfrc, dt \n",
    "  left join `risk_credit_mis.loan_master_table` lmt on lmt.loanAccountNumber = lbfrc.loanAccountNumber\n",
    "  left join cd on cd.customer_id = lmt.customerId\n",
    "  where date(bucketDate) between  date(dt.WkstartDate) and  date(dt.WkendDate)\n",
    "  and coalesce(lbfrc.Max_current_DPD, 0) between 31 and 60 \n",
    "  and date(lbfrc.firstDueDate) <= date(current_date())\n",
    "  and lbfrc.loanStatus = 'In Arrears'\n",
    "  and cd.rnk = 1\n",
    "  )\n",
    "    ,\n",
    "buck2cr2 as \n",
    "(select distinct\n",
    " dt.WkstartDate,\n",
    "  dt.WkendDate,\n",
    "  g.Genesys_call_id,\n",
    "  g.callDatetime,\n",
    "  COALESCE(g.IS_APC, 0) APC,\n",
    "  COALESCE(g.IS_RPC, 0) RPC,\n",
    "  COALESCE(g.IS_PTP,0) PTP,\n",
    "  RIGHT(g.mobileNumber, 10) mobileNumber,\n",
    "  buck2.newmobilenumber mobilefrombuckettable,\n",
    "  g.campaignName,\n",
    "  g.agentGroup,\n",
    "  g.agentFullName,\n",
    "  g.employeeId,\n",
    "  g.connected,\n",
    "  g.notConnected,\n",
    "  g.callResult, \n",
    "  buck2.loanAccountNumber,\n",
    "  buck2.DPD,\n",
    "  case when g.IS_APC = 1 then g.mobileNumber end apc_m,\n",
    "  case when g.IS_RPC = 1 then g.mobileNumber end rpc_m,\n",
    "  case when g.IS_PTP = 1 then mobileNumber end ptp_m,\n",
    "  ROW_NUMBER() OVER(PARTITION BY g.Genesys_call_id ORDER BY g.callDatetime DESC, COALESCE(g.IS_APC, 0), COALESCE(g.IS_RPC, 0), COALESCE(g.IS_PTP, 0))rnk \n",
    "from  `risk_credit_mis.call_attempt_history_gensys` g,  dt\n",
    "inner join buck2 on buck2.newmobilenumber = right(g.mobileNumber,10)\n",
    "LEFT JOIN  `dap_ds_poweruser_playground.campaignmaster` cm ON  UPPER(cm.Campaignname) = UPPER(g.campaignName)\n",
    "where cm.Reference = 'COLL' \n",
    "AND DATE(g.callDatetime) BETWEEN DATE(dt.WkstartDate) AND DATE(dt.WkendDate)\n",
    "and buck2.buck2rnk = 1\n",
    ")\n",
    ",\n",
    "buck2cr2base as \n",
    "(select buck2cr2.WkstartDate, buck2cr2.WkendDate, buck2cr2.Genesys_call_id, buck2cr2.callDatetime\n",
    ", buck2cr2.mobileNumber\n",
    ", buck2cr2.mobilefrombuckettable\n",
    ", buck2cr2.campaignName\n",
    ", buck2cr2.agentGroup\n",
    ", buck2cr2.agentFullName\n",
    ", buck2cr2.employeeId\n",
    ", buck2cr2.connected\n",
    ", buck2cr2.notConnected\n",
    ", buck2cr2.callResult\n",
    ", buck2cr2.loanAccountNumber\n",
    ", buck2cr2.apc_m \n",
    ", buck2cr2.rpc_m\n",
    ", buck2cr2.ptp_m \n",
    ", buck2cr2.DPD\n",
    ", buck2cr2.rnk \n",
    " from buck2cr2 where rnk = 1\n",
    ")\n",
    "Select * \n",
    ", (select count(distinct apc_m) from buck2cr2base) bucket2contacted,\n",
    "(select count(distinct mobilefrombuckettable) Bucket2callcontactrate from buck2cr2base where mobilefrombuckettable is not null)bucket2callcontacted\n",
    "from dt;\n",
    "\"\"\"\n",
    "dfbucket2contactrate = client.query(sq).to_dataframe()\n",
    "dfbucket2contactrate['bucket2contactrate'] = dfbucket2contactrate['bucket2contacted']/dfbucket2contactrate['bucket2callcontacted']\n",
    "dfbucket2contactrate"
   ]
  },
  {
   "cell_type": "code",
   "execution_count": 11,
   "metadata": {},
   "outputs": [
    {
     "data": {
      "text/html": [
       "<div>\n",
       "<style scoped>\n",
       "    .dataframe tbody tr th:only-of-type {\n",
       "        vertical-align: middle;\n",
       "    }\n",
       "\n",
       "    .dataframe tbody tr th {\n",
       "        vertical-align: top;\n",
       "    }\n",
       "\n",
       "    .dataframe thead th {\n",
       "        text-align: right;\n",
       "    }\n",
       "</style>\n",
       "<table border=\"1\" class=\"dataframe\">\n",
       "  <thead>\n",
       "    <tr style=\"text-align: right;\">\n",
       "      <th></th>\n",
       "      <th>WkstartDate</th>\n",
       "      <th>WkendDate</th>\n",
       "      <th>apc_wc_connected</th>\n",
       "      <th>wccalled</th>\n",
       "      <th>WelcomeCall_ContactRate</th>\n",
       "      <th>apc_rc_connected</th>\n",
       "      <th>rccalled</th>\n",
       "      <th>remindercallcontactrate</th>\n",
       "      <th>bucket1contacted</th>\n",
       "      <th>bucketcallcontacted</th>\n",
       "      <th>bucket1contactrate</th>\n",
       "      <th>Normalized_Greg</th>\n",
       "      <th>Normalized_denominator</th>\n",
       "      <th>Bucket1_Normalized</th>\n",
       "      <th>bucket2contacted</th>\n",
       "      <th>bucket2callcontacted</th>\n",
       "      <th>bucket2contactrate</th>\n",
       "    </tr>\n",
       "  </thead>\n",
       "  <tbody>\n",
       "    <tr>\n",
       "      <th>0</th>\n",
       "      <td>2024-04-01</td>\n",
       "      <td>2024-04-07</td>\n",
       "      <td>1096</td>\n",
       "      <td>1982</td>\n",
       "      <td>0.552977</td>\n",
       "      <td>2295</td>\n",
       "      <td>6934</td>\n",
       "      <td>0.330978</td>\n",
       "      <td>975</td>\n",
       "      <td>4758</td>\n",
       "      <td>0.204918</td>\n",
       "      <td>952</td>\n",
       "      <td>3661</td>\n",
       "      <td>0.260038</td>\n",
       "      <td>148</td>\n",
       "      <td>2309</td>\n",
       "      <td>0.064097</td>\n",
       "    </tr>\n",
       "  </tbody>\n",
       "</table>\n",
       "</div>"
      ],
      "text/plain": [
       "  WkstartDate   WkendDate  apc_wc_connected  wccalled  \\\n",
       "0  2024-04-01  2024-04-07              1096      1982   \n",
       "\n",
       "   WelcomeCall_ContactRate  apc_rc_connected  rccalled  \\\n",
       "0                 0.552977              2295      6934   \n",
       "\n",
       "   remindercallcontactrate  bucket1contacted  bucketcallcontacted  \\\n",
       "0                 0.330978               975                 4758   \n",
       "\n",
       "   bucket1contactrate  Normalized_Greg  Normalized_denominator  \\\n",
       "0            0.204918              952                    3661   \n",
       "\n",
       "   Bucket1_Normalized  bucket2contacted  bucket2callcontacted  \\\n",
       "0            0.260038               148                  2309   \n",
       "\n",
       "   bucket2contactrate  \n",
       "0            0.064097  "
      ]
     },
     "execution_count": 11,
     "metadata": {},
     "output_type": "execute_result"
    }
   ],
   "source": [
    "df = pd.concat([df, dfbucket2contactrate[['bucket2contacted','bucket2callcontacted','bucket2contactrate']]], axis = 1)\n",
    "df"
   ]
  },
  {
   "cell_type": "markdown",
   "metadata": {},
   "source": [
    "This SQL code appears to be querying data related to a specific type of call campaign, likely associated with loan collections or debt recovery, focusing on loans with Days Past Due (DPD) values between 31 and 60. Let's break down the logic step by step:\n",
    "\n",
    "1. **Common Table Expressions (CTE): `dt`**\n",
    "   - Similar to previous examples, this CTE creates a temporary table (`dt`) with the start and end dates provided (`sd` and `ed`), used for filtering later.\n",
    "\n",
    "2. **Common Table Expressions (CTE): `disb`**\n",
    "   - This CTE retrieves distinct records from the `risk_credit_mis.loan_master_table` table, filtering for disbursement events that occurred on or before the provided end date (`WkendDate`).\n",
    "   - The `rnk` column is calculated using the `ROW_NUMBER()` function partitioned by the last 10 digits of the mobile number.\n",
    "   - The result is filtered to exclude records with a `loanPaidStatus` of 'Settled' or 'Completed'.\n",
    "\n",
    "3. **Common Table Expressions (CTE): `cd`**\n",
    "   - This CTE retrieves data from the `risk_credit_mis.customer_contact_details` table, including the customer ID and new mobile number, with row numbers assigned based on the change date.\n",
    "\n",
    "4. **Common Table Expressions (CTE): `buck2`**\n",
    "   - This CTE retrieves data related to loans with DPD values between 31 and 60 from the `risk_credit_mis.loan_bucket_flow_report_core` table.\n",
    "   - It joins with the previously defined `disb` CTE and includes additional information about the loan, customer, and mobile number.\n",
    "   - The result is filtered to consider only the bucket date between the start and end dates, where the DPD is between 31 and 60.\n",
    "\n",
    "5. **Common Table Expressions (CTE): `buck2cr2`**\n",
    "   - This CTE retrieves call attempt data related to collections from the `risk_credit_mis.call_attempt_history_gensys` table.\n",
    "   - It joins with the `buck2` CTE and includes details such as campaign information, call results, and row numbers based on the call datetime and flags for different call types (APC, RPC, PTP).\n",
    "   - The result is filtered to include only records with `rnk = 1` and calls associated with the 'COLL' reference.\n",
    "\n",
    "6. **Common Table Expressions (CTE): `buck2cr2base`**\n",
    "   - This CTE is a copy of the previous `buck2cr2` CTE, retaining all columns.\n",
    "\n",
    "7. **Main Query**\n",
    "   - The main query selects various aggregated counts and values from the CTEs, providing metrics related to calls associated with loans in the specified DPD range.\n",
    "   - The counts include the number of connected calls (`bucket2contacted`) and the total number of distinct mobile numbers contacted (`Bucket2callcontactrate`).\n",
    "   - Finally, it calculates the contact rate as the ratio of connected calls to the total called numbers.\n",
    "\n",
    "Overall, this code is designed to analyze and report metrics related to calls associated with loans in the specified DPD range (31 to 60), specifically focusing on connected calls and contact rates over a specified time period. The logic involves joining and filtering data from multiple tables to extract relevant information for analysis."
   ]
  },
  {
   "cell_type": "markdown",
   "metadata": {},
   "source": [
    "# Bucket 2 Normalization"
   ]
  },
  {
   "cell_type": "code",
   "execution_count": 12,
   "metadata": {},
   "outputs": [
    {
     "name": "stdout",
     "output_type": "stream",
     "text": [
      "Job ID 77d9cd7c-b939-4048-8493-b2f2fe62f214 successfully executed: 100%|\u001b[32m██████████\u001b[0m|\n",
      "Downloading: 100%|\u001b[32m██████████\u001b[0m|\n"
     ]
    },
    {
     "data": {
      "text/html": [
       "<div>\n",
       "<style scoped>\n",
       "    .dataframe tbody tr th:only-of-type {\n",
       "        vertical-align: middle;\n",
       "    }\n",
       "\n",
       "    .dataframe tbody tr th {\n",
       "        vertical-align: top;\n",
       "    }\n",
       "\n",
       "    .dataframe thead th {\n",
       "        text-align: right;\n",
       "    }\n",
       "</style>\n",
       "<table border=\"1\" class=\"dataframe\">\n",
       "  <thead>\n",
       "    <tr style=\"text-align: right;\">\n",
       "      <th></th>\n",
       "      <th>WkstartDate</th>\n",
       "      <th>WkendDate</th>\n",
       "      <th>Normalized_buck2_Greg</th>\n",
       "      <th>Normalized_buck2_denominator</th>\n",
       "      <th>bucket2Normalizationrate</th>\n",
       "    </tr>\n",
       "  </thead>\n",
       "  <tbody>\n",
       "    <tr>\n",
       "      <th>0</th>\n",
       "      <td>2024-04-01</td>\n",
       "      <td>2024-04-07</td>\n",
       "      <td>106</td>\n",
       "      <td>2119</td>\n",
       "      <td>0.050024</td>\n",
       "    </tr>\n",
       "  </tbody>\n",
       "</table>\n",
       "</div>"
      ],
      "text/plain": [
       "  WkstartDate   WkendDate  Normalized_buck2_Greg  \\\n",
       "0  2024-04-01  2024-04-07                    106   \n",
       "\n",
       "   Normalized_buck2_denominator  bucket2Normalizationrate  \n",
       "0                          2119                  0.050024  "
      ]
     },
     "execution_count": 12,
     "metadata": {},
     "output_type": "execute_result"
    }
   ],
   "source": [
    "sq = f\"\"\"WITH\n",
    "  dt AS (\n",
    "  SELECT\n",
    "    DATE('{sd}') WkstartDate,\n",
    "    DATE('{ed}') WkendDate),\n",
    "disb as (select distinct disbursementDateTime, customerId, loanType, loanAccountNumber, SUBSTR(mobileNo, -10) as mobileno , loanPaidStatus\n",
    ", row_number() over(partition by SUBSTR(mobileNo, -10) order by SUBSTR(mobileNo, -10))rnk\n",
    "from `risk_credit_mis.loan_master_table`, dt \n",
    "where \n",
    "date_trunc(disbursementDateTime, day) <= dt.WkendDate\n",
    "-- between dt.WkstartDate and dt.WkendDate \n",
    "and \n",
    "coalesce(loanPaidStatus, 'NA') not in ('Settled','Completed')\n",
    "),\n",
    "cd AS (\n",
    "  SELECT\n",
    "    customer_id,\n",
    "    new_mobile_number,\n",
    "    ROW_NUMBER() OVER(PARTITION BY customer_id ORDER BY change_date)rnk\n",
    "  FROM\n",
    "    `risk_credit_mis.customer_contact_details`\n",
    "  WHERE\n",
    "    ACTIVE = 'Y')\n",
    "  ,\n",
    "buck2 as \n",
    "(select distinct dt.WkstartDate, dt.WkendDate, lbfrc.bucketDate, lbfrc.loanAccountNumber, lbfrc.loanStatus, lbfrc.bucketDate, lbfrc.Max_current_DPD as DPD\n",
    "  , lmt.customerId, right(cd.new_mobile_number, 10) newmobilenumber from `risk_credit_mis.loan_bucket_flow_report_core` lbfrc, dt \n",
    "  left join `risk_credit_mis.loan_master_table` lmt on lmt.loanAccountNumber = lbfrc.loanAccountNumber\n",
    "  left join cd on cd.customer_id = lmt.customerId\n",
    "  where date(bucketDate) =  date(dt.WkstartDate) and coalesce(lbfrc.Max_current_DPD, 0) between 31 and 60 ),\n",
    "buck2end as\n",
    "(select distinct dt.WkstartDate, dt.WkendDate, lbfrc.bucketDate, lbfrc.loanAccountNumber, lbfrc.loanStatus, lbfrc.bucketDate, lbfrc.Max_current_DPD as DPD\n",
    "  , lmt.customerId, right(cd.new_mobile_number, 10) newmobilenumber \n",
    "from `risk_credit_mis.loan_bucket_flow_report_core` lbfrc, dt \n",
    "inner join buck2 on buck2.loanAccountNumber = lbfrc.loanAccountNumber\n",
    "left join `risk_credit_mis.loan_master_table` lmt on lmt.loanAccountNumber = lbfrc.loanAccountNumber\n",
    "left join cd on cd.customer_id = lmt.customerId\n",
    "where date(lbfrc.bucketDate) =  date(dt.WkendDate))\n",
    "select  dt.WkstartDate, dt.WkendDate\n",
    ", count(distinct case when coalesce(buck2end.DPD, 0) <= coalesce(buck2.DPD, 0) then buck2.loanAccountNumber end) Normalized_buck2_Greg\n",
    ", count(distinct buck2.loanAccountNumber) Normalized_buck2_denominator\n",
    "from buck2, dt\n",
    "left join buck2end on buck2end.loanAccountNumber = buck2.loanAccountNumber\n",
    "group by 1, 2;\n",
    "\"\"\"\n",
    "\n",
    "dfbucket2normalization = client.query(sq).to_dataframe(progress_bar_type = 'tqdm')\n",
    "dfbucket2normalization['bucket2Normalizationrate'] = dfbucket2normalization['Normalized_buck2_Greg']/dfbucket2normalization['Normalized_buck2_denominator']\n",
    "dfbucket2normalization"
   ]
  },
  {
   "cell_type": "code",
   "execution_count": 13,
   "metadata": {},
   "outputs": [
    {
     "data": {
      "text/plain": [
       "Index(['WkstartDate', 'WkendDate', 'Normalized_buck2_Greg',\n",
       "       'Normalized_buck2_denominator', 'bucket2Normalizationrate'],\n",
       "      dtype='object')"
      ]
     },
     "execution_count": 13,
     "metadata": {},
     "output_type": "execute_result"
    }
   ],
   "source": [
    "dfbucket2normalization.columns"
   ]
  },
  {
   "cell_type": "code",
   "execution_count": 14,
   "metadata": {},
   "outputs": [
    {
     "data": {
      "text/html": [
       "<div>\n",
       "<style scoped>\n",
       "    .dataframe tbody tr th:only-of-type {\n",
       "        vertical-align: middle;\n",
       "    }\n",
       "\n",
       "    .dataframe tbody tr th {\n",
       "        vertical-align: top;\n",
       "    }\n",
       "\n",
       "    .dataframe thead th {\n",
       "        text-align: right;\n",
       "    }\n",
       "</style>\n",
       "<table border=\"1\" class=\"dataframe\">\n",
       "  <thead>\n",
       "    <tr style=\"text-align: right;\">\n",
       "      <th></th>\n",
       "      <th>WkstartDate</th>\n",
       "      <th>WkendDate</th>\n",
       "      <th>apc_wc_connected</th>\n",
       "      <th>wccalled</th>\n",
       "      <th>WelcomeCall_ContactRate</th>\n",
       "      <th>apc_rc_connected</th>\n",
       "      <th>rccalled</th>\n",
       "      <th>remindercallcontactrate</th>\n",
       "      <th>bucket1contacted</th>\n",
       "      <th>bucketcallcontacted</th>\n",
       "      <th>bucket1contactrate</th>\n",
       "      <th>Normalized_Greg</th>\n",
       "      <th>Normalized_denominator</th>\n",
       "      <th>Bucket1_Normalized</th>\n",
       "      <th>bucket2contacted</th>\n",
       "      <th>bucket2callcontacted</th>\n",
       "      <th>bucket2contactrate</th>\n",
       "      <th>Normalized_buck2_Greg</th>\n",
       "      <th>Normalized_buck2_denominator</th>\n",
       "      <th>bucket2Normalizationrate</th>\n",
       "    </tr>\n",
       "  </thead>\n",
       "  <tbody>\n",
       "    <tr>\n",
       "      <th>0</th>\n",
       "      <td>2024-04-01</td>\n",
       "      <td>2024-04-07</td>\n",
       "      <td>1096</td>\n",
       "      <td>1982</td>\n",
       "      <td>0.552977</td>\n",
       "      <td>2295</td>\n",
       "      <td>6934</td>\n",
       "      <td>0.330978</td>\n",
       "      <td>975</td>\n",
       "      <td>4758</td>\n",
       "      <td>0.204918</td>\n",
       "      <td>952</td>\n",
       "      <td>3661</td>\n",
       "      <td>0.260038</td>\n",
       "      <td>148</td>\n",
       "      <td>2309</td>\n",
       "      <td>0.064097</td>\n",
       "      <td>106</td>\n",
       "      <td>2119</td>\n",
       "      <td>0.050024</td>\n",
       "    </tr>\n",
       "  </tbody>\n",
       "</table>\n",
       "</div>"
      ],
      "text/plain": [
       "  WkstartDate   WkendDate  apc_wc_connected  wccalled  \\\n",
       "0  2024-04-01  2024-04-07              1096      1982   \n",
       "\n",
       "   WelcomeCall_ContactRate  apc_rc_connected  rccalled  \\\n",
       "0                 0.552977              2295      6934   \n",
       "\n",
       "   remindercallcontactrate  bucket1contacted  bucketcallcontacted  \\\n",
       "0                 0.330978               975                 4758   \n",
       "\n",
       "   bucket1contactrate  Normalized_Greg  Normalized_denominator  \\\n",
       "0            0.204918              952                    3661   \n",
       "\n",
       "   Bucket1_Normalized  bucket2contacted  bucket2callcontacted  \\\n",
       "0            0.260038               148                  2309   \n",
       "\n",
       "   bucket2contactrate  Normalized_buck2_Greg  Normalized_buck2_denominator  \\\n",
       "0            0.064097                    106                          2119   \n",
       "\n",
       "   bucket2Normalizationrate  \n",
       "0                  0.050024  "
      ]
     },
     "execution_count": 14,
     "metadata": {},
     "output_type": "execute_result"
    }
   ],
   "source": [
    "df = pd.concat([df,dfbucket2normalization[['Normalized_buck2_Greg',\n",
    "       'Normalized_buck2_denominator', 'bucket2Normalizationrate']] ], axis = 1)\n",
    "df"
   ]
  },
  {
   "cell_type": "markdown",
   "metadata": {},
   "source": [
    "This SQL code calculates a normalization rate for a specific scenario related to loans and their bucket flow, focusing on loans with Days Past Due (DPD) values between 31 and 60. Here's an explanation of the logic:\n",
    "\n",
    "1. **Common Table Expressions (CTE): `dt`**\n",
    "   - This CTE creates a temporary table (`dt`) with the start and end dates provided (`sd` and `ed`), which will be used for filtering later.\n",
    "\n",
    "2. **Common Table Expressions (CTE): `disb`**\n",
    "   - This CTE retrieves distinct records from the `risk_credit_mis.loan_master_table` table, filtering for disbursement events that occurred on or before the provided end date (`WkendDate`).\n",
    "   - The `rnk` column is calculated using the `ROW_NUMBER()` function partitioned by the last 10 digits of the mobile number.\n",
    "   - The result is filtered to exclude records with a `loanPaidStatus` of 'Settled' or 'Completed'.\n",
    "\n",
    "3. **Common Table Expressions (CTE): `cd`**\n",
    "   - This CTE retrieves data from the `risk_credit_mis.customer_contact_details` table, including the customer ID and new mobile number, with row numbers assigned based on the change date.\n",
    "\n",
    "4. **Common Table Expressions (CTE): `buck2`**\n",
    "   - This CTE retrieves data related to loans with DPD values between 31 and 60 from the `risk_credit_mis.loan_bucket_flow_report_core` table.\n",
    "   - It joins with the previously defined `disb` CTE and includes additional information about the loan, customer, and mobile number.\n",
    "   - The result is filtered to consider only the bucket date matching the start date (`WkstartDate`) and where the DPD is between 31 and 60.\n",
    "\n",
    "5. **Common Table Expressions (CTE): `buck2end`**\n",
    "   - This CTE refines the data from `buck2` by joining with the same bucket flow report table but considering the end date (`WkendDate`).\n",
    "   - It includes information about the loan, customer, and mobile number.\n",
    "\n",
    "6. **Main Query**\n",
    "   - The main query calculates a normalization rate for loans with DPD values between 31 and 60.\n",
    "   - It counts the number of distinct loans where the DPD at the end date is less than or equal to the DPD at the start date (`Normalized_buck2_Greg`).\n",
    "   - It also counts the total number of distinct loans at the start date (`Normalized_buck2_denominator`).\n",
    "   - The final result includes the start and end dates, along with the calculated normalization rate (`bucket2Normalizationrate`), which is the ratio of `Normalized_buck2_Greg` to `Normalized_buck2_denominator`.\n",
    "\n",
    "Overall, this code is designed to analyze and report on the normalization rate for loans with DPD values between 31 and 60, providing insights into how many loans have maintained or improved their DPD status within the given time frame."
   ]
  },
  {
   "cell_type": "markdown",
   "metadata": {},
   "source": [
    "# Recovery Rate"
   ]
  },
  {
   "cell_type": "code",
   "execution_count": 15,
   "metadata": {},
   "outputs": [
    {
     "name": "stdout",
     "output_type": "stream",
     "text": [
      "Job ID 38bd396b-239c-4da0-98a6-3bdf01900b43 successfully executed: 100%|\u001b[32m██████████\u001b[0m|\n",
      "Downloading: 100%|\u001b[32m██████████\u001b[0m|\n"
     ]
    },
    {
     "data": {
      "text/html": [
       "<div>\n",
       "<style scoped>\n",
       "    .dataframe tbody tr th:only-of-type {\n",
       "        vertical-align: middle;\n",
       "    }\n",
       "\n",
       "    .dataframe tbody tr th {\n",
       "        vertical-align: top;\n",
       "    }\n",
       "\n",
       "    .dataframe thead th {\n",
       "        text-align: right;\n",
       "    }\n",
       "</style>\n",
       "<table border=\"1\" class=\"dataframe\">\n",
       "  <thead>\n",
       "    <tr style=\"text-align: right;\">\n",
       "      <th></th>\n",
       "      <th>bucketDate</th>\n",
       "      <th>wkstartdate</th>\n",
       "      <th>wkenddate</th>\n",
       "      <th>cntloanoverdue</th>\n",
       "      <th>totaloutstandingamount</th>\n",
       "      <th>inArearstotaloutstandingamount</th>\n",
       "      <th>Normaltotaloutstandingamount</th>\n",
       "      <th>inArearstoTotal_Overdue_Amount</th>\n",
       "      <th>NormalTotal_Overdue_Amount</th>\n",
       "      <th>cnt_loanpaymentsreceived</th>\n",
       "      <th>noofdayspaymentreceived</th>\n",
       "      <th>Normalized_cnt</th>\n",
       "      <th>Normalized</th>\n",
       "      <th>paymentreceivedbutstilldelinquent_cnt</th>\n",
       "      <th>paymentreceivedbutstilldelinquent</th>\n",
       "      <th>payment</th>\n",
       "      <th>paymentsfromoverdue</th>\n",
       "      <th>recoveryrate</th>\n",
       "    </tr>\n",
       "  </thead>\n",
       "  <tbody>\n",
       "    <tr>\n",
       "      <th>0</th>\n",
       "      <td>2024-04-01</td>\n",
       "      <td>2024-04-01</td>\n",
       "      <td>2024-04-07</td>\n",
       "      <td>70207</td>\n",
       "      <td>1.336547e+09</td>\n",
       "      <td>7.564907e+08</td>\n",
       "      <td>5.800562e+08</td>\n",
       "      <td>5.105118e+08</td>\n",
       "      <td>269098.71</td>\n",
       "      <td>2917</td>\n",
       "      <td>2</td>\n",
       "      <td>1684</td>\n",
       "      <td>4229738.64</td>\n",
       "      <td>1386</td>\n",
       "      <td>539488.77</td>\n",
       "      <td>4769227.41</td>\n",
       "      <td>4769227.41</td>\n",
       "      <td>0.009342</td>\n",
       "    </tr>\n",
       "  </tbody>\n",
       "</table>\n",
       "</div>"
      ],
      "text/plain": [
       "   bucketDate wkstartdate   wkenddate  cntloanoverdue  totaloutstandingamount  \\\n",
       "0  2024-04-01  2024-04-01  2024-04-07           70207            1.336547e+09   \n",
       "\n",
       "   inArearstotaloutstandingamount  Normaltotaloutstandingamount  \\\n",
       "0                    7.564907e+08                  5.800562e+08   \n",
       "\n",
       "   inArearstoTotal_Overdue_Amount  NormalTotal_Overdue_Amount  \\\n",
       "0                    5.105118e+08                   269098.71   \n",
       "\n",
       "   cnt_loanpaymentsreceived  noofdayspaymentreceived  Normalized_cnt  \\\n",
       "0                      2917                        2            1684   \n",
       "\n",
       "   Normalized  paymentreceivedbutstilldelinquent_cnt  \\\n",
       "0  4229738.64                                   1386   \n",
       "\n",
       "   paymentreceivedbutstilldelinquent     payment  paymentsfromoverdue  \\\n",
       "0                          539488.77  4769227.41           4769227.41   \n",
       "\n",
       "   recoveryrate  \n",
       "0      0.009342  "
      ]
     },
     "execution_count": 15,
     "metadata": {},
     "output_type": "execute_result"
    }
   ],
   "source": [
    "sq = f\"\"\"with Overdue as \n",
    "(select bucketDate\n",
    ", DATE('{sd}') wkstartdate\n",
    ",  DATE('{ed}') wkenddate\n",
    ", loanStatus, loanAccountNumber,\n",
    "sum(Total_Outstanding_Amount) totaloutstandingamount,\n",
    "sum(Total_Overdue_Amount) Total_Overdue_Amount\n",
    "from `risk_credit_mis.loan_bucket_flow_report_core`\n",
    "where bucketDate = DATE('{sd}')\n",
    "and loanStatus in ('Normal', 'In Arrears')\n",
    "and Total_Outstanding_Amount is not null\n",
    "and Total_Outstanding_Amount > 0\n",
    "group by 1, 2,3,4,5\n",
    "),\n",
    "overduebase as\n",
    "(select bucketDate, wkstartdate,wkenddate, loanAccountNumber, sum(totaloutstandingamount)totaloutstandingamount \n",
    ", sum(case when loanStatus = 'In Arrears' then totaloutstandingamount else 0 end) inArearstotaloutstandingamount\n",
    ", sum(case when loanStatus = 'Normal' then totaloutstandingamount else 0 end) Normaltotaloutstandingamount\n",
    ", sum(case when loanStatus = 'In Arrears' then Total_Overdue_Amount else 0 end) inArearstoTotal_Overdue_Amount\n",
    ", sum(case when loanStatus = 'Normal' then Total_Overdue_Amount else 0 end) NormalTotal_Overdue_Amount\n",
    "from Overdue\n",
    "group by 1,2,3,4\n",
    "),\n",
    "payments as \n",
    "(select  DATE('{sd}') wkstartdate, DATE('{ed}') wkenddate,  loanAccountNumber, lastPaymentDate,isDelinquent, isCurrentDelinquent,\n",
    "sum(installmentPaidAmount) payment\n",
    "from `risk_credit_mis.loan_installments_table`\n",
    "where coalesce(lastPaymentDate, date('3000-01-01')) between  DATE('{sd}') and DATE('{ed}')\n",
    "and isDelinquent = 1\n",
    "and coalesce(installmentPaidAmount, 0) > 0\n",
    "group by 1,2,3,4,5,6\n",
    "), \n",
    "paymentbase as  \n",
    "(select wkstartdate, wkenddate, loanAccountNumber\n",
    ", count(distinct lastPaymentDate) noofdayspaymentreceived \n",
    ", sum(case when isDelinquent = 1 and isCurrentDelinquent = 0 then 1 else 0 end) Normalized_cnt\n",
    ", sum(case when isDelinquent = 1 and isCurrentDelinquent = 1 then 1 else 0 end) paymentreceivedbutstilldelinquent_cnt\n",
    ", sum(case when isDelinquent = 1 and isCurrentDelinquent = 0 then payment else 0 end) Normalized\n",
    ", sum(case when isDelinquent = 1 and isCurrentDelinquent = 1 then payment else 0 end) paymentreceivedbutstilldelinquent\n",
    ", sum(payment) payment\n",
    "from payments \n",
    "group by 1,2,3\n",
    ")\n",
    "select \n",
    "overduebase.bucketDate\n",
    ", overduebase.wkstartdate\n",
    ", overduebase.wkenddate\n",
    ", count(distinct overduebase.loanAccountNumber ) cntloanoverdue\n",
    ", sum(overduebase.totaloutstandingamount) totaloutstandingamount\n",
    ", sum(overduebase.inArearstotaloutstandingamount) inArearstotaloutstandingamount\n",
    ", sum(overduebase.Normaltotaloutstandingamount) Normaltotaloutstandingamount\n",
    ", sum(overduebase.inArearstoTotal_Overdue_Amount) inArearstoTotal_Overdue_Amount\n",
    ", sum(overduebase.NormalTotal_Overdue_Amount)NormalTotal_Overdue_Amount\n",
    ", count(distinct paymentbase.loanAccountNumber) cnt_loanpaymentsreceived\n",
    ", max(noofdayspaymentreceived) noofdayspaymentreceived\n",
    ", sum(Normalized_cnt) Normalized_cnt\n",
    ", sum(Normalized)Normalized\n",
    ", sum(paymentreceivedbutstilldelinquent_cnt)paymentreceivedbutstilldelinquent_cnt\n",
    ", sum(paymentreceivedbutstilldelinquent) paymentreceivedbutstilldelinquent\n",
    ", sum(payment)payment\n",
    "from overduebase\n",
    "left join paymentbase on overduebase.loanAccountNumber = paymentbase.loanAccountNumber \n",
    "group by 1,2,3\n",
    "\"\"\"\n",
    "dfrecovery = client.query(sq).to_dataframe(progress_bar_type='tqdm')\n",
    "dfrecovery['paymentsfromoverdue'] = dfrecovery['Normalized'] + dfrecovery['paymentreceivedbutstilldelinquent']\n",
    "dfrecovery['recoveryrate'] = (dfrecovery['Normalized'] + dfrecovery['paymentreceivedbutstilldelinquent'])/dfrecovery['inArearstoTotal_Overdue_Amount']\n",
    "dfrecovery"
   ]
  },
  {
   "cell_type": "code",
   "execution_count": 16,
   "metadata": {},
   "outputs": [
    {
     "name": "stdout",
     "output_type": "stream",
     "text": [
      "<class 'pandas.core.frame.DataFrame'>\n",
      "RangeIndex: 1 entries, 0 to 0\n",
      "Data columns (total 18 columns):\n",
      " #   Column                                 Non-Null Count  Dtype  \n",
      "---  ------                                 --------------  -----  \n",
      " 0   bucketDate                             1 non-null      dbdate \n",
      " 1   wkstartdate                            1 non-null      dbdate \n",
      " 2   wkenddate                              1 non-null      dbdate \n",
      " 3   cntloanoverdue                         1 non-null      Int64  \n",
      " 4   totaloutstandingamount                 1 non-null      float64\n",
      " 5   inArearstotaloutstandingamount         1 non-null      float64\n",
      " 6   Normaltotaloutstandingamount           1 non-null      float64\n",
      " 7   inArearstoTotal_Overdue_Amount         1 non-null      float64\n",
      " 8   NormalTotal_Overdue_Amount             1 non-null      float64\n",
      " 9   cnt_loanpaymentsreceived               1 non-null      Int64  \n",
      " 10  noofdayspaymentreceived                1 non-null      Int64  \n",
      " 11  Normalized_cnt                         1 non-null      Int64  \n",
      " 12  Normalized                             1 non-null      float64\n",
      " 13  paymentreceivedbutstilldelinquent_cnt  1 non-null      Int64  \n",
      " 14  paymentreceivedbutstilldelinquent      1 non-null      float64\n",
      " 15  payment                                1 non-null      float64\n",
      " 16  paymentsfromoverdue                    1 non-null      float64\n",
      " 17  recoveryrate                           1 non-null      float64\n",
      "dtypes: Int64(5), dbdate(3), float64(10)\n",
      "memory usage: 277.0 bytes\n"
     ]
    }
   ],
   "source": [
    "dfrecovery.info()"
   ]
  },
  {
   "cell_type": "code",
   "execution_count": 17,
   "metadata": {},
   "outputs": [
    {
     "data": {
      "text/html": [
       "<div>\n",
       "<style scoped>\n",
       "    .dataframe tbody tr th:only-of-type {\n",
       "        vertical-align: middle;\n",
       "    }\n",
       "\n",
       "    .dataframe tbody tr th {\n",
       "        vertical-align: top;\n",
       "    }\n",
       "\n",
       "    .dataframe thead th {\n",
       "        text-align: right;\n",
       "    }\n",
       "</style>\n",
       "<table border=\"1\" class=\"dataframe\">\n",
       "  <thead>\n",
       "    <tr style=\"text-align: right;\">\n",
       "      <th></th>\n",
       "      <th>WkstartDate</th>\n",
       "      <th>WkendDate</th>\n",
       "      <th>apc_wc_connected</th>\n",
       "      <th>wccalled</th>\n",
       "      <th>WelcomeCall_ContactRate</th>\n",
       "      <th>apc_rc_connected</th>\n",
       "      <th>rccalled</th>\n",
       "      <th>remindercallcontactrate</th>\n",
       "      <th>bucket1contacted</th>\n",
       "      <th>bucketcallcontacted</th>\n",
       "      <th>...</th>\n",
       "      <th>Bucket1_Normalized</th>\n",
       "      <th>bucket2contacted</th>\n",
       "      <th>bucket2callcontacted</th>\n",
       "      <th>bucket2contactrate</th>\n",
       "      <th>Normalized_buck2_Greg</th>\n",
       "      <th>Normalized_buck2_denominator</th>\n",
       "      <th>bucket2Normalizationrate</th>\n",
       "      <th>inArearstoTotal_Overdue_Amount</th>\n",
       "      <th>paymentsfromoverdue</th>\n",
       "      <th>recoveryrate</th>\n",
       "    </tr>\n",
       "  </thead>\n",
       "  <tbody>\n",
       "    <tr>\n",
       "      <th>0</th>\n",
       "      <td>2024-04-01</td>\n",
       "      <td>2024-04-07</td>\n",
       "      <td>1096</td>\n",
       "      <td>1982</td>\n",
       "      <td>0.552977</td>\n",
       "      <td>2295</td>\n",
       "      <td>6934</td>\n",
       "      <td>0.330978</td>\n",
       "      <td>975</td>\n",
       "      <td>4758</td>\n",
       "      <td>...</td>\n",
       "      <td>0.260038</td>\n",
       "      <td>148</td>\n",
       "      <td>2309</td>\n",
       "      <td>0.064097</td>\n",
       "      <td>106</td>\n",
       "      <td>2119</td>\n",
       "      <td>0.050024</td>\n",
       "      <td>5.105118e+08</td>\n",
       "      <td>4769227.41</td>\n",
       "      <td>0.009342</td>\n",
       "    </tr>\n",
       "  </tbody>\n",
       "</table>\n",
       "<p>1 rows × 23 columns</p>\n",
       "</div>"
      ],
      "text/plain": [
       "  WkstartDate   WkendDate  apc_wc_connected  wccalled  \\\n",
       "0  2024-04-01  2024-04-07              1096      1982   \n",
       "\n",
       "   WelcomeCall_ContactRate  apc_rc_connected  rccalled  \\\n",
       "0                 0.552977              2295      6934   \n",
       "\n",
       "   remindercallcontactrate  bucket1contacted  bucketcallcontacted  ...  \\\n",
       "0                 0.330978               975                 4758  ...   \n",
       "\n",
       "   Bucket1_Normalized  bucket2contacted  bucket2callcontacted  \\\n",
       "0            0.260038               148                  2309   \n",
       "\n",
       "   bucket2contactrate  Normalized_buck2_Greg  Normalized_buck2_denominator  \\\n",
       "0            0.064097                    106                          2119   \n",
       "\n",
       "   bucket2Normalizationrate  inArearstoTotal_Overdue_Amount  \\\n",
       "0                  0.050024                    5.105118e+08   \n",
       "\n",
       "   paymentsfromoverdue  recoveryrate  \n",
       "0           4769227.41      0.009342  \n",
       "\n",
       "[1 rows x 23 columns]"
      ]
     },
     "execution_count": 17,
     "metadata": {},
     "output_type": "execute_result"
    }
   ],
   "source": [
    "df = pd.concat([df, dfrecovery[['inArearstoTotal_Overdue_Amount','paymentsfromoverdue','recoveryrate']]], axis = 1)\n",
    "df"
   ]
  },
  {
   "cell_type": "markdown",
   "metadata": {},
   "source": [
    "This SQL code calculates recovery-related metrics for overdue loans. Here's an explanation of the logic:\n",
    "\n",
    "1. **Common Table Expressions (CTE): `Overdue`**\n",
    "   - This CTE selects relevant information from the `risk_credit_mis.loan_bucket_flow_report_core` table for loans that are either in a 'Normal' or 'In Arrears' status on the provided start date (`wkstartdate`).\n",
    "   - The data is filtered to include only loans with positive and non-null outstanding amounts.\n",
    "   - The result is grouped by bucket date, start date, end date (`wkenddate`), loan status, and loan account number, and aggregated sums are calculated for total outstanding amounts and total overdue amounts.\n",
    "\n",
    "2. **Common Table Expressions (CTE): `overduebase`**\n",
    "   - This CTE refines the data from the `Overdue` CTE.\n",
    "   - It aggregates the data further, grouping by bucket date, start date, end date, and loan account number.\n",
    "   - The result includes aggregated sums for total outstanding amounts, total outstanding amounts for loans in arrears, total outstanding amounts for normal loans, total overdue amounts for loans in arrears, and total overdue amounts for normal loans.\n",
    "\n",
    "3. **Common Table Expressions (CTE): `payments`**\n",
    "   - This CTE selects information from the `risk_credit_mis.loan_installments_table` related to loan payments.\n",
    "   - It filters for delinquent loans with positive installment paid amounts between the provided start and end dates.\n",
    "   - The result is grouped by start date, end date, loan account number, last payment date, isDelinquent, and isCurrentDelinquent, and aggregated sums are calculated for the payment amount.\n",
    "\n",
    "4. **Common Table Expressions (CTE): `paymentbase`**\n",
    "   - This CTE refines the data from the `payments` CTE.\n",
    "   - It aggregates the data further, grouping by start date, end date, and loan account number.\n",
    "   - The result includes counts and sums related to the number of days payments were received, the number of normalized payments, the number of payments received but still delinquent, and the total payment amount.\n",
    "\n",
    "5. **Main Query**\n",
    "   - The main query brings together the data from `overduebase` and `paymentbase`, joining them on the loan account number.\n",
    "   - The final result includes aggregated metrics such as the count of overdue loans, total outstanding amounts, total overdue amounts, the count of loans with payments received, the maximum number of days payments were received, counts and sums related to normalized payments and payments received but still delinquent, and the total payment amount.\n",
    "   - A new column, `paymentsfromoverdue`, is calculated as the sum of normalized payments and payments received but still delinquent.\n",
    "   - Another new column, `recoveryrate`, is calculated as the ratio of `paymentsfromoverdue` to `inArearstoTotal_Overdue_Amount`.\n",
    "\n",
    "In summary, the code provides insights into the recovery status of overdue loans, considering outstanding amounts, overdue amounts, and payments received within a specified time frame. The recovery rate is also calculated as an important metric for assessing the effectiveness of recovery efforts."
   ]
  },
  {
   "cell_type": "markdown",
   "metadata": {},
   "source": [
    "# Roll-rate Normal into Bucket 1"
   ]
  },
  {
   "cell_type": "code",
   "execution_count": 18,
   "metadata": {},
   "outputs": [
    {
     "name": "stdout",
     "output_type": "stream",
     "text": [
      "Job ID 9172988b-c146-4426-bf52-fe380f278875 successfully executed: 100%|\u001b[32m██████████\u001b[0m|\n",
      "Downloading: 100%|\u001b[32m██████████\u001b[0m|\n"
     ]
    },
    {
     "data": {
      "text/html": [
       "<div>\n",
       "<style scoped>\n",
       "    .dataframe tbody tr th:only-of-type {\n",
       "        vertical-align: middle;\n",
       "    }\n",
       "\n",
       "    .dataframe tbody tr th {\n",
       "        vertical-align: top;\n",
       "    }\n",
       "\n",
       "    .dataframe thead th {\n",
       "        text-align: right;\n",
       "    }\n",
       "</style>\n",
       "<table border=\"1\" class=\"dataframe\">\n",
       "  <thead>\n",
       "    <tr style=\"text-align: right;\">\n",
       "      <th></th>\n",
       "      <th>wkstartdate</th>\n",
       "      <th>wkenddate</th>\n",
       "      <th>cntloans</th>\n",
       "      <th>mindpd</th>\n",
       "      <th>maxdpd</th>\n",
       "      <th>wentdelinquent</th>\n",
       "      <th>stilldelinquent</th>\n",
       "      <th>rollbacked</th>\n",
       "      <th>defaulteddelinquentamount</th>\n",
       "      <th>stilldelinquentamount</th>\n",
       "      <th>rollbacked_amount</th>\n",
       "      <th>rollback_rate</th>\n",
       "      <th>rollback_rate_v</th>\n",
       "    </tr>\n",
       "  </thead>\n",
       "  <tbody>\n",
       "    <tr>\n",
       "      <th>0</th>\n",
       "      <td>2024-04-01</td>\n",
       "      <td>2024-04-07</td>\n",
       "      <td>21635</td>\n",
       "      <td>0</td>\n",
       "      <td>6</td>\n",
       "      <td>7061</td>\n",
       "      <td>5844</td>\n",
       "      <td>1217</td>\n",
       "      <td>16692348.25</td>\n",
       "      <td>14068981.39</td>\n",
       "      <td>2769195.62</td>\n",
       "      <td>0.172355</td>\n",
       "      <td>0.165896</td>\n",
       "    </tr>\n",
       "  </tbody>\n",
       "</table>\n",
       "</div>"
      ],
      "text/plain": [
       "  wkstartdate   wkenddate  cntloans  mindpd  maxdpd  wentdelinquent  \\\n",
       "0  2024-04-01  2024-04-07     21635       0       6            7061   \n",
       "\n",
       "   stilldelinquent  rollbacked  defaulteddelinquentamount  \\\n",
       "0             5844        1217                16692348.25   \n",
       "\n",
       "   stilldelinquentamount  rollbacked_amount  rollback_rate  rollback_rate_v  \n",
       "0            14068981.39         2769195.62       0.172355         0.165896  "
      ]
     },
     "execution_count": 18,
     "metadata": {},
     "output_type": "execute_result"
    }
   ],
   "source": [
    "sq = f\"\"\"\n",
    "with base as \n",
    "(select \n",
    "DATE('{sd}') wkstartdate\n",
    ", DATE('{ed}') wkenddate\n",
    ", loanAccountNumber\n",
    ", installmentDueDate \n",
    ", DPDwoToleranceCustom dpd\n",
    ", isDelinquent\n",
    ", isCurrentDelinquent\n",
    ", installmentAmount\n",
    ", installmentPaidAmount\n",
    "from `risk_credit_mis.loan_installments_table`\n",
    "where date(installmentDueDate) between DATE('{sd}') and DATE('{ed}')\n",
    ")\n",
    "select wkstartdate, wkenddate \n",
    ", count(distinct loanAccountNumber) cntloans\n",
    ", min(dpd) mindpd\n",
    ", max(dpd) maxdpd\n",
    ", sum(case when coalesce(dpd, 0) > 0 then isDelinquent else 0 end) wentdelinquent\n",
    ", sum(case when coalesce(dpd, 0) > 0 and isDelinquent = 1 then isCurrentDelinquent else 0 end) stilldelinquent\n",
    ", sum(case when coalesce(dpd, 0) between 1 and 30 then isDelinquent else 0 end) - sum(case when coalesce(dpd, 0) between 1 and 30 and isDelinquent = 1 then isCurrentDelinquent else 0 end) rollbacked\n",
    ", sum(case when coalesce(dpd, 0) > 0 and isDelinquent = 1 then installmentAmount else 0 end) defaulteddelinquentamount\n",
    ", sum(case when coalesce(dpd, 0) > 0 and isDelinquent = 1 and isCurrentDelinquent = 1 then installmentAmount else 0 end) stilldelinquentamount\n",
    ", sum(case when coalesce(dpd, 0) between 1 and 30 and isDelinquent = 1 and isCurrentDelinquent = 0 then installmentPaidAmount else 0 end) rollbacked_amount\n",
    "from base \n",
    "group by 1,2\n",
    ";\"\"\"\n",
    "\n",
    "dfrollrate = client.query(sq).to_dataframe(progress_bar_type='tqdm')\n",
    "dfrollrate['rollback_rate'] =  dfrollrate['rollbacked']/dfrollrate['wentdelinquent']\n",
    "dfrollrate['rollback_rate_v'] = dfrollrate['rollbacked_amount']/dfrollrate['defaulteddelinquentamount']\n",
    "dfrollrate"
   ]
  },
  {
   "cell_type": "code",
   "execution_count": 19,
   "metadata": {},
   "outputs": [
    {
     "name": "stdout",
     "output_type": "stream",
     "text": [
      "<class 'pandas.core.frame.DataFrame'>\n",
      "RangeIndex: 1 entries, 0 to 0\n",
      "Data columns (total 13 columns):\n",
      " #   Column                     Non-Null Count  Dtype  \n",
      "---  ------                     --------------  -----  \n",
      " 0   wkstartdate                1 non-null      dbdate \n",
      " 1   wkenddate                  1 non-null      dbdate \n",
      " 2   cntloans                   1 non-null      Int64  \n",
      " 3   mindpd                     1 non-null      Int64  \n",
      " 4   maxdpd                     1 non-null      Int64  \n",
      " 5   wentdelinquent             1 non-null      Int64  \n",
      " 6   stilldelinquent            1 non-null      Int64  \n",
      " 7   rollbacked                 1 non-null      Int64  \n",
      " 8   defaulteddelinquentamount  1 non-null      float64\n",
      " 9   stilldelinquentamount      1 non-null      float64\n",
      " 10  rollbacked_amount          1 non-null      float64\n",
      " 11  rollback_rate              1 non-null      Float64\n",
      " 12  rollback_rate_v            1 non-null      float64\n",
      "dtypes: Float64(1), Int64(6), dbdate(2), float64(4)\n",
      "memory usage: 239.0 bytes\n"
     ]
    }
   ],
   "source": [
    "dfrollrate.info()"
   ]
  },
  {
   "cell_type": "code",
   "execution_count": 20,
   "metadata": {},
   "outputs": [],
   "source": [
    "df = pd.concat([df, dfrollrate[['wentdelinquent','rollbacked', 'defaulteddelinquentamount', 'rollbacked_amount', 'rollback_rate', 'rollback_rate_v']]], axis = 1)"
   ]
  },
  {
   "cell_type": "markdown",
   "metadata": {},
   "source": [
    "This SQL code calculates delinquency-related metrics for loans within a specified date range. Here's an explanation of the logic:\n",
    "\n",
    "1. **Common Table Expressions (CTE): `base`**\n",
    "   - This CTE selects relevant information from the `risk_credit_mis.loan_installments_table` table, including loan account number, installment due date, Days Past Due (DPD) without tolerance, delinquency indicators (`isDelinquent` and `isCurrentDelinquent`), installment amount, and installment paid amount.\n",
    "   - The data is filtered to include only installment due dates falling within the provided start and end dates.\n",
    "\n",
    "2. **Main Query**\n",
    "   - The main query aggregates the data from the `base` CTE.\n",
    "   - It calculates various metrics related to delinquency, including the count of loans (`cntloans`), the minimum and maximum DPD values (`mindpd` and `maxdpd`), the count of loans that went delinquent (`wentdelinquent`), the count of loans still delinquent (`stilldelinquent`), the count of loans rolled back from delinquency (`rollbacked`), and the sum of defaulted delinquent amounts (`defaulteddelinquentamount`).\n",
    "   - It also calculates the sum of installment amounts for loans still delinquent (`stilldelinquentamount`) and the sum of installment amounts for loans rolled back from delinquency (`rollbacked_amount`).\n",
    "   - Two new columns are created: `rollback_rate` (the ratio of loans rolled back to loans that went delinquent) and `rollback_rate_v` (the ratio of the sum of installment amounts for loans rolled back to the sum of defaulted delinquent amounts).\n",
    "\n",
    "In summary, the code provides insights into the delinquency status of loans, including the count of delinquent loans, the DPD distribution, and metrics related to loans that went delinquent, loans still delinquent, and loans rolled back from delinquency. The rollback rates are calculated to assess the effectiveness of rollback efforts."
   ]
  },
  {
   "cell_type": "markdown",
   "metadata": {},
   "source": [
    "# Other details"
   ]
  },
  {
   "cell_type": "markdown",
   "metadata": {},
   "source": []
  },
  {
   "cell_type": "code",
   "execution_count": 21,
   "metadata": {},
   "outputs": [
    {
     "name": "stdout",
     "output_type": "stream",
     "text": [
      "Job ID 7d04e36e-4c82-4227-9dce-b48a01dd2698 successfully executed: 100%|\u001b[32m██████████\u001b[0m|\n",
      "Downloading: 100%|\u001b[32m██████████\u001b[0m|\n"
     ]
    },
    {
     "data": {
      "text/plain": [
       "Index(['WkstartDate', 'WkendDate', 'ptp_received', 'kept_ptp', 'bucket1ptppmt',\n",
       "       'bucket2ptppmt', 'FTE', 'total_accounts', 'active_works',\n",
       "       'kept_ptp_rate'],\n",
       "      dtype='object')"
      ]
     },
     "execution_count": 21,
     "metadata": {},
     "output_type": "execute_result"
    }
   ],
   "source": [
    "sq = f\"\"\"With\n",
    "  dt AS (\n",
    "  SELECT\n",
    "    DATE('{sd}') WkstartDate,\n",
    "    DATE('{ed}') WkendDate),\n",
    "disb as (select distinct disbursementDateTime, customerId, loanType, loanAccountNumber, SUBSTR(mobileNo, -10) as mobileno , loanPaidStatus\n",
    ", row_number() over(partition by SUBSTR(mobileNo, -10) order by SUBSTR(mobileNo, -10))rnk\n",
    "from `risk_credit_mis.loan_master_table`, dt \n",
    "where \n",
    "date_trunc(disbursementDateTime, day) <= dt.WkendDate\n",
    "-- between dt.WkstartDate and dt.WkendDate \n",
    "and \n",
    "coalesce(loanPaidStatus, 'NA') not in ('Settled','Completed')\n",
    ")\n",
    ",\n",
    "wc1 as \n",
    "(\n",
    "SELECT\n",
    "  dt.WkstartDate,\n",
    "  dt.WkendDate,\n",
    "  Genesys_call_id,\n",
    "  callDatetime,\n",
    "  COALESCE(IS_APC, 0) APC,\n",
    "  COALESCE(IS_RPC, 0) RPC,\n",
    "  COALESCE(IS_PTP,0) PTP,\n",
    "  RIGHT(mobileNumber, 10) mobileNumber,\n",
    "  g.campaignName,\n",
    "  g.agentGroup,\n",
    "  g.agentFullName,\n",
    "  g.employeeId,\n",
    "  g.connected,\n",
    "  g.notConnected,\n",
    "  g.callResult,\n",
    "  ROW_NUMBER() OVER(PARTITION BY Genesys_call_id ORDER BY callDatetime DESC, COALESCE(IS_APC, 0), COALESCE(IS_RPC, 0), COALESCE(IS_PTP, 0))rnk\n",
    "FROM\n",
    "  `risk_credit_mis.call_attempt_history_gensys` g,  dt\n",
    "LEFT JOIN\n",
    "  `dap_ds_poweruser_playground.campaignmaster` cm\n",
    "ON\n",
    "  UPPER(cm.Campaignname) = UPPER(g.campaignName)\n",
    "INNER JOIN disb ON  SUBSTR(disb.mobileNo, -10) = SUBSTR(CAST(g.mobileNumber AS string), -10)\n",
    "WHERE\n",
    "  cm.reference = 'WC'\n",
    "  and disb.rnk = 1\n",
    "  and date(callDatetime) between  dt.WkstartDate and dt.WkendDate\n",
    ")\n",
    ", \n",
    "wc as \n",
    "(select wc1.WkstartDate, wc1.WkendDate, Genesys_call_id,\n",
    "callDatetime,\n",
    "APC,\n",
    "RPC,\n",
    "PTP,\n",
    "case when APC = 1 then mobileNumber end apc_m,\n",
    "case when RPC = 1 then mobileNumber end rpc_m,\n",
    "case when PTP = 1 then mobileNumber end ptp_m,\n",
    "mobileNumber,\n",
    "campaignName,\n",
    "agentGroup,\n",
    "agentFullName,\n",
    "employeeId,\n",
    "connected,\n",
    "notConnected,\n",
    "callResult,\n",
    "rnk,\n",
    "from wc1 \n",
    "where rnk = 1\n",
    ")\n",
    ",\n",
    "wcbase as \n",
    "( \n",
    "select wc.WkstartDate, wc.WkendDate,\n",
    " Genesys_call_id,\n",
    "callDatetime,\n",
    "APC,\n",
    "RPC,\n",
    "PTP,\n",
    "mobileNumber,\n",
    "campaignName,\n",
    "agentGroup,\n",
    "agentFullName,\n",
    "employeeId,\n",
    "connected,\n",
    "notConnected,\n",
    "callResult,\n",
    "rnk,\n",
    "apc_m,\n",
    "rpc_m,\n",
    "ptp_m\n",
    "from wc\n",
    ")\n",
    ", \n",
    "cd AS (\n",
    "  SELECT\n",
    "    customer_id,\n",
    "    new_mobile_number,\n",
    "    ROW_NUMBER() OVER(PARTITION BY customer_id ORDER BY change_date)rnk\n",
    "  FROM\n",
    "    `risk_credit_mis.customer_contact_details`\n",
    "  WHERE\n",
    "    ACTIVE = 'Y')\n",
    "  ,\n",
    "  buck1 as \n",
    "  (select distinct dt.WkstartDate, dt.WkendDate, lbfrc.loanAccountNumber, lbfrc.loanStatus, lbfrc.bucketDate, lbfrc.Max_current_DPD as DPD, lmt.customerId, right(cd.new_mobile_number, 10) newmobilenumber\n",
    "  , row_number() over(partition by lbfrc.loanAccountNumber order by lbfrc.bucketDate desc) buck1rnk\n",
    "  from `risk_credit_mis.loan_bucket_flow_report_core` lbfrc, dt \n",
    "  left join `risk_credit_mis.loan_master_table` lmt on lmt.loanAccountNumber = lbfrc.loanAccountNumber\n",
    "  left join cd on cd.customer_id = lmt.customerId\n",
    "  where date(bucketDate) between  date(dt.WkstartDate) and  date(dt.WkendDate)\n",
    "  and coalesce(lbfrc.Max_current_DPD, 0) between 1 and 30 \n",
    "  and date(lbfrc.firstDueDate) <= date(current_date())\n",
    "  and lbfrc.loanStatus = 'In Arrears'\n",
    "  and cd.rnk = 1\n",
    "  )\n",
    "    ,\n",
    "buck1cr1 as \n",
    "(select distinct\n",
    " dt.WkstartDate,\n",
    "  dt.WkendDate,\n",
    "  g.Genesys_call_id,\n",
    "  g.callDatetime,\n",
    "  COALESCE(g.IS_APC, 0) APC,\n",
    "  COALESCE(g.IS_RPC, 0) RPC,\n",
    "  COALESCE(g.IS_PTP,0) PTP,\n",
    "  RIGHT(g.mobileNumber, 10) mobileNumber,\n",
    "  buck1.newmobilenumber mobilefrombuckettable,\n",
    "  g.campaignName,\n",
    "  g.agentGroup,\n",
    "  g.agentFullName,\n",
    "  g.employeeId,\n",
    "  g.connected,\n",
    "  g.notConnected,\n",
    "  g.callResult, \n",
    "  buck1.loanAccountNumber,\n",
    "  buck1.DPD,\n",
    "  case when g.IS_APC = 1 then g.mobileNumber end apc_m,\n",
    "  case when g.IS_RPC = 1 then g.mobileNumber end rpc_m,\n",
    "  case when g.IS_PTP = 1 then mobileNumber end ptp_m,\n",
    "  ROW_NUMBER() OVER(PARTITION BY g.Genesys_call_id ORDER BY g.callDatetime DESC, COALESCE(g.IS_APC, 0), COALESCE(g.IS_RPC, 0), COALESCE(g.IS_PTP, 0))rnk \n",
    "from  `risk_credit_mis.call_attempt_history_gensys` g,  dt\n",
    "inner join buck1 on buck1.newmobilenumber = right(g.mobileNumber,10)\n",
    "LEFT JOIN  `dap_ds_poweruser_playground.campaignmaster` cm ON  UPPER(cm.Campaignname) = UPPER(g.campaignName)\n",
    "where cm.Reference = 'COLL' and cm.Subcategory = 'SOFT'\n",
    "AND DATE(g.callDatetime) BETWEEN DATE(dt.WkstartDate) AND DATE(dt.WkendDate)\n",
    "and buck1.buck1rnk = 1\n",
    ")\n",
    ",\n",
    "buck1cr1base as \n",
    "(select buck1cr1.WkstartDate, buck1cr1.WkendDate, buck1cr1.Genesys_call_id, buck1cr1.callDatetime\n",
    ", buck1cr1.mobileNumber\n",
    ", buck1cr1.mobilefrombuckettable\n",
    ", buck1cr1.campaignName\n",
    ", buck1cr1.agentGroup\n",
    ", buck1cr1.agentFullName\n",
    ", buck1cr1.employeeId\n",
    ", buck1cr1.connected\n",
    ", buck1cr1.notConnected\n",
    ", buck1cr1.callResult\n",
    ", buck1cr1.loanAccountNumber\n",
    ", buck1cr1.apc_m \n",
    ", buck1cr1.rpc_m\n",
    ", buck1cr1.ptp_m \n",
    ", buck1cr1.DPD\n",
    ", buck1cr1.rnk \n",
    " from buck1cr1 where rnk = 1\n",
    ")\n",
    ",\n",
    "buck1end as \n",
    "(select distinct dt.WkstartDate, dt.WkendDate, lbfrc.loanAccountNumber, lbfrc.loanStatus, lbfrc.bucketDate, lbfrc.Max_current_DPD as DPD, lmt.customerId, right(cd.new_mobile_number, 10) newmobilenumber\n",
    "from `risk_credit_mis.loan_bucket_flow_report_core` lbfrc, dt \n",
    "left join `risk_credit_mis.loan_master_table` lmt on lmt.loanAccountNumber = lbfrc.loanAccountNumber\n",
    "left join cd on cd.customer_id = lmt.customerId\n",
    "where date(bucketDate) = date(dt.WkendDate)\n",
    "and date(lbfrc.firstDueDate) <= date(current_date())\n",
    "and cd.rnk = 1\n",
    ")\n",
    ", \n",
    "ptpstatus as \n",
    "(select max(dt.WkstartDate)WkstartDate, max(dt.WkendDate)WkendDate, cps.Loan_account_no, sum(case when coalesce(cps.PTP_Status, 0) = 1 then 1 else 0 end) ptpstatus \n",
    "from `risk_credit_mis.collection_ptp_status`  cps, dt where coalesce(PTP_Status, 0) = 1\n",
    "and date(contact_date) between dt.WkstartDate and dt.WkendDate\n",
    "group by cps.Loan_account_no\n",
    "),\n",
    "payments as (select loanAccountNumber from `risk_credit_mis.loan_installments_table`, dt where date(lastPaymentDate) between dt.WkstartDate and dt.WkendDate) \n",
    ",\n",
    "buck1normalized as \n",
    "(select buck1.WkstartDate, buck1.WkendDate, buck1.loanAccountNumber , buck1.DPD weekstartDPD, buck1end.DPD weekendDPD\n",
    ", case when buck1.loanAccountNumber in (select distinct Loan_account_no from `risk_credit_mis.collection_ptp_status` where PTP_Due_Date is not null) then buck1.newmobilenumber end ptp_received\n",
    ", case when buck1.loanAccountNumber in (select distinct Loan_account_no from ptpstatus) then buck1.newmobilenumber end Kept_ptp\n",
    ", case when coalesce(buck1.DPD, 0) between 1 and 30 and coalesce(buck1end.DPD, 0) = 0 and buck1.loanAccountNumber in (select distinct Loan_account_no from ptpstatus) then buck1.newmobilenumber end Normalized \n",
    ", case when coalesce(buck1.DPD, 0) between 1 and 30 and coalesce(buck1end.DPD, 0) = 0 and buck1.loanAccountNumber not in (select distinct Loan_account_no from ptpstatus) then buck1.newmobilenumber end Normalizedwithoutptp \n",
    ", case when coalesce(buck1.DPD, 0) between 1 and 30 and coalesce(buck1end.DPD, 0) <= 30 and buck1.loanAccountNumber in (select loanAccountNumber from payments) then buck1.newmobilenumber end Normalized_greg \n",
    ", case when coalesce(buck1.DPD, 0) between 1 and 30 then buck1.newmobilenumber end Normalized_greg_denominator\n",
    ", case when coalesce(buck1.DPD, 0) between 1 and 30 and coalesce(buck1end.DPD, 0) <= 30 and buck1.loanAccountNumber not in (select distinct Loan_account_no from ptpstatus) then buck1.newmobilenumber end Normalizedwithoutptp_greg\n",
    "from buck1\n",
    "left join buck1end on buck1.loanAccountNumber =  buck1end.loanAccountNumber\n",
    ")\n",
    ",\n",
    "buck2 as \n",
    "(select dt.WkstartDate, dt.WkendDate, lbfrc.loanAccountNumber, lbfrc.loanStatus, lbfrc.bucketDate, lbfrc.Max_current_DPD as DPD, lmt.customerId, right(cd.new_mobile_number, 10) newmobilenumber\n",
    ", row_number() over(partition by lbfrc.loanAccountNumber order by lbfrc.bucketDate desc) buck2rnk\n",
    "from `risk_credit_mis.loan_bucket_flow_report_core` lbfrc, dt \n",
    "left join `risk_credit_mis.loan_master_table` lmt on lmt.loanAccountNumber = lbfrc.loanAccountNumber\n",
    "left join cd on cd.customer_id = lmt.customerId\n",
    "where date(bucketDate)  between  date(dt.WkstartDate) and  date(dt.WkendDate)\n",
    "and coalesce(lbfrc.Max_current_DPD, 0) between 31 and 60 \n",
    "and date(lbfrc.firstDueDate) <= date(current_date())\n",
    "and lbfrc.loanStatus = 'In Arrears'\n",
    "and cd.rnk = 1\n",
    ")\n",
    ",\n",
    "buck2cr1 as \n",
    "(select   dt.WkstartDate,\n",
    "  dt.WkendDate,\n",
    "  g.Genesys_call_id,\n",
    "  g.callDatetime,\n",
    "  COALESCE(g.IS_APC, 0) APC,\n",
    "  COALESCE(g.IS_RPC, 0) RPC,\n",
    "  COALESCE(g.IS_PTP,0) PTP,\n",
    "  RIGHT(g.mobileNumber, 10) mobileNumber,\n",
    "  buck2.newmobilenumber mobilefrombuckettable,\n",
    "  g.campaignName,\n",
    "  g.agentGroup,\n",
    "  g.agentFullName,\n",
    "  g.employeeId,\n",
    "  g.connected,\n",
    "  g.notConnected,\n",
    "  g.callResult, \n",
    "  buck2.loanAccountNumber,\n",
    "  buck2.DPD,\n",
    "  case when g.IS_APC = 1 then g.mobileNumber end apc_m,\n",
    "  case when g.IS_RPC = 1 then g.mobileNumber end rpc_m,\n",
    "  case when g.IS_PTP = 1 then mobileNumber end ptp_m,\n",
    "  ROW_NUMBER() OVER(PARTITION BY g.Genesys_call_id ORDER BY g.callDatetime DESC, COALESCE(g.IS_APC, 0), COALESCE(g.IS_RPC, 0), COALESCE(g.IS_PTP, 0))rnk \n",
    "from  `risk_credit_mis.call_attempt_history_gensys` g,  dt\n",
    "inner join buck2 on buck2.newmobilenumber = right(g.mobileNumber,10)\n",
    "LEFT JOIN\n",
    "  `dap_ds_poweruser_playground.campaignmaster` cm ON  UPPER(cm.Campaignname) = UPPER(g.campaignName)\n",
    "where cm.Reference = 'COLL' \n",
    "AND DATE(g.callDatetime) BETWEEN DATE(dt.WkstartDate) AND DATE(dt.WkendDate)\n",
    "and buck2.buck2rnk = 1\n",
    ")\n",
    ",buck2cr1base as \n",
    "(select buck2cr1.WkstartDate, buck2cr1.WkendDate, buck2cr1.Genesys_call_id, buck2cr1.callDatetime\n",
    ", buck2cr1.mobileNumber\n",
    ", buck2cr1.mobilefrombuckettable\n",
    ", buck2cr1.campaignName\n",
    ", buck2cr1.agentGroup\n",
    ", buck2cr1.agentFullName\n",
    ", buck2cr1.employeeId\n",
    ", buck2cr1.connected\n",
    ", buck2cr1.notConnected\n",
    ", buck2cr1.callResult\n",
    ", buck2cr1.loanAccountNumber\n",
    ", buck2cr1.apc_m \n",
    ", buck2cr1.rpc_m\n",
    ", buck2cr1.ptp_m \n",
    ", buck2cr1.DPD\n",
    ", buck2cr1.rnk \n",
    " from buck2cr1 where rnk = 1\n",
    ")\n",
    ",\n",
    "buck2normalized as \n",
    "(select buck2.WkstartDate, buck2.WkendDate, buck2.loanAccountNumber , buck2.DPD weekstartDPD, buck1end.DPD weekendDPD\n",
    ", case when buck2.loanAccountNumber in (select distinct Loan_account_no from `risk_credit_mis.collection_ptp_status` where PTP_Due_Date is not null) then buck2.newmobilenumber end ptp_received\n",
    ", case when buck2.loanAccountNumber in (select distinct Loan_account_no from ptpstatus) then buck2.newmobilenumber end Kept_ptp\n",
    ", case when coalesce(buck2.DPD, 0) between 31 and 60 and coalesce(buck1end.DPD, 0) = 0 and buck2.loanAccountNumber in (select distinct Loan_account_no from ptpstatus) then buck2.newmobilenumber end Normalized \n",
    ", case when coalesce(buck2.DPD, 0) between 31 and 60 and coalesce(buck1end.DPD, 0) = 0 and buck2.loanAccountNumber not in (select distinct Loan_account_no from ptpstatus) then buck2.newmobilenumber end Normalizedwithoutptp \n",
    ", case when coalesce(buck2.DPD, 0) between 31 and 60 then buck2.newmobilenumber end Normalized_greg_denominator \n",
    ", case when coalesce(buck2.DPD, 0) between 31 and 60 and coalesce(buck1end.DPD, 0) <= 60 and buck2.loanAccountNumber in (select loanAccountNumber from payments) then buck2.newmobilenumber end Normalized_greg \n",
    ", case when coalesce(buck2.DPD, 0) between 31 and 60 and coalesce(buck1end.DPD, 0) <= 60 and buck2.loanAccountNumber not in (select distinct Loan_account_no from ptpstatus) then buck2.newmobilenumber end Normalizedwithoutptp_greg \n",
    "from buck2\n",
    "left join buck1end on buck2.loanAccountNumber =  buck1end.loanAccountNumber\n",
    ")\n",
    ",\n",
    "Ptp_payment as \n",
    "(select date_trunc(contact_date, day) contact_date, Loan_account_no, Phone_no, sum(case when coalesce(PTP_Status, 0) > 0 then PTP_Payment_amount else 0 end) ptppaymentamount \n",
    "from prj-prod-dataplatform.risk_credit_mis.collection_ptp_status group by date_trunc(contact_date, day), Loan_account_no, Phone_no\n",
    ")\n",
    ",\n",
    "buck1ptpamt as \n",
    "(select distinct buck1normalized.WkstartDate,buck1normalized.WkendDate,loanAccountNumber\n",
    ", case when Normalized_greg is not null then (select sum(ptppaymentamount) from Ptp_payment where Loan_account_no = buck1normalized.loanAccountNumber and date(contact_date) between dt.WkstartDate and dt.WkendDate) else 0 end ptpamount_normalized  \n",
    ",(select sum(ptppaymentamount) from Ptp_payment where Loan_account_no = buck1normalized.loanAccountNumber and date(contact_date) between dt.WkstartDate and dt.WkendDate)  ptpamount  \n",
    "from buck1normalized, dt)\n",
    ",\n",
    "buck2ptpamt as \n",
    "(select distinct buck2normalized.WkstartDate,buck2normalized.WkendDate,loanAccountNumber\n",
    ", case when Normalized is not null then (select sum(ptppaymentamount) from Ptp_payment where Loan_account_no = buck2normalized.loanAccountNumber and date(contact_date) \n",
    "between dt.WkstartDate and dt.WkendDate) else 0 end ptpamount_normalized  \n",
    ", (select sum(ptppaymentamount) from Ptp_payment where Loan_account_no = buck2normalized.loanAccountNumber and date(contact_date) \n",
    "between dt.WkstartDate and dt.WkendDate)  ptpamount \n",
    "from buck2normalized, dt),\n",
    "fte as \n",
    "(select distinct agentFullName FROM\n",
    "  `risk_credit_mis.call_attempt_history_gensys` g,\n",
    "  dt\n",
    "LEFT JOIN\n",
    "  `dap_ds_poweruser_playground.campaignmaster` cm\n",
    "ON\n",
    "  UPPER(cm.Campaignname) = UPPER(g.campaignName)\n",
    "WHERE\n",
    "   DATE(g.callDatetime) BETWEEN DATE(dt.WkstartDate)  AND DATE(WkendDate)\n",
    "   and cm.reference in ('REM', 'COLL', 'WC')),\n",
    "LUM as \n",
    "(select distinct loanAccountNumber from `prj-prod-dataplatform.risk_credit_mis.loan_master_table`, dt where flagDisbursement = 1 and date_trunc(disbursementDateTime, day) < dt.WkstartDate\n",
    "and loanPaidStatus not in ('Written Off','Completed', 'Settled')),\n",
    "aw as \n",
    "(select bucketDate, loanAccountNumber from `risk_credit_mis.loan_bucket_flow_report_core`, dt where coalesce(Max_current_DPD ,0) between 1 and 179 and date(bucketDate) = dt.WkstartDate and loanStatus not in ('Written Off','Completed', 'Settled'))\n",
    "select *,\n",
    "(select count(distinct ptp_received) from buck1normalized)+(select count(distinct ptp_received) from buck2normalized) ptp_received,\n",
    "(select count(distinct Kept_ptp) from buck1normalized) + (select count(distinct Kept_ptp) from buck2normalized) kept_ptp,\n",
    "(select sum(ptpamount) from buck1ptpamt)bucket1ptppmt,\n",
    "(select sum(ptpamount) from buck2ptpamt) bucket2ptppmt,\n",
    "(select count(distinct agentFullName) from fte)FTE,\n",
    "(select count(distinct loanAccountNumber) from LUM) total_accounts,\n",
    "(select count(distinct loanAccountNumber) from aw) active_works\n",
    "from dt;\n",
    "\"\"\"\n",
    "\n",
    "df_others = client.query(sq).to_dataframe(progress_bar_type = 'tqdm')\n",
    "df_others['kept_ptp_rate'] = df_others['kept_ptp']/df_others['ptp_received']\n",
    "df_others.columns"
   ]
  },
  {
   "cell_type": "code",
   "execution_count": 22,
   "metadata": {},
   "outputs": [
    {
     "data": {
      "text/html": [
       "<div>\n",
       "<style scoped>\n",
       "    .dataframe tbody tr th:only-of-type {\n",
       "        vertical-align: middle;\n",
       "    }\n",
       "\n",
       "    .dataframe tbody tr th {\n",
       "        vertical-align: top;\n",
       "    }\n",
       "\n",
       "    .dataframe thead th {\n",
       "        text-align: right;\n",
       "    }\n",
       "</style>\n",
       "<table border=\"1\" class=\"dataframe\">\n",
       "  <thead>\n",
       "    <tr style=\"text-align: right;\">\n",
       "      <th></th>\n",
       "      <th>WkstartDate</th>\n",
       "      <th>WkendDate</th>\n",
       "      <th>apc_wc_connected</th>\n",
       "      <th>wccalled</th>\n",
       "      <th>WelcomeCall_ContactRate</th>\n",
       "      <th>apc_rc_connected</th>\n",
       "      <th>rccalled</th>\n",
       "      <th>remindercallcontactrate</th>\n",
       "      <th>bucket1contacted</th>\n",
       "      <th>bucketcallcontacted</th>\n",
       "      <th>bucket1contactrate</th>\n",
       "      <th>Normalized_Greg</th>\n",
       "      <th>Normalized_denominator</th>\n",
       "      <th>Bucket1_Normalized</th>\n",
       "      <th>bucket2contacted</th>\n",
       "      <th>bucket2callcontacted</th>\n",
       "      <th>bucket2contactrate</th>\n",
       "      <th>Normalized_buck2_Greg</th>\n",
       "      <th>Normalized_buck2_denominator</th>\n",
       "      <th>bucket2Normalizationrate</th>\n",
       "      <th>inArearstoTotal_Overdue_Amount</th>\n",
       "      <th>paymentsfromoverdue</th>\n",
       "      <th>recoveryrate</th>\n",
       "      <th>wentdelinquent</th>\n",
       "      <th>rollbacked</th>\n",
       "      <th>defaulteddelinquentamount</th>\n",
       "      <th>rollbacked_amount</th>\n",
       "      <th>rollback_rate</th>\n",
       "      <th>rollback_rate_v</th>\n",
       "      <th>ptp_received</th>\n",
       "      <th>kept_ptp</th>\n",
       "      <th>kept_ptp_rate</th>\n",
       "      <th>bucket1ptppmt</th>\n",
       "      <th>bucket2ptppmt</th>\n",
       "      <th>FTE</th>\n",
       "      <th>total_accounts</th>\n",
       "      <th>active_works</th>\n",
       "    </tr>\n",
       "  </thead>\n",
       "  <tbody>\n",
       "    <tr>\n",
       "      <th>0</th>\n",
       "      <td>2024-04-01</td>\n",
       "      <td>2024-04-07</td>\n",
       "      <td>1096</td>\n",
       "      <td>1982</td>\n",
       "      <td>0.552977</td>\n",
       "      <td>2295</td>\n",
       "      <td>6934</td>\n",
       "      <td>0.330978</td>\n",
       "      <td>975</td>\n",
       "      <td>4758</td>\n",
       "      <td>0.204918</td>\n",
       "      <td>952</td>\n",
       "      <td>3661</td>\n",
       "      <td>0.260038</td>\n",
       "      <td>148</td>\n",
       "      <td>2309</td>\n",
       "      <td>0.064097</td>\n",
       "      <td>106</td>\n",
       "      <td>2119</td>\n",
       "      <td>0.050024</td>\n",
       "      <td>5.105118e+08</td>\n",
       "      <td>4769227.41</td>\n",
       "      <td>0.009342</td>\n",
       "      <td>7061</td>\n",
       "      <td>1217</td>\n",
       "      <td>16692348.25</td>\n",
       "      <td>2769195.62</td>\n",
       "      <td>0.172355</td>\n",
       "      <td>0.165896</td>\n",
       "      <td>2547</td>\n",
       "      <td>436</td>\n",
       "      <td>0.171182</td>\n",
       "      <td>812492.74</td>\n",
       "      <td>60498.02</td>\n",
       "      <td>27</td>\n",
       "      <td>56588</td>\n",
       "      <td>11708</td>\n",
       "    </tr>\n",
       "  </tbody>\n",
       "</table>\n",
       "</div>"
      ],
      "text/plain": [
       "  WkstartDate   WkendDate  apc_wc_connected  wccalled  \\\n",
       "0  2024-04-01  2024-04-07              1096      1982   \n",
       "\n",
       "   WelcomeCall_ContactRate  apc_rc_connected  rccalled  \\\n",
       "0                 0.552977              2295      6934   \n",
       "\n",
       "   remindercallcontactrate  bucket1contacted  bucketcallcontacted  \\\n",
       "0                 0.330978               975                 4758   \n",
       "\n",
       "   bucket1contactrate  Normalized_Greg  Normalized_denominator  \\\n",
       "0            0.204918              952                    3661   \n",
       "\n",
       "   Bucket1_Normalized  bucket2contacted  bucket2callcontacted  \\\n",
       "0            0.260038               148                  2309   \n",
       "\n",
       "   bucket2contactrate  Normalized_buck2_Greg  Normalized_buck2_denominator  \\\n",
       "0            0.064097                    106                          2119   \n",
       "\n",
       "   bucket2Normalizationrate  inArearstoTotal_Overdue_Amount  \\\n",
       "0                  0.050024                    5.105118e+08   \n",
       "\n",
       "   paymentsfromoverdue  recoveryrate  wentdelinquent  rollbacked  \\\n",
       "0           4769227.41      0.009342            7061        1217   \n",
       "\n",
       "   defaulteddelinquentamount  rollbacked_amount  rollback_rate  \\\n",
       "0                16692348.25         2769195.62       0.172355   \n",
       "\n",
       "   rollback_rate_v  ptp_received  kept_ptp  kept_ptp_rate  bucket1ptppmt  \\\n",
       "0         0.165896          2547       436       0.171182      812492.74   \n",
       "\n",
       "   bucket2ptppmt  FTE  total_accounts  active_works  \n",
       "0       60498.02   27           56588         11708  "
      ]
     },
     "execution_count": 22,
     "metadata": {},
     "output_type": "execute_result"
    }
   ],
   "source": [
    "pd.set_option(\"display.max_columns\", None)\n",
    "df = pd.concat([df, df_others[['ptp_received', 'kept_ptp', 'kept_ptp_rate', 'bucket1ptppmt',\n",
    "       'bucket2ptppmt', 'FTE', 'total_accounts', 'active_works'    ]]], axis = 1)\n",
    "df"
   ]
  },
  {
   "cell_type": "markdown",
   "metadata": {},
   "source": [
    "This SQL code performs a complex analysis involving multiple steps to derive various metrics related to call center operations, loan accounts, and payment status. Let's break down the logic of the code:\n",
    "\n",
    "1. **Common Table Expressions (CTEs):**\n",
    "   - **`dt`:** Creates a date table with the provided start and end dates.\n",
    "   - **`disb`:** Retrieves disbursement-related information for loans, filtering out settled or completed loans.\n",
    "   - **`wc1`:** Retrieves call attempt history data from the Genesys system, joining it with the `disb` CTE based on mobile numbers and campaign references. It uses window functions to assign row numbers based on call datetime and various call types (APC, RPC, PTP).\n",
    "   - **`wc`:** Filters the `wc1` CTE to include only rows with row number (`rnk`) equal to 1, effectively selecting the latest call attempt for each Genesys call ID.\n",
    "   - **`wcbase`:** Creates a base table for call attempt history with relevant columns.\n",
    "\n",
    "2. **Customer Contact Details CTE (`cd`):**\n",
    "   - Retrieves customer contact details and assigns row numbers based on the change date.\n",
    "\n",
    "3. **Bucket 1 CTE (`buck1`):**\n",
    "   - Retrieves loan bucket flow data for loans with a maximum DPD between 1 and 30, first due date before the current date, and an 'In Arrears' status.\n",
    "\n",
    "4. **Bucket 1 Call Attempt (`buck1cr1`):**\n",
    "   - Retrieves call attempt history for Bucket 1 loans, filtering based on campaign references and call datetime. It also uses window functions to assign row numbers.\n",
    "\n",
    "5. **Bucket 1 Normalization (`buck1normalized`):**\n",
    "   - Performs normalization for Bucket 1, categorizing loans based on specific conditions and calculating certain metrics.\n",
    "\n",
    "6. **Bucket 2 CTE (`buck2`):**\n",
    "   - Retrieves loan bucket flow data for loans with a maximum DPD between 31 and 60, 'In Arrears' status, and first due date before the current date.\n",
    "\n",
    "7. **Bucket 2 Call Attempt (`buck2cr1`):**\n",
    "   - Retrieves call attempt history for Bucket 2 loans, filtering based on campaign references and call datetime. It also uses window functions to assign row numbers.\n",
    "\n",
    "8. **Bucket 2 Normalization (`buck2normalized`):**\n",
    "   - Performs normalization for Bucket 2, categorizing loans based on specific conditions and calculating certain metrics.\n",
    "\n",
    "9. **PTP Status CTE (`ptpstatus`):**\n",
    "   - Determines the PTP (Promise to Pay) status for loans within the specified date range.\n",
    "\n",
    "10. **Payments CTE (`payments`):**\n",
    "    - Retrieves loan account numbers with payments made within the specified date range.\n",
    "\n",
    "11. **Bucket 1 PTP Amount (`buck1ptpamt`):**\n",
    "    - Calculates PTP amounts for Bucket 1 loans.\n",
    "\n",
    "12. **Bucket 2 PTP Amount (`buck2ptpamt`):**\n",
    "    - Calculates PTP amounts for Bucket 2 loans.\n",
    "\n",
    "13. **Full-Time Employees (`fte`):**\n",
    "    - Retrieves distinct agent full names considered as full-time employees.\n",
    "\n",
    "14. **Loan Under Management (`LUM`):**\n",
    "    - Retrieves loan account numbers with a disbursement date before the current analysis period.\n",
    "\n",
    "15. **Active Works (`aw`):**\n",
    "    - Retrieves active works (loans) with a maximum DPD between 1 and 179.\n",
    "\n",
    "16. **Final Selection and Aggregation:**\n",
    "    - The final SELECT statement aggregates various metrics and counts based on the derived CTEs and external tables.\n",
    "\n",
    "17. **Derived Metrics:**\n",
    "    - Calculations for metrics like PTP received, kept PTP, PTP payment amounts, full-time employees, total accounts, and active works.\n",
    "\n",
    "18. **Calculated Rates:**\n",
    "    - Calculates the 'kept PTP rate' as the ratio of kept PTP to PTP received.\n",
    "\n",
    "The code essentially combines data from multiple sources, performs various normalizations and aggregations, and calculates key metrics related to call center operations, loan accounts, and payment status. The final output is a DataFrame with the derived metrics and rates."
   ]
  },
  {
   "cell_type": "markdown",
   "metadata": {},
   "source": [
    "# Final Merge"
   ]
  },
  {
   "cell_type": "code",
   "execution_count": 23,
   "metadata": {},
   "outputs": [
    {
     "name": "stdout",
     "output_type": "stream",
     "text": [
      "<class 'pandas.core.frame.DataFrame'>\n",
      "RangeIndex: 1 entries, 0 to 0\n",
      "Data columns (total 37 columns):\n",
      " #   Column                          Non-Null Count  Dtype  \n",
      "---  ------                          --------------  -----  \n",
      " 0   WkstartDate                     1 non-null      object \n",
      " 1   WkendDate                       1 non-null      object \n",
      " 2   apc_wc_connected                1 non-null      Int64  \n",
      " 3   wccalled                        1 non-null      Int64  \n",
      " 4   WelcomeCall_ContactRate         1 non-null      float64\n",
      " 5   apc_rc_connected                1 non-null      Int64  \n",
      " 6   rccalled                        1 non-null      Int64  \n",
      " 7   remindercallcontactrate         1 non-null      float64\n",
      " 8   bucket1contacted                1 non-null      Int64  \n",
      " 9   bucketcallcontacted             1 non-null      Int64  \n",
      " 10  bucket1contactrate              1 non-null      float64\n",
      " 11  Normalized_Greg                 1 non-null      Int64  \n",
      " 12  Normalized_denominator          1 non-null      Int64  \n",
      " 13  Bucket1_Normalized              1 non-null      float64\n",
      " 14  bucket2contacted                1 non-null      Int64  \n",
      " 15  bucket2callcontacted            1 non-null      Int64  \n",
      " 16  bucket2contactrate              1 non-null      float64\n",
      " 17  Normalized_buck2_Greg           1 non-null      Int64  \n",
      " 18  Normalized_buck2_denominator    1 non-null      Int64  \n",
      " 19  bucket2Normalizationrate        1 non-null      float64\n",
      " 20  inArearstoTotal_Overdue_Amount  1 non-null      float64\n",
      " 21  paymentsfromoverdue             1 non-null      float64\n",
      " 22  recoveryrate                    1 non-null      float64\n",
      " 23  wentdelinquent                  1 non-null      Int64  \n",
      " 24  rollbacked                      1 non-null      Int64  \n",
      " 25  defaulteddelinquentamount       1 non-null      float64\n",
      " 26  rollbacked_amount               1 non-null      float64\n",
      " 27  rollback_rate                   1 non-null      float64\n",
      " 28  rollback_rate_v                 1 non-null      float64\n",
      " 29  ptp_received                    1 non-null      Int64  \n",
      " 30  kept_ptp                        1 non-null      Int64  \n",
      " 31  kept_ptp_rate                   1 non-null      float64\n",
      " 32  bucket1ptppmt                   1 non-null      float64\n",
      " 33  bucket2ptppmt                   1 non-null      float64\n",
      " 34  FTE                             1 non-null      Int64  \n",
      " 35  total_accounts                  1 non-null      Int64  \n",
      " 36  active_works                    1 non-null      Int64  \n",
      "dtypes: Int64(19), float64(16), object(2)\n",
      "memory usage: 443.0+ bytes\n"
     ]
    }
   ],
   "source": [
    "df['WkstartDate'] = df['WkstartDate'].astype(str)\n",
    "df['WkendDate'] = df['WkendDate'].astype(str)\n",
    "# Convert columns to the correct data types\n",
    "df['bucket1ptppmt'] = df['bucket1ptppmt'].astype(float)\n",
    "df['bucket2ptppmt'] = df['bucket2ptppmt'].astype(float)\n",
    "df['WelcomeCall_ContactRate'] = df['WelcomeCall_ContactRate'].astype(float)\n",
    "df['remindercallcontactrate'] = df['remindercallcontactrate'].astype(float)\n",
    "df['bucket1contactrate'] = df['bucket1contactrate'].astype(float)\n",
    "df['Bucket1_Normalized'] = df['Bucket1_Normalized'].astype(float)\n",
    "df['bucket2contactrate'] = df['bucket2contactrate'].astype(float)\n",
    "df['bucket2Normalizationrate'] = df['bucket2Normalizationrate'].astype(float)\n",
    "df['kept_ptp_rate'] = df['kept_ptp_rate'].astype(float)\n",
    "df['recoveryrate'] = df['recoveryrate'].astype(float)\n",
    "df['paymentsfromoverdue'] = df['paymentsfromoverdue'].astype(float)\n",
    "df['inArearstoTotal_Overdue_Amount'] = df['inArearstoTotal_Overdue_Amount'].astype(float)\n",
    "df['defaulteddelinquentamount'] = df['defaulteddelinquentamount'].astype(float)\t\n",
    "df['rollbacked_amount'] = df['rollbacked_amount'].astype(float)\n",
    "df['rollback_rate'] = df['rollback_rate'].astype(float)\n",
    "df['rollback_rate_v'] = df['rollback_rate_v'].astype(float)\n",
    "\t\t\t\n",
    "\n",
    "\n",
    "\n",
    "df.info()"
   ]
  },
  {
   "cell_type": "code",
   "execution_count": 24,
   "metadata": {},
   "outputs": [
    {
     "data": {
      "text/html": [
       "<div>\n",
       "<style scoped>\n",
       "    .dataframe tbody tr th:only-of-type {\n",
       "        vertical-align: middle;\n",
       "    }\n",
       "\n",
       "    .dataframe tbody tr th {\n",
       "        vertical-align: top;\n",
       "    }\n",
       "\n",
       "    .dataframe thead th {\n",
       "        text-align: right;\n",
       "    }\n",
       "</style>\n",
       "<table border=\"1\" class=\"dataframe\">\n",
       "  <thead>\n",
       "    <tr style=\"text-align: right;\">\n",
       "      <th></th>\n",
       "      <th>WkstartDate</th>\n",
       "      <th>WkendDate</th>\n",
       "      <th>apc_wc_connected</th>\n",
       "      <th>wccalled</th>\n",
       "      <th>WelcomeCall_ContactRate</th>\n",
       "      <th>apc_rc_connected</th>\n",
       "      <th>rccalled</th>\n",
       "      <th>remindercallcontactrate</th>\n",
       "      <th>bucket1contacted</th>\n",
       "      <th>bucketcallcontacted</th>\n",
       "      <th>bucket1contactrate</th>\n",
       "      <th>Normalized_Greg</th>\n",
       "      <th>Normalized_denominator</th>\n",
       "      <th>Bucket1_Normalized</th>\n",
       "      <th>bucket2contacted</th>\n",
       "      <th>bucket2callcontacted</th>\n",
       "      <th>bucket2contactrate</th>\n",
       "      <th>Normalized_buck2_Greg</th>\n",
       "      <th>Normalized_buck2_denominator</th>\n",
       "      <th>bucket2Normalizationrate</th>\n",
       "      <th>inArearstoTotal_Overdue_Amount</th>\n",
       "      <th>paymentsfromoverdue</th>\n",
       "      <th>recoveryrate</th>\n",
       "      <th>wentdelinquent</th>\n",
       "      <th>rollbacked</th>\n",
       "      <th>defaulteddelinquentamount</th>\n",
       "      <th>rollbacked_amount</th>\n",
       "      <th>rollback_rate</th>\n",
       "      <th>rollback_rate_v</th>\n",
       "      <th>ptp_received</th>\n",
       "      <th>kept_ptp</th>\n",
       "      <th>kept_ptp_rate</th>\n",
       "      <th>bucket1ptppmt</th>\n",
       "      <th>bucket2ptppmt</th>\n",
       "      <th>FTE</th>\n",
       "      <th>total_accounts</th>\n",
       "      <th>active_works</th>\n",
       "    </tr>\n",
       "  </thead>\n",
       "  <tbody>\n",
       "    <tr>\n",
       "      <th>0</th>\n",
       "      <td>2024-04-01</td>\n",
       "      <td>2024-04-07</td>\n",
       "      <td>1096</td>\n",
       "      <td>1982</td>\n",
       "      <td>0.552977</td>\n",
       "      <td>2295</td>\n",
       "      <td>6934</td>\n",
       "      <td>0.330978</td>\n",
       "      <td>975</td>\n",
       "      <td>4758</td>\n",
       "      <td>0.204918</td>\n",
       "      <td>952</td>\n",
       "      <td>3661</td>\n",
       "      <td>0.260038</td>\n",
       "      <td>148</td>\n",
       "      <td>2309</td>\n",
       "      <td>0.064097</td>\n",
       "      <td>106</td>\n",
       "      <td>2119</td>\n",
       "      <td>0.050024</td>\n",
       "      <td>5.105118e+08</td>\n",
       "      <td>4769227.41</td>\n",
       "      <td>0.009342</td>\n",
       "      <td>7061</td>\n",
       "      <td>1217</td>\n",
       "      <td>16692348.25</td>\n",
       "      <td>2769195.62</td>\n",
       "      <td>0.172355</td>\n",
       "      <td>0.165896</td>\n",
       "      <td>2547</td>\n",
       "      <td>436</td>\n",
       "      <td>0.171182</td>\n",
       "      <td>812492.74</td>\n",
       "      <td>60498.02</td>\n",
       "      <td>27</td>\n",
       "      <td>56588</td>\n",
       "      <td>11708</td>\n",
       "    </tr>\n",
       "  </tbody>\n",
       "</table>\n",
       "</div>"
      ],
      "text/plain": [
       "  WkstartDate   WkendDate  apc_wc_connected  wccalled  \\\n",
       "0  2024-04-01  2024-04-07              1096      1982   \n",
       "\n",
       "   WelcomeCall_ContactRate  apc_rc_connected  rccalled  \\\n",
       "0                 0.552977              2295      6934   \n",
       "\n",
       "   remindercallcontactrate  bucket1contacted  bucketcallcontacted  \\\n",
       "0                 0.330978               975                 4758   \n",
       "\n",
       "   bucket1contactrate  Normalized_Greg  Normalized_denominator  \\\n",
       "0            0.204918              952                    3661   \n",
       "\n",
       "   Bucket1_Normalized  bucket2contacted  bucket2callcontacted  \\\n",
       "0            0.260038               148                  2309   \n",
       "\n",
       "   bucket2contactrate  Normalized_buck2_Greg  Normalized_buck2_denominator  \\\n",
       "0            0.064097                    106                          2119   \n",
       "\n",
       "   bucket2Normalizationrate  inArearstoTotal_Overdue_Amount  \\\n",
       "0                  0.050024                    5.105118e+08   \n",
       "\n",
       "   paymentsfromoverdue  recoveryrate  wentdelinquent  rollbacked  \\\n",
       "0           4769227.41      0.009342            7061        1217   \n",
       "\n",
       "   defaulteddelinquentamount  rollbacked_amount  rollback_rate  \\\n",
       "0                16692348.25         2769195.62       0.172355   \n",
       "\n",
       "   rollback_rate_v  ptp_received  kept_ptp  kept_ptp_rate  bucket1ptppmt  \\\n",
       "0         0.165896          2547       436       0.171182      812492.74   \n",
       "\n",
       "   bucket2ptppmt  FTE  total_accounts  active_works  \n",
       "0       60498.02   27           56588         11708  "
      ]
     },
     "execution_count": 24,
     "metadata": {},
     "output_type": "execute_result"
    }
   ],
   "source": [
    "df.head()"
   ]
  },
  {
   "cell_type": "code",
   "execution_count": 25,
   "metadata": {},
   "outputs": [],
   "source": [
    "df.to_csv(\"Temp_file.csv\", index = False)"
   ]
  },
  {
   "cell_type": "code",
   "execution_count": 26,
   "metadata": {},
   "outputs": [
    {
     "name": "stdout",
     "output_type": "stream",
     "text": [
      "Table collection_Weekly_kpi_v5 created in dataset dap_ds_poweruser_playground.\n"
     ]
    }
   ],
   "source": [
    "# Reset the index of the DataFrame\n",
    "df = df.reset_index(drop=True)\n",
    "\n",
    "# Define the dataset and table references\n",
    "dataset_id = 'dap_ds_poweruser_playground'\n",
    "table_id = 'collection_Weekly_kpi_v5'\n",
    "# Define the table schema as per your DataFrame columns\n",
    "schema = [\n",
    "    bigquery.SchemaField(\"WkstartDate\", \"string\"),\n",
    "    bigquery.SchemaField(\"WkendDate\", \"string\"),\n",
    "    bigquery.SchemaField(\"apc_wc_connected\", \"int64\"),\n",
    "    bigquery.SchemaField(\"wccalled\", \"int64\"),\n",
    "    bigquery.SchemaField(\"WelcomeCall_ContactRate\", \"float64\"),\n",
    "    bigquery.SchemaField(\"apc_rc_connected\", \"int64\"),\n",
    "    bigquery.SchemaField(\"rccalled\", \"int64\"),\n",
    "    bigquery.SchemaField(\"remindercallcontactrate\", \"float64\"),\n",
    "    bigquery.SchemaField(\"bucket1contacted\", \"int64\"),\n",
    "    bigquery.SchemaField(\"bucketcallcontacted\", \"int64\"),\n",
    "    bigquery.SchemaField(\"bucket1contactrate\", \"float64\"),\n",
    "    bigquery.SchemaField(\"Normalized_Greg\", \"int64\"),\n",
    "    bigquery.SchemaField(\"Normalized_denominator\", \"int64\"),\n",
    "    bigquery.SchemaField(\"Bucket1_Normalized\", \"float64\"),\n",
    "    bigquery.SchemaField(\"bucket2contacted\", \"int64\"),\n",
    "    bigquery.SchemaField(\"bucket2callcontacted\", \"int64\"),\n",
    "    bigquery.SchemaField(\"bucket2contactrate\", \"float64\"),\n",
    "    bigquery.SchemaField(\"Normalized_buck2_Greg\", \"int64\"),\n",
    "    bigquery.SchemaField(\"Normalized_buck2_denominator\", \"int64\"),\n",
    "    bigquery.SchemaField(\"bucket2Normalizationrate\", \"float64\"),\n",
    "    bigquery.SchemaField(\"ptp_received\", \"int64\"),\n",
    "    bigquery.SchemaField(\"kept_ptp\", \"int64\"),\n",
    "    bigquery.SchemaField(\"kept_ptp_rate\", \"float64\"),\n",
    "    bigquery.SchemaField(\"inArearstoTotal_Overdue_Amount\", \"float64\"),\n",
    "    bigquery.SchemaField(\"paymentsfromoverdue\", \"float64\"),\n",
    "    bigquery.SchemaField(\"recoveryrate\", 'float64'),\n",
    "    bigquery.SchemaField(\"wentdelinquent\", \"int64\"),\n",
    "    bigquery.SchemaField(\"rollbacked\", \"int64\"),\n",
    "    bigquery.SchemaField(\"defaulteddelinquentamount\", \"float64\"),\n",
    "    bigquery.SchemaField(\"rollbacked_amount\", \"float64\"),\n",
    "    bigquery.SchemaField(\"rollback_rate\", \"float64\"),\n",
    "    bigquery.SchemaField(\"rollback_rate_v\", \"float64\"),\n",
    "    bigquery.SchemaField(\"bucket1ptppmt\", \"float64\"),\n",
    "    bigquery.SchemaField(\"bucket2ptppmt\", \"float64\"),\n",
    "    bigquery.SchemaField(\"FTE\", \"int64\"),\n",
    "    bigquery.SchemaField(\"total_accounts\", \"int64\"),\n",
    "    bigquery.SchemaField(\"active_works\", \"int64\"),\n",
    "]\n",
    "# Create the dataset reference\n",
    "dataset_ref = client.dataset(dataset_id)\n",
    "\n",
    "# Define the table reference\n",
    "table_ref = dataset_ref.table(table_id)\n",
    "\n",
    "# Configure the job to overwrite the table if it already exists\n",
    "job_config = bigquery.LoadJobConfig(schema = schema)\n",
    "\n",
    "# Load the DataFrame into BigQuery\n",
    "job = client.load_table_from_dataframe(df, table_ref, job_config=job_config)\n",
    "\n",
    "# Wait for the job to complete\n",
    "job.result()\n",
    "\n",
    "print(f\"Table {table_id} created in dataset {dataset_id}.\")"
   ]
  },
  {
   "cell_type": "markdown",
   "metadata": {},
   "source": [
    "# Plots"
   ]
  },
  {
   "cell_type": "code",
   "execution_count": 27,
   "metadata": {},
   "outputs": [],
   "source": [
    "sq = \"\"\"select * from dap_ds_poweruser_playground.collection_Weekly_kpi_v5 order by 1 desc;\"\"\"\n",
    "df1 = client.query(sq).to_dataframe()"
   ]
  },
  {
   "cell_type": "code",
   "execution_count": 28,
   "metadata": {},
   "outputs": [
    {
     "data": {
      "text/html": [
       "<div>\n",
       "<style scoped>\n",
       "    .dataframe tbody tr th:only-of-type {\n",
       "        vertical-align: middle;\n",
       "    }\n",
       "\n",
       "    .dataframe tbody tr th {\n",
       "        vertical-align: top;\n",
       "    }\n",
       "\n",
       "    .dataframe thead th {\n",
       "        text-align: right;\n",
       "    }\n",
       "</style>\n",
       "<table border=\"1\" class=\"dataframe\">\n",
       "  <thead>\n",
       "    <tr style=\"text-align: right;\">\n",
       "      <th></th>\n",
       "      <th>WkstartDate</th>\n",
       "      <th>WkendDate</th>\n",
       "      <th>apc_wc_connected</th>\n",
       "      <th>wccalled</th>\n",
       "      <th>WelcomeCall_ContactRate</th>\n",
       "      <th>apc_rc_connected</th>\n",
       "      <th>rccalled</th>\n",
       "      <th>remindercallcontactrate</th>\n",
       "      <th>bucket1contacted</th>\n",
       "      <th>bucketcallcontacted</th>\n",
       "      <th>bucket1contactrate</th>\n",
       "      <th>Normalized_Greg</th>\n",
       "      <th>Normalized_denominator</th>\n",
       "      <th>Bucket1_Normalized</th>\n",
       "      <th>bucket2contacted</th>\n",
       "      <th>bucket2callcontacted</th>\n",
       "      <th>bucket2contactrate</th>\n",
       "      <th>Normalized_buck2_Greg</th>\n",
       "      <th>Normalized_buck2_denominator</th>\n",
       "      <th>bucket2Normalizationrate</th>\n",
       "      <th>inArearstoTotal_Overdue_Amount</th>\n",
       "      <th>paymentsfromoverdue</th>\n",
       "      <th>recoveryrate</th>\n",
       "      <th>wentdelinquent</th>\n",
       "      <th>rollbacked</th>\n",
       "      <th>defaulteddelinquentamount</th>\n",
       "      <th>rollbacked_amount</th>\n",
       "      <th>rollback_rate</th>\n",
       "      <th>rollback_rate_v</th>\n",
       "      <th>ptp_received</th>\n",
       "      <th>kept_ptp</th>\n",
       "      <th>kept_ptp_rate</th>\n",
       "      <th>bucket1ptppmt</th>\n",
       "      <th>bucket2ptppmt</th>\n",
       "      <th>FTE</th>\n",
       "      <th>total_accounts</th>\n",
       "      <th>active_works</th>\n",
       "    </tr>\n",
       "  </thead>\n",
       "  <tbody>\n",
       "    <tr>\n",
       "      <th>0</th>\n",
       "      <td>2024-04-01</td>\n",
       "      <td>2024-04-07</td>\n",
       "      <td>1096</td>\n",
       "      <td>1982</td>\n",
       "      <td>0.552977</td>\n",
       "      <td>2295</td>\n",
       "      <td>6934</td>\n",
       "      <td>0.330978</td>\n",
       "      <td>975</td>\n",
       "      <td>4758</td>\n",
       "      <td>0.204918</td>\n",
       "      <td>952</td>\n",
       "      <td>3661</td>\n",
       "      <td>0.260038</td>\n",
       "      <td>148</td>\n",
       "      <td>2309</td>\n",
       "      <td>0.064097</td>\n",
       "      <td>106</td>\n",
       "      <td>2119</td>\n",
       "      <td>0.050024</td>\n",
       "      <td>5.105118e+08</td>\n",
       "      <td>4769227.41</td>\n",
       "      <td>0.009342</td>\n",
       "      <td>7061</td>\n",
       "      <td>1217</td>\n",
       "      <td>16692348.25</td>\n",
       "      <td>2769195.62</td>\n",
       "      <td>0.172355</td>\n",
       "      <td>0.165896</td>\n",
       "      <td>2547</td>\n",
       "      <td>436</td>\n",
       "      <td>0.171182</td>\n",
       "      <td>812492.74</td>\n",
       "      <td>60498.02</td>\n",
       "      <td>27</td>\n",
       "      <td>56588</td>\n",
       "      <td>11708</td>\n",
       "    </tr>\n",
       "    <tr>\n",
       "      <th>1</th>\n",
       "      <td>2024-03-25</td>\n",
       "      <td>2024-03-31</td>\n",
       "      <td>334</td>\n",
       "      <td>601</td>\n",
       "      <td>0.555740</td>\n",
       "      <td>2789</td>\n",
       "      <td>7191</td>\n",
       "      <td>0.387846</td>\n",
       "      <td>449</td>\n",
       "      <td>3623</td>\n",
       "      <td>0.123930</td>\n",
       "      <td>729</td>\n",
       "      <td>3600</td>\n",
       "      <td>0.202500</td>\n",
       "      <td>131</td>\n",
       "      <td>2627</td>\n",
       "      <td>0.049867</td>\n",
       "      <td>76</td>\n",
       "      <td>1974</td>\n",
       "      <td>0.038501</td>\n",
       "      <td>4.963229e+08</td>\n",
       "      <td>3150064.47</td>\n",
       "      <td>0.006347</td>\n",
       "      <td>5240</td>\n",
       "      <td>388</td>\n",
       "      <td>12347556.06</td>\n",
       "      <td>920889.32</td>\n",
       "      <td>0.074046</td>\n",
       "      <td>0.074581</td>\n",
       "      <td>2164</td>\n",
       "      <td>149</td>\n",
       "      <td>0.068854</td>\n",
       "      <td>248999.11</td>\n",
       "      <td>13224.16</td>\n",
       "      <td>28</td>\n",
       "      <td>55742</td>\n",
       "      <td>11595</td>\n",
       "    </tr>\n",
       "    <tr>\n",
       "      <th>2</th>\n",
       "      <td>2024-03-18</td>\n",
       "      <td>2024-03-24</td>\n",
       "      <td>1030</td>\n",
       "      <td>1545</td>\n",
       "      <td>0.666667</td>\n",
       "      <td>1898</td>\n",
       "      <td>5561</td>\n",
       "      <td>0.341306</td>\n",
       "      <td>715</td>\n",
       "      <td>3986</td>\n",
       "      <td>0.179378</td>\n",
       "      <td>410</td>\n",
       "      <td>3135</td>\n",
       "      <td>0.130781</td>\n",
       "      <td>136</td>\n",
       "      <td>2087</td>\n",
       "      <td>0.065165</td>\n",
       "      <td>47</td>\n",
       "      <td>1914</td>\n",
       "      <td>0.024556</td>\n",
       "      <td>4.855786e+08</td>\n",
       "      <td>2854453.85</td>\n",
       "      <td>0.005878</td>\n",
       "      <td>3117</td>\n",
       "      <td>447</td>\n",
       "      <td>7076555.27</td>\n",
       "      <td>1010148.06</td>\n",
       "      <td>0.143407</td>\n",
       "      <td>0.142746</td>\n",
       "      <td>2129</td>\n",
       "      <td>263</td>\n",
       "      <td>0.123532</td>\n",
       "      <td>518001.55</td>\n",
       "      <td>40034.70</td>\n",
       "      <td>28</td>\n",
       "      <td>54741</td>\n",
       "      <td>10874</td>\n",
       "    </tr>\n",
       "    <tr>\n",
       "      <th>3</th>\n",
       "      <td>2024-03-11</td>\n",
       "      <td>2024-03-17</td>\n",
       "      <td>952</td>\n",
       "      <td>1449</td>\n",
       "      <td>0.657005</td>\n",
       "      <td>2693</td>\n",
       "      <td>6041</td>\n",
       "      <td>0.445787</td>\n",
       "      <td>786</td>\n",
       "      <td>4678</td>\n",
       "      <td>0.168021</td>\n",
       "      <td>491</td>\n",
       "      <td>3108</td>\n",
       "      <td>0.157979</td>\n",
       "      <td>150</td>\n",
       "      <td>2371</td>\n",
       "      <td>0.063264</td>\n",
       "      <td>68</td>\n",
       "      <td>1860</td>\n",
       "      <td>0.036559</td>\n",
       "      <td>4.757289e+08</td>\n",
       "      <td>4735094.80</td>\n",
       "      <td>0.009953</td>\n",
       "      <td>5156</td>\n",
       "      <td>767</td>\n",
       "      <td>12068690.99</td>\n",
       "      <td>1757044.92</td>\n",
       "      <td>0.148759</td>\n",
       "      <td>0.145587</td>\n",
       "      <td>2343</td>\n",
       "      <td>336</td>\n",
       "      <td>0.143406</td>\n",
       "      <td>730139.48</td>\n",
       "      <td>52946.73</td>\n",
       "      <td>28</td>\n",
       "      <td>53815</td>\n",
       "      <td>10645</td>\n",
       "    </tr>\n",
       "    <tr>\n",
       "      <th>4</th>\n",
       "      <td>2024-03-04</td>\n",
       "      <td>2024-03-10</td>\n",
       "      <td>838</td>\n",
       "      <td>1291</td>\n",
       "      <td>0.649109</td>\n",
       "      <td>2809</td>\n",
       "      <td>7081</td>\n",
       "      <td>0.396695</td>\n",
       "      <td>574</td>\n",
       "      <td>3661</td>\n",
       "      <td>0.156788</td>\n",
       "      <td>503</td>\n",
       "      <td>3213</td>\n",
       "      <td>0.156552</td>\n",
       "      <td>128</td>\n",
       "      <td>2096</td>\n",
       "      <td>0.061069</td>\n",
       "      <td>68</td>\n",
       "      <td>1817</td>\n",
       "      <td>0.037424</td>\n",
       "      <td>4.700877e+08</td>\n",
       "      <td>3059649.28</td>\n",
       "      <td>0.006509</td>\n",
       "      <td>1500</td>\n",
       "      <td>277</td>\n",
       "      <td>3420070.22</td>\n",
       "      <td>604936.78</td>\n",
       "      <td>0.184667</td>\n",
       "      <td>0.176878</td>\n",
       "      <td>2050</td>\n",
       "      <td>195</td>\n",
       "      <td>0.095122</td>\n",
       "      <td>380608.70</td>\n",
       "      <td>25750.82</td>\n",
       "      <td>28</td>\n",
       "      <td>53276</td>\n",
       "      <td>11026</td>\n",
       "    </tr>\n",
       "    <tr>\n",
       "      <th>...</th>\n",
       "      <td>...</td>\n",
       "      <td>...</td>\n",
       "      <td>...</td>\n",
       "      <td>...</td>\n",
       "      <td>...</td>\n",
       "      <td>...</td>\n",
       "      <td>...</td>\n",
       "      <td>...</td>\n",
       "      <td>...</td>\n",
       "      <td>...</td>\n",
       "      <td>...</td>\n",
       "      <td>...</td>\n",
       "      <td>...</td>\n",
       "      <td>...</td>\n",
       "      <td>...</td>\n",
       "      <td>...</td>\n",
       "      <td>...</td>\n",
       "      <td>...</td>\n",
       "      <td>...</td>\n",
       "      <td>...</td>\n",
       "      <td>...</td>\n",
       "      <td>...</td>\n",
       "      <td>...</td>\n",
       "      <td>...</td>\n",
       "      <td>...</td>\n",
       "      <td>...</td>\n",
       "      <td>...</td>\n",
       "      <td>...</td>\n",
       "      <td>...</td>\n",
       "      <td>...</td>\n",
       "      <td>...</td>\n",
       "      <td>...</td>\n",
       "      <td>...</td>\n",
       "      <td>...</td>\n",
       "      <td>...</td>\n",
       "      <td>...</td>\n",
       "      <td>...</td>\n",
       "    </tr>\n",
       "    <tr>\n",
       "      <th>62</th>\n",
       "      <td>2023-01-23</td>\n",
       "      <td>2023-01-29</td>\n",
       "      <td>293</td>\n",
       "      <td>389</td>\n",
       "      <td>0.753213</td>\n",
       "      <td>1150</td>\n",
       "      <td>2687</td>\n",
       "      <td>0.427987</td>\n",
       "      <td>111</td>\n",
       "      <td>1216</td>\n",
       "      <td>0.091283</td>\n",
       "      <td>75</td>\n",
       "      <td>1092</td>\n",
       "      <td>0.068681</td>\n",
       "      <td>78</td>\n",
       "      <td>1595</td>\n",
       "      <td>0.048903</td>\n",
       "      <td>41</td>\n",
       "      <td>1116</td>\n",
       "      <td>0.036738</td>\n",
       "      <td>9.268995e+07</td>\n",
       "      <td>756329.77</td>\n",
       "      <td>0.008160</td>\n",
       "      <td>1818</td>\n",
       "      <td>202</td>\n",
       "      <td>4057708.88</td>\n",
       "      <td>543200.98</td>\n",
       "      <td>0.111111</td>\n",
       "      <td>0.133869</td>\n",
       "      <td>1149</td>\n",
       "      <td>51</td>\n",
       "      <td>0.044386</td>\n",
       "      <td>93098.53</td>\n",
       "      <td>8453.00</td>\n",
       "      <td>22</td>\n",
       "      <td>4595</td>\n",
       "      <td>6387</td>\n",
       "    </tr>\n",
       "    <tr>\n",
       "      <th>63</th>\n",
       "      <td>2023-01-16</td>\n",
       "      <td>2023-01-22</td>\n",
       "      <td>245</td>\n",
       "      <td>307</td>\n",
       "      <td>0.798046</td>\n",
       "      <td>373</td>\n",
       "      <td>893</td>\n",
       "      <td>0.417693</td>\n",
       "      <td>34</td>\n",
       "      <td>180</td>\n",
       "      <td>0.188889</td>\n",
       "      <td>130</td>\n",
       "      <td>1292</td>\n",
       "      <td>0.100619</td>\n",
       "      <td>12</td>\n",
       "      <td>276</td>\n",
       "      <td>0.043478</td>\n",
       "      <td>13</td>\n",
       "      <td>1082</td>\n",
       "      <td>0.012015</td>\n",
       "      <td>9.039216e+07</td>\n",
       "      <td>1078265.87</td>\n",
       "      <td>0.011929</td>\n",
       "      <td>1636</td>\n",
       "      <td>155</td>\n",
       "      <td>3668490.63</td>\n",
       "      <td>424605.70</td>\n",
       "      <td>0.094743</td>\n",
       "      <td>0.115744</td>\n",
       "      <td>948</td>\n",
       "      <td>49</td>\n",
       "      <td>0.051688</td>\n",
       "      <td>122055.36</td>\n",
       "      <td>5000.00</td>\n",
       "      <td>22</td>\n",
       "      <td>4315</td>\n",
       "      <td>6481</td>\n",
       "    </tr>\n",
       "    <tr>\n",
       "      <th>64</th>\n",
       "      <td>2023-01-09</td>\n",
       "      <td>2023-01-15</td>\n",
       "      <td>370</td>\n",
       "      <td>750</td>\n",
       "      <td>0.493333</td>\n",
       "      <td>516</td>\n",
       "      <td>1080</td>\n",
       "      <td>0.477778</td>\n",
       "      <td>95</td>\n",
       "      <td>1219</td>\n",
       "      <td>0.077933</td>\n",
       "      <td>80</td>\n",
       "      <td>1228</td>\n",
       "      <td>0.065147</td>\n",
       "      <td>25</td>\n",
       "      <td>1220</td>\n",
       "      <td>0.020492</td>\n",
       "      <td>26</td>\n",
       "      <td>1061</td>\n",
       "      <td>0.024505</td>\n",
       "      <td>8.627183e+07</td>\n",
       "      <td>623028.54</td>\n",
       "      <td>0.007222</td>\n",
       "      <td>2538</td>\n",
       "      <td>281</td>\n",
       "      <td>5582778.08</td>\n",
       "      <td>813036.90</td>\n",
       "      <td>0.110717</td>\n",
       "      <td>0.145633</td>\n",
       "      <td>1084</td>\n",
       "      <td>40</td>\n",
       "      <td>0.036900</td>\n",
       "      <td>78812.63</td>\n",
       "      <td>22947.00</td>\n",
       "      <td>22</td>\n",
       "      <td>4125</td>\n",
       "      <td>6272</td>\n",
       "    </tr>\n",
       "    <tr>\n",
       "      <th>65</th>\n",
       "      <td>2023-01-02</td>\n",
       "      <td>2023-01-08</td>\n",
       "      <td>525</td>\n",
       "      <td>878</td>\n",
       "      <td>0.597950</td>\n",
       "      <td>189</td>\n",
       "      <td>398</td>\n",
       "      <td>0.474874</td>\n",
       "      <td>108</td>\n",
       "      <td>1237</td>\n",
       "      <td>0.087308</td>\n",
       "      <td>176</td>\n",
       "      <td>1442</td>\n",
       "      <td>0.122053</td>\n",
       "      <td>12</td>\n",
       "      <td>1006</td>\n",
       "      <td>0.011928</td>\n",
       "      <td>24</td>\n",
       "      <td>1056</td>\n",
       "      <td>0.022727</td>\n",
       "      <td>8.426213e+07</td>\n",
       "      <td>773884.51</td>\n",
       "      <td>0.009184</td>\n",
       "      <td>695</td>\n",
       "      <td>65</td>\n",
       "      <td>1537570.15</td>\n",
       "      <td>161293.86</td>\n",
       "      <td>0.093525</td>\n",
       "      <td>0.104902</td>\n",
       "      <td>980</td>\n",
       "      <td>73</td>\n",
       "      <td>0.074490</td>\n",
       "      <td>170992.06</td>\n",
       "      <td>31952.67</td>\n",
       "      <td>22</td>\n",
       "      <td>3785</td>\n",
       "      <td>6585</td>\n",
       "    </tr>\n",
       "    <tr>\n",
       "      <th>66</th>\n",
       "      <td>2022-12-26</td>\n",
       "      <td>2023-01-01</td>\n",
       "      <td>376</td>\n",
       "      <td>696</td>\n",
       "      <td>0.540230</td>\n",
       "      <td>705</td>\n",
       "      <td>1832</td>\n",
       "      <td>0.384825</td>\n",
       "      <td>54</td>\n",
       "      <td>159</td>\n",
       "      <td>0.339623</td>\n",
       "      <td>122</td>\n",
       "      <td>1298</td>\n",
       "      <td>0.093991</td>\n",
       "      <td>38</td>\n",
       "      <td>556</td>\n",
       "      <td>0.068345</td>\n",
       "      <td>27</td>\n",
       "      <td>1102</td>\n",
       "      <td>0.024501</td>\n",
       "      <td>7.505047e+07</td>\n",
       "      <td>1222731.55</td>\n",
       "      <td>0.016292</td>\n",
       "      <td>14496</td>\n",
       "      <td>506</td>\n",
       "      <td>32937500.78</td>\n",
       "      <td>1326103.00</td>\n",
       "      <td>0.034906</td>\n",
       "      <td>0.040261</td>\n",
       "      <td>1403</td>\n",
       "      <td>50</td>\n",
       "      <td>0.035638</td>\n",
       "      <td>104739.66</td>\n",
       "      <td>19630.00</td>\n",
       "      <td>22</td>\n",
       "      <td>3113</td>\n",
       "      <td>5995</td>\n",
       "    </tr>\n",
       "  </tbody>\n",
       "</table>\n",
       "<p>67 rows × 37 columns</p>\n",
       "</div>"
      ],
      "text/plain": [
       "   WkstartDate   WkendDate  apc_wc_connected  wccalled  \\\n",
       "0   2024-04-01  2024-04-07              1096      1982   \n",
       "1   2024-03-25  2024-03-31               334       601   \n",
       "2   2024-03-18  2024-03-24              1030      1545   \n",
       "3   2024-03-11  2024-03-17               952      1449   \n",
       "4   2024-03-04  2024-03-10               838      1291   \n",
       "..         ...         ...               ...       ...   \n",
       "62  2023-01-23  2023-01-29               293       389   \n",
       "63  2023-01-16  2023-01-22               245       307   \n",
       "64  2023-01-09  2023-01-15               370       750   \n",
       "65  2023-01-02  2023-01-08               525       878   \n",
       "66  2022-12-26  2023-01-01               376       696   \n",
       "\n",
       "    WelcomeCall_ContactRate  apc_rc_connected  rccalled  \\\n",
       "0                  0.552977              2295      6934   \n",
       "1                  0.555740              2789      7191   \n",
       "2                  0.666667              1898      5561   \n",
       "3                  0.657005              2693      6041   \n",
       "4                  0.649109              2809      7081   \n",
       "..                      ...               ...       ...   \n",
       "62                 0.753213              1150      2687   \n",
       "63                 0.798046               373       893   \n",
       "64                 0.493333               516      1080   \n",
       "65                 0.597950               189       398   \n",
       "66                 0.540230               705      1832   \n",
       "\n",
       "    remindercallcontactrate  bucket1contacted  bucketcallcontacted  \\\n",
       "0                  0.330978               975                 4758   \n",
       "1                  0.387846               449                 3623   \n",
       "2                  0.341306               715                 3986   \n",
       "3                  0.445787               786                 4678   \n",
       "4                  0.396695               574                 3661   \n",
       "..                      ...               ...                  ...   \n",
       "62                 0.427987               111                 1216   \n",
       "63                 0.417693                34                  180   \n",
       "64                 0.477778                95                 1219   \n",
       "65                 0.474874               108                 1237   \n",
       "66                 0.384825                54                  159   \n",
       "\n",
       "    bucket1contactrate  Normalized_Greg  Normalized_denominator  \\\n",
       "0             0.204918              952                    3661   \n",
       "1             0.123930              729                    3600   \n",
       "2             0.179378              410                    3135   \n",
       "3             0.168021              491                    3108   \n",
       "4             0.156788              503                    3213   \n",
       "..                 ...              ...                     ...   \n",
       "62            0.091283               75                    1092   \n",
       "63            0.188889              130                    1292   \n",
       "64            0.077933               80                    1228   \n",
       "65            0.087308              176                    1442   \n",
       "66            0.339623              122                    1298   \n",
       "\n",
       "    Bucket1_Normalized  bucket2contacted  bucket2callcontacted  \\\n",
       "0             0.260038               148                  2309   \n",
       "1             0.202500               131                  2627   \n",
       "2             0.130781               136                  2087   \n",
       "3             0.157979               150                  2371   \n",
       "4             0.156552               128                  2096   \n",
       "..                 ...               ...                   ...   \n",
       "62            0.068681                78                  1595   \n",
       "63            0.100619                12                   276   \n",
       "64            0.065147                25                  1220   \n",
       "65            0.122053                12                  1006   \n",
       "66            0.093991                38                   556   \n",
       "\n",
       "    bucket2contactrate  Normalized_buck2_Greg  Normalized_buck2_denominator  \\\n",
       "0             0.064097                    106                          2119   \n",
       "1             0.049867                     76                          1974   \n",
       "2             0.065165                     47                          1914   \n",
       "3             0.063264                     68                          1860   \n",
       "4             0.061069                     68                          1817   \n",
       "..                 ...                    ...                           ...   \n",
       "62            0.048903                     41                          1116   \n",
       "63            0.043478                     13                          1082   \n",
       "64            0.020492                     26                          1061   \n",
       "65            0.011928                     24                          1056   \n",
       "66            0.068345                     27                          1102   \n",
       "\n",
       "    bucket2Normalizationrate  inArearstoTotal_Overdue_Amount  \\\n",
       "0                   0.050024                    5.105118e+08   \n",
       "1                   0.038501                    4.963229e+08   \n",
       "2                   0.024556                    4.855786e+08   \n",
       "3                   0.036559                    4.757289e+08   \n",
       "4                   0.037424                    4.700877e+08   \n",
       "..                       ...                             ...   \n",
       "62                  0.036738                    9.268995e+07   \n",
       "63                  0.012015                    9.039216e+07   \n",
       "64                  0.024505                    8.627183e+07   \n",
       "65                  0.022727                    8.426213e+07   \n",
       "66                  0.024501                    7.505047e+07   \n",
       "\n",
       "    paymentsfromoverdue  recoveryrate  wentdelinquent  rollbacked  \\\n",
       "0            4769227.41      0.009342            7061        1217   \n",
       "1            3150064.47      0.006347            5240         388   \n",
       "2            2854453.85      0.005878            3117         447   \n",
       "3            4735094.80      0.009953            5156         767   \n",
       "4            3059649.28      0.006509            1500         277   \n",
       "..                  ...           ...             ...         ...   \n",
       "62            756329.77      0.008160            1818         202   \n",
       "63           1078265.87      0.011929            1636         155   \n",
       "64            623028.54      0.007222            2538         281   \n",
       "65            773884.51      0.009184             695          65   \n",
       "66           1222731.55      0.016292           14496         506   \n",
       "\n",
       "    defaulteddelinquentamount  rollbacked_amount  rollback_rate  \\\n",
       "0                 16692348.25         2769195.62       0.172355   \n",
       "1                 12347556.06          920889.32       0.074046   \n",
       "2                  7076555.27         1010148.06       0.143407   \n",
       "3                 12068690.99         1757044.92       0.148759   \n",
       "4                  3420070.22          604936.78       0.184667   \n",
       "..                        ...                ...            ...   \n",
       "62                 4057708.88          543200.98       0.111111   \n",
       "63                 3668490.63          424605.70       0.094743   \n",
       "64                 5582778.08          813036.90       0.110717   \n",
       "65                 1537570.15          161293.86       0.093525   \n",
       "66                32937500.78         1326103.00       0.034906   \n",
       "\n",
       "    rollback_rate_v  ptp_received  kept_ptp  kept_ptp_rate  bucket1ptppmt  \\\n",
       "0          0.165896          2547       436       0.171182      812492.74   \n",
       "1          0.074581          2164       149       0.068854      248999.11   \n",
       "2          0.142746          2129       263       0.123532      518001.55   \n",
       "3          0.145587          2343       336       0.143406      730139.48   \n",
       "4          0.176878          2050       195       0.095122      380608.70   \n",
       "..              ...           ...       ...            ...            ...   \n",
       "62         0.133869          1149        51       0.044386       93098.53   \n",
       "63         0.115744           948        49       0.051688      122055.36   \n",
       "64         0.145633          1084        40       0.036900       78812.63   \n",
       "65         0.104902           980        73       0.074490      170992.06   \n",
       "66         0.040261          1403        50       0.035638      104739.66   \n",
       "\n",
       "    bucket2ptppmt  FTE  total_accounts  active_works  \n",
       "0        60498.02   27           56588         11708  \n",
       "1        13224.16   28           55742         11595  \n",
       "2        40034.70   28           54741         10874  \n",
       "3        52946.73   28           53815         10645  \n",
       "4        25750.82   28           53276         11026  \n",
       "..            ...  ...             ...           ...  \n",
       "62        8453.00   22            4595          6387  \n",
       "63        5000.00   22            4315          6481  \n",
       "64       22947.00   22            4125          6272  \n",
       "65       31952.67   22            3785          6585  \n",
       "66       19630.00   22            3113          5995  \n",
       "\n",
       "[67 rows x 37 columns]"
      ]
     },
     "execution_count": 28,
     "metadata": {},
     "output_type": "execute_result"
    }
   ],
   "source": [
    "df1"
   ]
  },
  {
   "cell_type": "code",
   "execution_count": 29,
   "metadata": {},
   "outputs": [
    {
     "data": {
      "application/vnd.plotly.v1+json": {
       "config": {
        "plotlyServerURL": "https://plot.ly"
       },
       "data": [
        {
         "mode": "lines+markers",
         "name": "WelcomeCall_ContactRate",
         "type": "scatter",
         "x": [
          "2024-04-01",
          "2024-03-25",
          "2024-03-18",
          "2024-03-11",
          "2024-03-04",
          "2024-02-26",
          "2024-02-19",
          "2024-02-12",
          "2024-02-05",
          "2024-01-29",
          "2024-01-22",
          "2024-01-15",
          "2024-01-08",
          "2024-01-01",
          "2023-12-25",
          "2023-12-18",
          "2023-12-11",
          "2023-12-04",
          "2023-11-27",
          "2023-11-20",
          "2023-11-13",
          "2023-11-06",
          "2023-10-30",
          "2023-10-23",
          "2023-10-16",
          "2023-10-09",
          "2023-10-02",
          "2023-09-25",
          "2023-09-18",
          "2023-09-11",
          "2023-09-04",
          "2023-08-28",
          "2023-08-21",
          "2023-08-14",
          "2023-08-07",
          "2023-07-31",
          "2023-07-24",
          "2023-07-17",
          "2023-07-10",
          "2023-07-03",
          "2023-06-26",
          "2023-06-19",
          "2023-06-12",
          "2023-06-05",
          "2023-05-29",
          "2023-05-22",
          "2023-05-15",
          "2023-05-08",
          "2023-05-01",
          "2023-04-24",
          "2023-04-17",
          "2023-04-10",
          "2023-04-03",
          "2023-03-27",
          "2023-03-20",
          "2023-03-13",
          "2023-03-06",
          "2023-02-27",
          "2023-02-20",
          "2023-02-13",
          "2023-02-06",
          "2023-01-30",
          "2023-01-23",
          "2023-01-16",
          "2023-01-09",
          "2023-01-02",
          "2022-12-26"
         ],
         "y": [
          0.5529767911200807,
          0.5557404326123128,
          0.6666666666666666,
          0.6570048309178744,
          0.6491092176607282,
          0.6231647634584013,
          0.6444270015698587,
          0.6570486397361912,
          0.7063106796116505,
          0.6593920498830865,
          0.6783333333333333,
          0.4555921052631579,
          0.3945267958950969,
          0.22578796561604583,
          0.2793964620187305,
          0.4510703363914373,
          0.5031298904538342,
          0.5278875713658322,
          0.5091103965702036,
          0.5656084656084656,
          0.5710059171597633,
          0.5175213675213676,
          0.2195945945945946,
          0.5505795574288725,
          0.5417322834645669,
          0.48433615116857287,
          0.4423631123919308,
          0.48459086078639746,
          0.5243277848911652,
          0.5934515688949522,
          0.6369087275149901,
          0.639210347174949,
          0.6549344375431332,
          0.6371616678858815,
          0.5704074338813439,
          0.5468215994531784,
          0.5391120507399577,
          0.5249632892804699,
          0.5709281961471103,
          0.5933649289099526,
          0.5596432552954292,
          0.5614035087719298,
          0.43865546218487395,
          0.41603630862329805,
          0.39619651347068147,
          0.42084942084942084,
          0.4696591853699086,
          0.49226804123711343,
          0.4333910034602076,
          0.49759846301633043,
          0.4171180931744312,
          0.5318906605922551,
          0.47203274215552526,
          0.5141242937853108,
          0.5612903225806452,
          0.4914772727272727,
          0.4752906976744186,
          0.50231124807396,
          0.5666041275797373,
          0.7013752455795678,
          0.6495098039215687,
          0.8143564356435643,
          0.7532133676092545,
          0.7980456026058632,
          0.49333333333333335,
          0.5979498861047836,
          0.5402298850574713
         ]
        },
        {
         "mode": "lines+markers",
         "name": "remindercallcontactrate",
         "type": "scatter",
         "x": [
          "2024-04-01",
          "2024-03-25",
          "2024-03-18",
          "2024-03-11",
          "2024-03-04",
          "2024-02-26",
          "2024-02-19",
          "2024-02-12",
          "2024-02-05",
          "2024-01-29",
          "2024-01-22",
          "2024-01-15",
          "2024-01-08",
          "2024-01-01",
          "2023-12-25",
          "2023-12-18",
          "2023-12-11",
          "2023-12-04",
          "2023-11-27",
          "2023-11-20",
          "2023-11-13",
          "2023-11-06",
          "2023-10-30",
          "2023-10-23",
          "2023-10-16",
          "2023-10-09",
          "2023-10-02",
          "2023-09-25",
          "2023-09-18",
          "2023-09-11",
          "2023-09-04",
          "2023-08-28",
          "2023-08-21",
          "2023-08-14",
          "2023-08-07",
          "2023-07-31",
          "2023-07-24",
          "2023-07-17",
          "2023-07-10",
          "2023-07-03",
          "2023-06-26",
          "2023-06-19",
          "2023-06-12",
          "2023-06-05",
          "2023-05-29",
          "2023-05-22",
          "2023-05-15",
          "2023-05-08",
          "2023-05-01",
          "2023-04-24",
          "2023-04-17",
          "2023-04-10",
          "2023-04-03",
          "2023-03-27",
          "2023-03-20",
          "2023-03-13",
          "2023-03-06",
          "2023-02-27",
          "2023-02-20",
          "2023-02-13",
          "2023-02-06",
          "2023-01-30",
          "2023-01-23",
          "2023-01-16",
          "2023-01-09",
          "2023-01-02",
          "2022-12-26"
         ],
         "y": [
          0.33097779059705795,
          0.38784591850924766,
          0.341305520589822,
          0.4457871213375269,
          0.39669538200819093,
          0.48503937007874015,
          0.3363055922501101,
          0.4154118689105403,
          0.4575698505523067,
          0.48968263545311935,
          0.31776616590463747,
          0.3427269837906558,
          0.3826710557253703,
          0.3085739475424289,
          0.35215794306703396,
          0.4162944054456499,
          0.440911306042885,
          0.32823988970588236,
          0.44259318594467584,
          0.29912782774597985,
          0.3980546202768425,
          0.39983404457088667,
          0.30442081701175155,
          0.40406349206349207,
          0.4701171875,
          0.44108967082860384,
          0.4160676532769556,
          0.29814665592264306,
          0.29809776065494825,
          0.2653809372011476,
          0.306749468867462,
          0.3801730920535012,
          0.3065784029788995,
          0.351725316023232,
          0.38173094011018305,
          0.3615279672578445,
          0.435751840168244,
          0.45824255628177196,
          0.4209726443768997,
          0.31629275468922396,
          0.40074441687344914,
          0.382011116725619,
          0.4637074260189838,
          0.35443478260869565,
          0.39433293978748524,
          0.40434895159202694,
          0.3210977701543739,
          0.5,
          0.5091514143094842,
          0.4674143679903001,
          0.48676171079429736,
          0.5365335598980459,
          0.5079365079365079,
          0.4034218820351193,
          0.3532428355957768,
          0.5189117451891174,
          0.3936092955700799,
          0.1232876712328767,
          0.3996875,
          0.41978798586572436,
          0.4190751445086705,
          0.21758737316798196,
          0.4279866021585411,
          0.4176931690929451,
          0.4777777777777778,
          0.4748743718592965,
          0.384825327510917
         ]
        },
        {
         "mode": "lines+markers",
         "name": "bucket1contactrate",
         "type": "scatter",
         "x": [
          "2024-04-01",
          "2024-03-25",
          "2024-03-18",
          "2024-03-11",
          "2024-03-04",
          "2024-02-26",
          "2024-02-19",
          "2024-02-12",
          "2024-02-05",
          "2024-01-29",
          "2024-01-22",
          "2024-01-15",
          "2024-01-08",
          "2024-01-01",
          "2023-12-25",
          "2023-12-18",
          "2023-12-11",
          "2023-12-04",
          "2023-11-27",
          "2023-11-20",
          "2023-11-13",
          "2023-11-06",
          "2023-10-30",
          "2023-10-23",
          "2023-10-16",
          "2023-10-09",
          "2023-10-02",
          "2023-09-25",
          "2023-09-18",
          "2023-09-11",
          "2023-09-04",
          "2023-08-28",
          "2023-08-21",
          "2023-08-14",
          "2023-08-07",
          "2023-07-31",
          "2023-07-24",
          "2023-07-17",
          "2023-07-10",
          "2023-07-03",
          "2023-06-26",
          "2023-06-19",
          "2023-06-12",
          "2023-06-05",
          "2023-05-29",
          "2023-05-22",
          "2023-05-15",
          "2023-05-08",
          "2023-05-01",
          "2023-04-24",
          "2023-04-17",
          "2023-04-10",
          "2023-04-03",
          "2023-03-27",
          "2023-03-20",
          "2023-03-13",
          "2023-03-06",
          "2023-02-27",
          "2023-02-20",
          "2023-02-13",
          "2023-02-06",
          "2023-01-30",
          "2023-01-23",
          "2023-01-16",
          "2023-01-09",
          "2023-01-02",
          "2022-12-26"
         ],
         "y": [
          0.20491803278688525,
          0.12393044438310792,
          0.17937782237832414,
          0.16802052159042324,
          0.15678776290630975,
          0.16543257989088075,
          0.16715715126545028,
          0.11590965500124101,
          0.20406386066763424,
          0.17044657470189384,
          0.18580645161290324,
          0.176056338028169,
          0.17667570709027508,
          0.20443740095087162,
          0.14229713837710703,
          0.14581844174410294,
          0.12193032552826956,
          0.15154950869236583,
          0.13572748877739635,
          0.13532182103610674,
          0.14186851211072665,
          0.14290210890777463,
          0.1660825020221084,
          0.15896427400852178,
          0.20056585979251806,
          0.10363288718929255,
          0.08048359240069085,
          0.11573033707865168,
          0.0497893527384144,
          0.023274161735700197,
          0.06721056721056722,
          0.07277158774373259,
          0.054280670785525155,
          0.05884995507637017,
          0.06844660194174758,
          0.05888030888030888,
          0.07012035583464155,
          0.06383970177073625,
          0.0455026455026455,
          0.08809891808346214,
          0.07372654155495978,
          0.08182912154031288,
          0.06813186813186813,
          0.0797702616464582,
          0.10206297502714441,
          0.1144994246260069,
          0.06384284837323512,
          0.07977736549165121,
          0.12380952380952381,
          0.10880503144654088,
          0.10113154172560113,
          0.12157153446997776,
          0.1302491103202847,
          0.1909722222222222,
          0.15602836879432624,
          0.15752212389380532,
          0.1304654442877292,
          0.08881199538638986,
          0.2116788321167883,
          0.41237113402061853,
          0.40375586854460094,
          0.20121951219512196,
          0.0912828947368421,
          0.18888888888888888,
          0.07793273174733388,
          0.08730800323362975,
          0.33962264150943394
         ]
        },
        {
         "mode": "lines+markers",
         "name": "bucket2contactrate",
         "type": "scatter",
         "x": [
          "2024-04-01",
          "2024-03-25",
          "2024-03-18",
          "2024-03-11",
          "2024-03-04",
          "2024-02-26",
          "2024-02-19",
          "2024-02-12",
          "2024-02-05",
          "2024-01-29",
          "2024-01-22",
          "2024-01-15",
          "2024-01-08",
          "2024-01-01",
          "2023-12-25",
          "2023-12-18",
          "2023-12-11",
          "2023-12-04",
          "2023-11-27",
          "2023-11-20",
          "2023-11-13",
          "2023-11-06",
          "2023-10-30",
          "2023-10-23",
          "2023-10-16",
          "2023-10-09",
          "2023-10-02",
          "2023-09-25",
          "2023-09-18",
          "2023-09-11",
          "2023-09-04",
          "2023-08-28",
          "2023-08-21",
          "2023-08-14",
          "2023-08-07",
          "2023-07-31",
          "2023-07-24",
          "2023-07-17",
          "2023-07-10",
          "2023-07-03",
          "2023-06-26",
          "2023-06-19",
          "2023-06-12",
          "2023-06-05",
          "2023-05-29",
          "2023-05-22",
          "2023-05-15",
          "2023-05-08",
          "2023-05-01",
          "2023-04-24",
          "2023-04-17",
          "2023-04-10",
          "2023-04-03",
          "2023-03-27",
          "2023-03-20",
          "2023-03-13",
          "2023-03-06",
          "2023-02-27",
          "2023-02-20",
          "2023-02-13",
          "2023-02-06",
          "2023-01-30",
          "2023-01-23",
          "2023-01-16",
          "2023-01-09",
          "2023-01-02",
          "2022-12-26"
         ],
         "y": [
          0.06409701169337376,
          0.04986676817662733,
          0.06516530905606133,
          0.06326444538169548,
          0.061068702290076333,
          0.05621665982765695,
          0.05142857142857143,
          0.04363827549947424,
          0.07129909365558912,
          0.06692693809258227,
          0.061957868649318466,
          0.07687687687687687,
          0.06406406406406406,
          0.07422324510932106,
          0.07427785419532325,
          0.059644059644059645,
          0.05944350758853288,
          0.06198547215496368,
          0.06973180076628352,
          0.05360623781676413,
          0.0520497466605251,
          0.057242409158785465,
          0.05439330543933055,
          0.07783837382250867,
          0.0966824644549763,
          0.05242801890846584,
          0.051,
          0.05062240663900415,
          0.016,
          0.02126607319485658,
          0.029634300126103404,
          0.05005268703898841,
          0.03408399269628728,
          0.03970223325062035,
          0.03567508232711306,
          0.037308461025982675,
          0.03775680177679067,
          0.04394812680115274,
          0.023712737127371274,
          0.06465997770345597,
          0.044173648134044174,
          0.047619047619047616,
          0.04510218463706836,
          0.04844290657439446,
          0.05734144222415291,
          0.05929487179487179,
          0.041981528127623846,
          0.0825242718446602,
          0.05771050141911069,
          0.057667934093789605,
          0.054878048780487805,
          0.08228379513014274,
          0.057197330791229746,
          0.07889273356401384,
          0.05056759545923633,
          0.06810035842293907,
          0.04021739130434782,
          0.03923766816143498,
          0.09239130434782608,
          0.3088235294117647,
          0.18807339449541285,
          0.03888888888888889,
          0.04890282131661442,
          0.043478260869565216,
          0.020491803278688523,
          0.011928429423459244,
          0.0683453237410072
         ]
        }
       ],
       "layout": {
        "template": {
         "data": {
          "bar": [
           {
            "error_x": {
             "color": "#f2f5fa"
            },
            "error_y": {
             "color": "#f2f5fa"
            },
            "marker": {
             "line": {
              "color": "rgb(17,17,17)",
              "width": 0.5
             },
             "pattern": {
              "fillmode": "overlay",
              "size": 10,
              "solidity": 0.2
             }
            },
            "type": "bar"
           }
          ],
          "barpolar": [
           {
            "marker": {
             "line": {
              "color": "rgb(17,17,17)",
              "width": 0.5
             },
             "pattern": {
              "fillmode": "overlay",
              "size": 10,
              "solidity": 0.2
             }
            },
            "type": "barpolar"
           }
          ],
          "carpet": [
           {
            "aaxis": {
             "endlinecolor": "#A2B1C6",
             "gridcolor": "#506784",
             "linecolor": "#506784",
             "minorgridcolor": "#506784",
             "startlinecolor": "#A2B1C6"
            },
            "baxis": {
             "endlinecolor": "#A2B1C6",
             "gridcolor": "#506784",
             "linecolor": "#506784",
             "minorgridcolor": "#506784",
             "startlinecolor": "#A2B1C6"
            },
            "type": "carpet"
           }
          ],
          "choropleth": [
           {
            "colorbar": {
             "outlinewidth": 0,
             "ticks": ""
            },
            "type": "choropleth"
           }
          ],
          "contour": [
           {
            "colorbar": {
             "outlinewidth": 0,
             "ticks": ""
            },
            "colorscale": [
             [
              0,
              "#0d0887"
             ],
             [
              0.1111111111111111,
              "#46039f"
             ],
             [
              0.2222222222222222,
              "#7201a8"
             ],
             [
              0.3333333333333333,
              "#9c179e"
             ],
             [
              0.4444444444444444,
              "#bd3786"
             ],
             [
              0.5555555555555556,
              "#d8576b"
             ],
             [
              0.6666666666666666,
              "#ed7953"
             ],
             [
              0.7777777777777778,
              "#fb9f3a"
             ],
             [
              0.8888888888888888,
              "#fdca26"
             ],
             [
              1,
              "#f0f921"
             ]
            ],
            "type": "contour"
           }
          ],
          "contourcarpet": [
           {
            "colorbar": {
             "outlinewidth": 0,
             "ticks": ""
            },
            "type": "contourcarpet"
           }
          ],
          "heatmap": [
           {
            "colorbar": {
             "outlinewidth": 0,
             "ticks": ""
            },
            "colorscale": [
             [
              0,
              "#0d0887"
             ],
             [
              0.1111111111111111,
              "#46039f"
             ],
             [
              0.2222222222222222,
              "#7201a8"
             ],
             [
              0.3333333333333333,
              "#9c179e"
             ],
             [
              0.4444444444444444,
              "#bd3786"
             ],
             [
              0.5555555555555556,
              "#d8576b"
             ],
             [
              0.6666666666666666,
              "#ed7953"
             ],
             [
              0.7777777777777778,
              "#fb9f3a"
             ],
             [
              0.8888888888888888,
              "#fdca26"
             ],
             [
              1,
              "#f0f921"
             ]
            ],
            "type": "heatmap"
           }
          ],
          "heatmapgl": [
           {
            "colorbar": {
             "outlinewidth": 0,
             "ticks": ""
            },
            "colorscale": [
             [
              0,
              "#0d0887"
             ],
             [
              0.1111111111111111,
              "#46039f"
             ],
             [
              0.2222222222222222,
              "#7201a8"
             ],
             [
              0.3333333333333333,
              "#9c179e"
             ],
             [
              0.4444444444444444,
              "#bd3786"
             ],
             [
              0.5555555555555556,
              "#d8576b"
             ],
             [
              0.6666666666666666,
              "#ed7953"
             ],
             [
              0.7777777777777778,
              "#fb9f3a"
             ],
             [
              0.8888888888888888,
              "#fdca26"
             ],
             [
              1,
              "#f0f921"
             ]
            ],
            "type": "heatmapgl"
           }
          ],
          "histogram": [
           {
            "marker": {
             "pattern": {
              "fillmode": "overlay",
              "size": 10,
              "solidity": 0.2
             }
            },
            "type": "histogram"
           }
          ],
          "histogram2d": [
           {
            "colorbar": {
             "outlinewidth": 0,
             "ticks": ""
            },
            "colorscale": [
             [
              0,
              "#0d0887"
             ],
             [
              0.1111111111111111,
              "#46039f"
             ],
             [
              0.2222222222222222,
              "#7201a8"
             ],
             [
              0.3333333333333333,
              "#9c179e"
             ],
             [
              0.4444444444444444,
              "#bd3786"
             ],
             [
              0.5555555555555556,
              "#d8576b"
             ],
             [
              0.6666666666666666,
              "#ed7953"
             ],
             [
              0.7777777777777778,
              "#fb9f3a"
             ],
             [
              0.8888888888888888,
              "#fdca26"
             ],
             [
              1,
              "#f0f921"
             ]
            ],
            "type": "histogram2d"
           }
          ],
          "histogram2dcontour": [
           {
            "colorbar": {
             "outlinewidth": 0,
             "ticks": ""
            },
            "colorscale": [
             [
              0,
              "#0d0887"
             ],
             [
              0.1111111111111111,
              "#46039f"
             ],
             [
              0.2222222222222222,
              "#7201a8"
             ],
             [
              0.3333333333333333,
              "#9c179e"
             ],
             [
              0.4444444444444444,
              "#bd3786"
             ],
             [
              0.5555555555555556,
              "#d8576b"
             ],
             [
              0.6666666666666666,
              "#ed7953"
             ],
             [
              0.7777777777777778,
              "#fb9f3a"
             ],
             [
              0.8888888888888888,
              "#fdca26"
             ],
             [
              1,
              "#f0f921"
             ]
            ],
            "type": "histogram2dcontour"
           }
          ],
          "mesh3d": [
           {
            "colorbar": {
             "outlinewidth": 0,
             "ticks": ""
            },
            "type": "mesh3d"
           }
          ],
          "parcoords": [
           {
            "line": {
             "colorbar": {
              "outlinewidth": 0,
              "ticks": ""
             }
            },
            "type": "parcoords"
           }
          ],
          "pie": [
           {
            "automargin": true,
            "type": "pie"
           }
          ],
          "scatter": [
           {
            "marker": {
             "line": {
              "color": "#283442"
             }
            },
            "type": "scatter"
           }
          ],
          "scatter3d": [
           {
            "line": {
             "colorbar": {
              "outlinewidth": 0,
              "ticks": ""
             }
            },
            "marker": {
             "colorbar": {
              "outlinewidth": 0,
              "ticks": ""
             }
            },
            "type": "scatter3d"
           }
          ],
          "scattercarpet": [
           {
            "marker": {
             "colorbar": {
              "outlinewidth": 0,
              "ticks": ""
             }
            },
            "type": "scattercarpet"
           }
          ],
          "scattergeo": [
           {
            "marker": {
             "colorbar": {
              "outlinewidth": 0,
              "ticks": ""
             }
            },
            "type": "scattergeo"
           }
          ],
          "scattergl": [
           {
            "marker": {
             "line": {
              "color": "#283442"
             }
            },
            "type": "scattergl"
           }
          ],
          "scattermapbox": [
           {
            "marker": {
             "colorbar": {
              "outlinewidth": 0,
              "ticks": ""
             }
            },
            "type": "scattermapbox"
           }
          ],
          "scatterpolar": [
           {
            "marker": {
             "colorbar": {
              "outlinewidth": 0,
              "ticks": ""
             }
            },
            "type": "scatterpolar"
           }
          ],
          "scatterpolargl": [
           {
            "marker": {
             "colorbar": {
              "outlinewidth": 0,
              "ticks": ""
             }
            },
            "type": "scatterpolargl"
           }
          ],
          "scatterternary": [
           {
            "marker": {
             "colorbar": {
              "outlinewidth": 0,
              "ticks": ""
             }
            },
            "type": "scatterternary"
           }
          ],
          "surface": [
           {
            "colorbar": {
             "outlinewidth": 0,
             "ticks": ""
            },
            "colorscale": [
             [
              0,
              "#0d0887"
             ],
             [
              0.1111111111111111,
              "#46039f"
             ],
             [
              0.2222222222222222,
              "#7201a8"
             ],
             [
              0.3333333333333333,
              "#9c179e"
             ],
             [
              0.4444444444444444,
              "#bd3786"
             ],
             [
              0.5555555555555556,
              "#d8576b"
             ],
             [
              0.6666666666666666,
              "#ed7953"
             ],
             [
              0.7777777777777778,
              "#fb9f3a"
             ],
             [
              0.8888888888888888,
              "#fdca26"
             ],
             [
              1,
              "#f0f921"
             ]
            ],
            "type": "surface"
           }
          ],
          "table": [
           {
            "cells": {
             "fill": {
              "color": "#506784"
             },
             "line": {
              "color": "rgb(17,17,17)"
             }
            },
            "header": {
             "fill": {
              "color": "#2a3f5f"
             },
             "line": {
              "color": "rgb(17,17,17)"
             }
            },
            "type": "table"
           }
          ]
         },
         "layout": {
          "annotationdefaults": {
           "arrowcolor": "#f2f5fa",
           "arrowhead": 0,
           "arrowwidth": 1
          },
          "autotypenumbers": "strict",
          "coloraxis": {
           "colorbar": {
            "outlinewidth": 0,
            "ticks": ""
           }
          },
          "colorscale": {
           "diverging": [
            [
             0,
             "#8e0152"
            ],
            [
             0.1,
             "#c51b7d"
            ],
            [
             0.2,
             "#de77ae"
            ],
            [
             0.3,
             "#f1b6da"
            ],
            [
             0.4,
             "#fde0ef"
            ],
            [
             0.5,
             "#f7f7f7"
            ],
            [
             0.6,
             "#e6f5d0"
            ],
            [
             0.7,
             "#b8e186"
            ],
            [
             0.8,
             "#7fbc41"
            ],
            [
             0.9,
             "#4d9221"
            ],
            [
             1,
             "#276419"
            ]
           ],
           "sequential": [
            [
             0,
             "#0d0887"
            ],
            [
             0.1111111111111111,
             "#46039f"
            ],
            [
             0.2222222222222222,
             "#7201a8"
            ],
            [
             0.3333333333333333,
             "#9c179e"
            ],
            [
             0.4444444444444444,
             "#bd3786"
            ],
            [
             0.5555555555555556,
             "#d8576b"
            ],
            [
             0.6666666666666666,
             "#ed7953"
            ],
            [
             0.7777777777777778,
             "#fb9f3a"
            ],
            [
             0.8888888888888888,
             "#fdca26"
            ],
            [
             1,
             "#f0f921"
            ]
           ],
           "sequentialminus": [
            [
             0,
             "#0d0887"
            ],
            [
             0.1111111111111111,
             "#46039f"
            ],
            [
             0.2222222222222222,
             "#7201a8"
            ],
            [
             0.3333333333333333,
             "#9c179e"
            ],
            [
             0.4444444444444444,
             "#bd3786"
            ],
            [
             0.5555555555555556,
             "#d8576b"
            ],
            [
             0.6666666666666666,
             "#ed7953"
            ],
            [
             0.7777777777777778,
             "#fb9f3a"
            ],
            [
             0.8888888888888888,
             "#fdca26"
            ],
            [
             1,
             "#f0f921"
            ]
           ]
          },
          "colorway": [
           "#636efa",
           "#EF553B",
           "#00cc96",
           "#ab63fa",
           "#FFA15A",
           "#19d3f3",
           "#FF6692",
           "#B6E880",
           "#FF97FF",
           "#FECB52"
          ],
          "font": {
           "color": "#f2f5fa"
          },
          "geo": {
           "bgcolor": "rgb(17,17,17)",
           "lakecolor": "rgb(17,17,17)",
           "landcolor": "rgb(17,17,17)",
           "showlakes": true,
           "showland": true,
           "subunitcolor": "#506784"
          },
          "hoverlabel": {
           "align": "left"
          },
          "hovermode": "closest",
          "mapbox": {
           "style": "dark"
          },
          "paper_bgcolor": "rgb(17,17,17)",
          "plot_bgcolor": "rgb(17,17,17)",
          "polar": {
           "angularaxis": {
            "gridcolor": "#506784",
            "linecolor": "#506784",
            "ticks": ""
           },
           "bgcolor": "rgb(17,17,17)",
           "radialaxis": {
            "gridcolor": "#506784",
            "linecolor": "#506784",
            "ticks": ""
           }
          },
          "scene": {
           "xaxis": {
            "backgroundcolor": "rgb(17,17,17)",
            "gridcolor": "#506784",
            "gridwidth": 2,
            "linecolor": "#506784",
            "showbackground": true,
            "ticks": "",
            "zerolinecolor": "#C8D4E3"
           },
           "yaxis": {
            "backgroundcolor": "rgb(17,17,17)",
            "gridcolor": "#506784",
            "gridwidth": 2,
            "linecolor": "#506784",
            "showbackground": true,
            "ticks": "",
            "zerolinecolor": "#C8D4E3"
           },
           "zaxis": {
            "backgroundcolor": "rgb(17,17,17)",
            "gridcolor": "#506784",
            "gridwidth": 2,
            "linecolor": "#506784",
            "showbackground": true,
            "ticks": "",
            "zerolinecolor": "#C8D4E3"
           }
          },
          "shapedefaults": {
           "line": {
            "color": "#f2f5fa"
           }
          },
          "sliderdefaults": {
           "bgcolor": "#C8D4E3",
           "bordercolor": "rgb(17,17,17)",
           "borderwidth": 1,
           "tickwidth": 0
          },
          "ternary": {
           "aaxis": {
            "gridcolor": "#506784",
            "linecolor": "#506784",
            "ticks": ""
           },
           "baxis": {
            "gridcolor": "#506784",
            "linecolor": "#506784",
            "ticks": ""
           },
           "bgcolor": "rgb(17,17,17)",
           "caxis": {
            "gridcolor": "#506784",
            "linecolor": "#506784",
            "ticks": ""
           }
          },
          "title": {
           "x": 0.05
          },
          "updatemenudefaults": {
           "bgcolor": "#506784",
           "borderwidth": 0
          },
          "xaxis": {
           "automargin": true,
           "gridcolor": "#283442",
           "linecolor": "#506784",
           "ticks": "",
           "title": {
            "standoff": 15
           },
           "zerolinecolor": "#283442",
           "zerolinewidth": 2
          },
          "yaxis": {
           "automargin": true,
           "gridcolor": "#283442",
           "linecolor": "#506784",
           "ticks": "",
           "title": {
            "standoff": 15
           },
           "zerolinecolor": "#283442",
           "zerolinewidth": 2
          }
         }
        },
        "title": {
         "text": "Contact Rates Over Time"
        },
        "xaxis": {
         "tickangle": 90,
         "title": {
          "text": "Week Start Date"
         },
         "type": "category"
        },
        "yaxis": {
         "title": {
          "text": "Contact Rate"
         }
        }
       }
      }
     },
     "metadata": {},
     "output_type": "display_data"
    }
   ],
   "source": [
    "import plotly.graph_objects as go\n",
    "import pandas as pd\n",
    "\n",
    "# Create an interactive Plotly figure\n",
    "fig = go.Figure()\n",
    "\n",
    "# Add traces for each line\n",
    "fig.add_trace(go.Scatter(x=df1['WkstartDate'].astype('category'), y=df1['WelcomeCall_ContactRate'], mode='lines+markers', name='WelcomeCall_ContactRate'))\n",
    "fig.add_trace(go.Scatter(x=df1['WkstartDate'].astype('category'), y=df1['remindercallcontactrate'], mode='lines+markers', name='remindercallcontactrate'))\n",
    "fig.add_trace(go.Scatter(x=df1['WkstartDate'].astype('category'), y=df1['bucket1contactrate'], mode='lines+markers', name='bucket1contactrate'))\n",
    "fig.add_trace(go.Scatter(x=df1['WkstartDate'].astype('category'), y=df1['bucket2contactrate'], mode='lines+markers', name='bucket2contactrate'))\n",
    "\n",
    "# Update layout for better appearance\n",
    "fig.update_layout(\n",
    "    title='Contact Rates Over Time',\n",
    "    xaxis=dict(title='Week Start Date', type='category', tickangle=90),\n",
    "    yaxis=dict(title='Contact Rate'),\n",
    "    template='plotly_dark'# You can choose a different template if needed\n",
    ")\n",
    "\n",
    "# Show the interactive plot\n",
    "fig.show()\n"
   ]
  },
  {
   "cell_type": "code",
   "execution_count": 30,
   "metadata": {},
   "outputs": [
    {
     "data": {
      "application/vnd.plotly.v1+json": {
       "config": {
        "plotlyServerURL": "https://plot.ly"
       },
       "data": [
        {
         "mode": "lines+markers",
         "name": "Bucket1_Normalized",
         "type": "scatter",
         "x": [
          "2024-04-01",
          "2024-03-25",
          "2024-03-18",
          "2024-03-11",
          "2024-03-04",
          "2024-02-26",
          "2024-02-19",
          "2024-02-12",
          "2024-02-05",
          "2024-01-29",
          "2024-01-22",
          "2024-01-15",
          "2024-01-08",
          "2024-01-01",
          "2023-12-25",
          "2023-12-18",
          "2023-12-11",
          "2023-12-04",
          "2023-11-27",
          "2023-11-20",
          "2023-11-13",
          "2023-11-06",
          "2023-10-30",
          "2023-10-23",
          "2023-10-16",
          "2023-10-09",
          "2023-10-02",
          "2023-09-25",
          "2023-09-18",
          "2023-09-11",
          "2023-09-04",
          "2023-08-28",
          "2023-08-21",
          "2023-08-14",
          "2023-08-07",
          "2023-07-31",
          "2023-07-24",
          "2023-07-17",
          "2023-07-10",
          "2023-07-03",
          "2023-06-26",
          "2023-06-19",
          "2023-06-12",
          "2023-06-05",
          "2023-05-29",
          "2023-05-22",
          "2023-05-15",
          "2023-05-08",
          "2023-05-01",
          "2023-04-24",
          "2023-04-17",
          "2023-04-10",
          "2023-04-03",
          "2023-03-27",
          "2023-03-20",
          "2023-03-13",
          "2023-03-06",
          "2023-02-27",
          "2023-02-20",
          "2023-02-13",
          "2023-02-06",
          "2023-01-30",
          "2023-01-23",
          "2023-01-16",
          "2023-01-09",
          "2023-01-02",
          "2022-12-26"
         ],
         "y": [
          0.26003824091778205,
          0.2025,
          0.13078149920255183,
          0.157979407979408,
          0.15655150949268595,
          0.18453188602442333,
          0.11807137433561124,
          0.12613636363636363,
          0.16552667578659372,
          0.14121650361548277,
          0.1403580146460537,
          0.23435114503816795,
          0.13916786226685796,
          0.27884615384615385,
          0.21268498942917546,
          0.1777199826614651,
          0.15313734093900833,
          0.15543613063249276,
          0.15254237288135594,
          0.12916358253145818,
          0.14304812834224598,
          0.11182565201857807,
          0.1480307831598008,
          0.12205044751830757,
          0.12291169451073986,
          0.11192739844425238,
          0.15721844293272866,
          0.17773512476007677,
          0.08643560119811725,
          0.09987463435018805,
          0.121285140562249,
          0.14505712866368603,
          0.10172570390554042,
          0.0914396887159533,
          0.08697916666666666,
          0.12621951219512195,
          0.11028571428571429,
          0.1205179282868526,
          0.12448132780082988,
          0.12632108706592854,
          0.13287153652392947,
          0.11862244897959184,
          0.0875724404378622,
          0.11864406779661017,
          0.13080895008605853,
          0.12556929082628496,
          0.19148936170212766,
          0.11384217335058215,
          0.20056022408963586,
          0.11448598130841121,
          0.10617626648161,
          0.13202042304886943,
          0.10901162790697674,
          0.1459909228441755,
          1,
          0.10226385636221702,
          0.09530791788856305,
          0.11759935117599352,
          0.12307692307692308,
          0.08440170940170941,
          0.078125,
          0.38529574350469875,
          0.06868131868131869,
          0.10061919504643962,
          0.06514657980456026,
          0.12205270457697642,
          0.09399075500770417
         ]
        },
        {
         "mode": "lines+markers",
         "name": "bucket2Normalizationrate",
         "type": "scatter",
         "x": [
          "2024-04-01",
          "2024-03-25",
          "2024-03-18",
          "2024-03-11",
          "2024-03-04",
          "2024-02-26",
          "2024-02-19",
          "2024-02-12",
          "2024-02-05",
          "2024-01-29",
          "2024-01-22",
          "2024-01-15",
          "2024-01-08",
          "2024-01-01",
          "2023-12-25",
          "2023-12-18",
          "2023-12-11",
          "2023-12-04",
          "2023-11-27",
          "2023-11-20",
          "2023-11-13",
          "2023-11-06",
          "2023-10-30",
          "2023-10-23",
          "2023-10-16",
          "2023-10-09",
          "2023-10-02",
          "2023-09-25",
          "2023-09-18",
          "2023-09-11",
          "2023-09-04",
          "2023-08-28",
          "2023-08-21",
          "2023-08-14",
          "2023-08-07",
          "2023-07-31",
          "2023-07-24",
          "2023-07-17",
          "2023-07-10",
          "2023-07-03",
          "2023-06-26",
          "2023-06-19",
          "2023-06-12",
          "2023-06-05",
          "2023-05-29",
          "2023-05-22",
          "2023-05-15",
          "2023-05-08",
          "2023-05-01",
          "2023-04-24",
          "2023-04-17",
          "2023-04-10",
          "2023-04-03",
          "2023-03-27",
          "2023-03-20",
          "2023-03-13",
          "2023-03-06",
          "2023-02-27",
          "2023-02-20",
          "2023-02-13",
          "2023-02-06",
          "2023-01-30",
          "2023-01-23",
          "2023-01-16",
          "2023-01-09",
          "2023-01-02",
          "2022-12-26"
         ],
         "y": [
          0.05002359603586597,
          0.03850050658561297,
          0.024555903866248695,
          0.03655913978494624,
          0.03742432581177765,
          0.0418098510882016,
          0.03871748336358137,
          0.03382838283828383,
          0.03389830508474576,
          0.06192468619246862,
          0.04219691895512391,
          0.04369854338188727,
          0.05037313432835821,
          0.04906542056074766,
          0.036524626452684006,
          0.031818181818181815,
          0.03218997361477573,
          0.03755868544600939,
          0.054809242342826435,
          0.03431372549019608,
          0.060929983965793695,
          0.032171581769437,
          0.03552206673842842,
          0.029479768786127167,
          0.02717391304347826,
          0.04184549356223176,
          0.037927350427350424,
          0.03319502074688797,
          0.023170731707317073,
          0.028416779431664412,
          0.027662517289073305,
          0.0587440918298447,
          0.021985343104596936,
          0.03185955786736021,
          0.017241379310344827,
          0.029288702928870293,
          0.033102386451116246,
          0.021704180064308683,
          0.032067510548523206,
          0.02913453299057412,
          0.03668941979522184,
          0.032590051457975985,
          0.024888888888888887,
          0.03070175438596491,
          0.06537753222836096,
          0.03591160220994475,
          0.02581261950286807,
          0.03163265306122449,
          0.027559055118110236,
          0.03405865657521287,
          0.019230769230769232,
          0.026422764227642278,
          0.033663366336633666,
          0.02405857740585774,
          1,
          0.029411764705882353,
          0.029768467475192944,
          0.039761431411530816,
          0.022267206477732792,
          0.033066132264529056,
          0.0130475302889096,
          0.04740608228980322,
          0.036738351254480286,
          0.012014787430683918,
          0.024505183788878417,
          0.022727272727272728,
          0.024500907441016333
         ]
        },
        {
         "mode": "lines+markers",
         "name": "recoveryrate",
         "type": "scatter",
         "x": [
          "2024-04-01",
          "2024-03-25",
          "2024-03-18",
          "2024-03-11",
          "2024-03-04",
          "2024-02-26",
          "2024-02-19",
          "2024-02-12",
          "2024-02-05",
          "2024-01-29",
          "2024-01-22",
          "2024-01-15",
          "2024-01-08",
          "2024-01-01",
          "2023-12-25",
          "2023-12-18",
          "2023-12-11",
          "2023-12-04",
          "2023-11-27",
          "2023-11-20",
          "2023-11-13",
          "2023-11-06",
          "2023-10-30",
          "2023-10-23",
          "2023-10-16",
          "2023-10-09",
          "2023-10-02",
          "2023-09-25",
          "2023-09-18",
          "2023-09-11",
          "2023-09-04",
          "2023-08-28",
          "2023-08-21",
          "2023-08-14",
          "2023-08-07",
          "2023-07-31",
          "2023-07-24",
          "2023-07-17",
          "2023-07-10",
          "2023-07-03",
          "2023-06-26",
          "2023-06-19",
          "2023-06-12",
          "2023-06-05",
          "2023-05-29",
          "2023-05-22",
          "2023-05-15",
          "2023-05-08",
          "2023-05-01",
          "2023-04-24",
          "2023-04-17",
          "2023-04-10",
          "2023-04-03",
          "2023-03-27",
          "2023-03-20",
          "2023-03-13",
          "2023-03-06",
          "2023-02-27",
          "2023-02-20",
          "2023-02-13",
          "2023-02-06",
          "2023-01-30",
          "2023-01-23",
          "2023-01-16",
          "2023-01-09",
          "2023-01-02",
          "2022-12-26"
         ],
         "y": [
          0.009342052144147744,
          0.006346804416221908,
          0.005878459225429751,
          0.009953346542595875,
          0.006508677233576615,
          0.011735024590148264,
          0.005680627649835245,
          0.008293991835093968,
          0.005959892092956598,
          0.010782117962465462,
          0.006642433675779321,
          0.0077856702019963074,
          0.00592745344082409,
          0.00930829490582408,
          0.006750550857450589,
          0.007853816262491138,
          0.010658855272746652,
          0.007220545040312287,
          0.011337387231749464,
          0.007750326913563923,
          0.012223134447087999,
          0.007809051998748653,
          0.010633462792200834,
          0.009254950396497642,
          0.009704711368142245,
          0.00748258371128656,
          0.012609384280991131,
          0.010958155880880066,
          0.0074048400910419485,
          0.009527866327158263,
          0.006168317631092463,
          0.01398428498341623,
          0.007554842165728482,
          0.009243358046874997,
          0.005242236612733754,
          0.012376297904748677,
          0.00844939054671909,
          0.008515763746512625,
          0.009295294948575934,
          0.007849788528293202,
          0.01657999205217789,
          0.0074229062261007344,
          0.009220586766862594,
          0.0064952613333533376,
          0.020825292311473724,
          0.010020887062120891,
          0.00962538363581475,
          0.007084198815771345,
          0.015406505832307222,
          0.012051842888367217,
          0.010131120355288677,
          0.011455254280043023,
          0.006664395608435574,
          0.022004873403778696,
          0.006999403504048431,
          0.012458347000314986,
          0.007755647062494378,
          0.022601389797290653,
          0.00797191105562386,
          0.013713091824592405,
          0.006763227653984431,
          0.02244396759887157,
          0.008159781770171983,
          0.011928754735159296,
          0.007221691443586952,
          0.009184250801411763,
          0.01629212283893231
         ]
        },
        {
         "mode": "lines+markers",
         "name": "rollback_rate",
         "type": "scatter",
         "x": [
          "2024-04-01",
          "2024-03-25",
          "2024-03-18",
          "2024-03-11",
          "2024-03-04",
          "2024-02-26",
          "2024-02-19",
          "2024-02-12",
          "2024-02-05",
          "2024-01-29",
          "2024-01-22",
          "2024-01-15",
          "2024-01-08",
          "2024-01-01",
          "2023-12-25",
          "2023-12-18",
          "2023-12-11",
          "2023-12-04",
          "2023-11-27",
          "2023-11-20",
          "2023-11-13",
          "2023-11-06",
          "2023-10-30",
          "2023-10-23",
          "2023-10-16",
          "2023-10-09",
          "2023-10-02",
          "2023-09-25",
          "2023-09-18",
          "2023-09-11",
          "2023-09-04",
          "2023-08-28",
          "2023-08-21",
          "2023-08-14",
          "2023-08-07",
          "2023-07-31",
          "2023-07-24",
          "2023-07-17",
          "2023-07-10",
          "2023-07-03",
          "2023-06-26",
          "2023-06-19",
          "2023-06-12",
          "2023-06-05",
          "2023-05-29",
          "2023-05-22",
          "2023-05-15",
          "2023-05-08",
          "2023-05-01",
          "2023-04-24",
          "2023-04-17",
          "2023-04-10",
          "2023-04-03",
          "2023-03-27",
          "2023-03-20",
          "2023-03-13",
          "2023-03-06",
          "2023-02-27",
          "2023-02-20",
          "2023-02-13",
          "2023-02-06",
          "2023-01-30",
          "2023-01-23",
          "2023-01-16",
          "2023-01-09",
          "2023-01-02",
          "2022-12-26"
         ],
         "y": [
          0.17235519048293443,
          0.07404580152671755,
          0.14340712223291627,
          0.1487587276958883,
          0.18466666666666667,
          0.11199517781796263,
          0.14624808575803983,
          0.11749294639258363,
          0.13036020583190394,
          0.10566976561477019,
          0.12096069868995633,
          0.1016173827805914,
          0.12438423645320197,
          0.16613798572561458,
          0.03699810805129283,
          0.10518174787316319,
          0.11985181956853345,
          0.09551986475063398,
          0.026196235766121893,
          0.07300826005861977,
          0.10565262076053443,
          0.10126582278481013,
          0.05558690744920993,
          0.14482990906028967,
          0.14267676767676768,
          0.15045529801324503,
          0.20647002854424357,
          0.06356356356356356,
          0.15711422845691383,
          0.15300296871431834,
          0.1868070953436807,
          0.06641760066417601,
          0.1247148288973384,
          0.15509657678332378,
          0.15346534653465346,
          0.2545377796538624,
          0.04469577839603242,
          0.1464075915047447,
          0.13306451612903225,
          0.15423387096774194,
          0.061170701808152005,
          0.12231182795698925,
          0.14585152838427948,
          0.14378029079159935,
          0.06140859591468523,
          0.1563095691955776,
          0.12467836257309942,
          0.13626834381551362,
          0.18810148731408574,
          0.06258156364930596,
          0.11910112359550562,
          0.14404115461560446,
          0.09298998569384835,
          0.062044728434504794,
          0.10285285285285285,
          0.12114918656974731,
          0.14351851851851852,
          0.05920467539067463,
          0.12009419152276295,
          0.12666907253699025,
          0.154776299879081,
          0.05346441317083025,
          0.1111111111111111,
          0.09474327628361859,
          0.1107171000788022,
          0.09352517985611511,
          0.034906181015452536
         ]
        },
        {
         "mode": "lines+markers",
         "name": "rollback_rate_v",
         "type": "scatter",
         "x": [
          "2024-04-01",
          "2024-03-25",
          "2024-03-18",
          "2024-03-11",
          "2024-03-04",
          "2024-02-26",
          "2024-02-19",
          "2024-02-12",
          "2024-02-05",
          "2024-01-29",
          "2024-01-22",
          "2024-01-15",
          "2024-01-08",
          "2024-01-01",
          "2023-12-25",
          "2023-12-18",
          "2023-12-11",
          "2023-12-04",
          "2023-11-27",
          "2023-11-20",
          "2023-11-13",
          "2023-11-06",
          "2023-10-30",
          "2023-10-23",
          "2023-10-16",
          "2023-10-09",
          "2023-10-02",
          "2023-09-25",
          "2023-09-18",
          "2023-09-11",
          "2023-09-04",
          "2023-08-28",
          "2023-08-21",
          "2023-08-14",
          "2023-08-07",
          "2023-07-31",
          "2023-07-24",
          "2023-07-17",
          "2023-07-10",
          "2023-07-03",
          "2023-06-26",
          "2023-06-19",
          "2023-06-12",
          "2023-06-05",
          "2023-05-29",
          "2023-05-22",
          "2023-05-15",
          "2023-05-08",
          "2023-05-01",
          "2023-04-24",
          "2023-04-17",
          "2023-04-10",
          "2023-04-03",
          "2023-03-27",
          "2023-03-20",
          "2023-03-13",
          "2023-03-06",
          "2023-02-27",
          "2023-02-20",
          "2023-02-13",
          "2023-02-06",
          "2023-01-30",
          "2023-01-23",
          "2023-01-16",
          "2023-01-09",
          "2023-01-02",
          "2022-12-26"
         ],
         "y": [
          0.16589610871556065,
          0.0745806956069006,
          0.14274573170965987,
          0.14558703354455502,
          0.17687846771754293,
          0.09827410444230464,
          0.14711044382053612,
          0.11798004822458871,
          0.11148492577055157,
          0.10337436188553081,
          0.11334390616169421,
          0.10355608439622571,
          0.13279702555457515,
          0.1636130577740362,
          0.03152494572155854,
          0.09823328261973238,
          0.11554347169197048,
          0.09370268511732206,
          0.029328130356462267,
          0.07577362447354499,
          0.10871912926306512,
          0.09266554015527084,
          0.06594467428100326,
          0.17916830057873923,
          0.17397679563424195,
          0.1892678532583545,
          0.27856754523745497,
          0.08741293468766706,
          0.1990908822706147,
          0.20714173182096124,
          0.22723264521530107,
          0.09191718796524348,
          0.16602288445073846,
          0.1931735297999686,
          0.1741836594237244,
          0.29382720658022954,
          0.06379888488022052,
          0.2197042016498115,
          0.1947999051978732,
          0.2250823470431529,
          0.08722558658277693,
          0.18084837676503482,
          0.19762294843867254,
          0.2065524849818861,
          0.08292093949673857,
          0.2364931461685427,
          0.1760193415437437,
          0.17019647331879587,
          0.30433475601502236,
          0.09648237760419864,
          0.1665262965798288,
          0.24437692331923594,
          0.10322246423273662,
          0.08511912334102283,
          0.1266386092935206,
          0.1783063312887124,
          0.17275420079966294,
          0.0751405178463464,
          0.1548610239892652,
          0.17353568663171906,
          0.2000862320781919,
          0.06546080891564446,
          0.13386888908600064,
          0.11574397833476274,
          0.1456330322196866,
          0.10490178935900901,
          0.04026119069741997
         ]
        }
       ],
       "layout": {
        "template": {
         "data": {
          "bar": [
           {
            "error_x": {
             "color": "#f2f5fa"
            },
            "error_y": {
             "color": "#f2f5fa"
            },
            "marker": {
             "line": {
              "color": "rgb(17,17,17)",
              "width": 0.5
             },
             "pattern": {
              "fillmode": "overlay",
              "size": 10,
              "solidity": 0.2
             }
            },
            "type": "bar"
           }
          ],
          "barpolar": [
           {
            "marker": {
             "line": {
              "color": "rgb(17,17,17)",
              "width": 0.5
             },
             "pattern": {
              "fillmode": "overlay",
              "size": 10,
              "solidity": 0.2
             }
            },
            "type": "barpolar"
           }
          ],
          "carpet": [
           {
            "aaxis": {
             "endlinecolor": "#A2B1C6",
             "gridcolor": "#506784",
             "linecolor": "#506784",
             "minorgridcolor": "#506784",
             "startlinecolor": "#A2B1C6"
            },
            "baxis": {
             "endlinecolor": "#A2B1C6",
             "gridcolor": "#506784",
             "linecolor": "#506784",
             "minorgridcolor": "#506784",
             "startlinecolor": "#A2B1C6"
            },
            "type": "carpet"
           }
          ],
          "choropleth": [
           {
            "colorbar": {
             "outlinewidth": 0,
             "ticks": ""
            },
            "type": "choropleth"
           }
          ],
          "contour": [
           {
            "colorbar": {
             "outlinewidth": 0,
             "ticks": ""
            },
            "colorscale": [
             [
              0,
              "#0d0887"
             ],
             [
              0.1111111111111111,
              "#46039f"
             ],
             [
              0.2222222222222222,
              "#7201a8"
             ],
             [
              0.3333333333333333,
              "#9c179e"
             ],
             [
              0.4444444444444444,
              "#bd3786"
             ],
             [
              0.5555555555555556,
              "#d8576b"
             ],
             [
              0.6666666666666666,
              "#ed7953"
             ],
             [
              0.7777777777777778,
              "#fb9f3a"
             ],
             [
              0.8888888888888888,
              "#fdca26"
             ],
             [
              1,
              "#f0f921"
             ]
            ],
            "type": "contour"
           }
          ],
          "contourcarpet": [
           {
            "colorbar": {
             "outlinewidth": 0,
             "ticks": ""
            },
            "type": "contourcarpet"
           }
          ],
          "heatmap": [
           {
            "colorbar": {
             "outlinewidth": 0,
             "ticks": ""
            },
            "colorscale": [
             [
              0,
              "#0d0887"
             ],
             [
              0.1111111111111111,
              "#46039f"
             ],
             [
              0.2222222222222222,
              "#7201a8"
             ],
             [
              0.3333333333333333,
              "#9c179e"
             ],
             [
              0.4444444444444444,
              "#bd3786"
             ],
             [
              0.5555555555555556,
              "#d8576b"
             ],
             [
              0.6666666666666666,
              "#ed7953"
             ],
             [
              0.7777777777777778,
              "#fb9f3a"
             ],
             [
              0.8888888888888888,
              "#fdca26"
             ],
             [
              1,
              "#f0f921"
             ]
            ],
            "type": "heatmap"
           }
          ],
          "heatmapgl": [
           {
            "colorbar": {
             "outlinewidth": 0,
             "ticks": ""
            },
            "colorscale": [
             [
              0,
              "#0d0887"
             ],
             [
              0.1111111111111111,
              "#46039f"
             ],
             [
              0.2222222222222222,
              "#7201a8"
             ],
             [
              0.3333333333333333,
              "#9c179e"
             ],
             [
              0.4444444444444444,
              "#bd3786"
             ],
             [
              0.5555555555555556,
              "#d8576b"
             ],
             [
              0.6666666666666666,
              "#ed7953"
             ],
             [
              0.7777777777777778,
              "#fb9f3a"
             ],
             [
              0.8888888888888888,
              "#fdca26"
             ],
             [
              1,
              "#f0f921"
             ]
            ],
            "type": "heatmapgl"
           }
          ],
          "histogram": [
           {
            "marker": {
             "pattern": {
              "fillmode": "overlay",
              "size": 10,
              "solidity": 0.2
             }
            },
            "type": "histogram"
           }
          ],
          "histogram2d": [
           {
            "colorbar": {
             "outlinewidth": 0,
             "ticks": ""
            },
            "colorscale": [
             [
              0,
              "#0d0887"
             ],
             [
              0.1111111111111111,
              "#46039f"
             ],
             [
              0.2222222222222222,
              "#7201a8"
             ],
             [
              0.3333333333333333,
              "#9c179e"
             ],
             [
              0.4444444444444444,
              "#bd3786"
             ],
             [
              0.5555555555555556,
              "#d8576b"
             ],
             [
              0.6666666666666666,
              "#ed7953"
             ],
             [
              0.7777777777777778,
              "#fb9f3a"
             ],
             [
              0.8888888888888888,
              "#fdca26"
             ],
             [
              1,
              "#f0f921"
             ]
            ],
            "type": "histogram2d"
           }
          ],
          "histogram2dcontour": [
           {
            "colorbar": {
             "outlinewidth": 0,
             "ticks": ""
            },
            "colorscale": [
             [
              0,
              "#0d0887"
             ],
             [
              0.1111111111111111,
              "#46039f"
             ],
             [
              0.2222222222222222,
              "#7201a8"
             ],
             [
              0.3333333333333333,
              "#9c179e"
             ],
             [
              0.4444444444444444,
              "#bd3786"
             ],
             [
              0.5555555555555556,
              "#d8576b"
             ],
             [
              0.6666666666666666,
              "#ed7953"
             ],
             [
              0.7777777777777778,
              "#fb9f3a"
             ],
             [
              0.8888888888888888,
              "#fdca26"
             ],
             [
              1,
              "#f0f921"
             ]
            ],
            "type": "histogram2dcontour"
           }
          ],
          "mesh3d": [
           {
            "colorbar": {
             "outlinewidth": 0,
             "ticks": ""
            },
            "type": "mesh3d"
           }
          ],
          "parcoords": [
           {
            "line": {
             "colorbar": {
              "outlinewidth": 0,
              "ticks": ""
             }
            },
            "type": "parcoords"
           }
          ],
          "pie": [
           {
            "automargin": true,
            "type": "pie"
           }
          ],
          "scatter": [
           {
            "marker": {
             "line": {
              "color": "#283442"
             }
            },
            "type": "scatter"
           }
          ],
          "scatter3d": [
           {
            "line": {
             "colorbar": {
              "outlinewidth": 0,
              "ticks": ""
             }
            },
            "marker": {
             "colorbar": {
              "outlinewidth": 0,
              "ticks": ""
             }
            },
            "type": "scatter3d"
           }
          ],
          "scattercarpet": [
           {
            "marker": {
             "colorbar": {
              "outlinewidth": 0,
              "ticks": ""
             }
            },
            "type": "scattercarpet"
           }
          ],
          "scattergeo": [
           {
            "marker": {
             "colorbar": {
              "outlinewidth": 0,
              "ticks": ""
             }
            },
            "type": "scattergeo"
           }
          ],
          "scattergl": [
           {
            "marker": {
             "line": {
              "color": "#283442"
             }
            },
            "type": "scattergl"
           }
          ],
          "scattermapbox": [
           {
            "marker": {
             "colorbar": {
              "outlinewidth": 0,
              "ticks": ""
             }
            },
            "type": "scattermapbox"
           }
          ],
          "scatterpolar": [
           {
            "marker": {
             "colorbar": {
              "outlinewidth": 0,
              "ticks": ""
             }
            },
            "type": "scatterpolar"
           }
          ],
          "scatterpolargl": [
           {
            "marker": {
             "colorbar": {
              "outlinewidth": 0,
              "ticks": ""
             }
            },
            "type": "scatterpolargl"
           }
          ],
          "scatterternary": [
           {
            "marker": {
             "colorbar": {
              "outlinewidth": 0,
              "ticks": ""
             }
            },
            "type": "scatterternary"
           }
          ],
          "surface": [
           {
            "colorbar": {
             "outlinewidth": 0,
             "ticks": ""
            },
            "colorscale": [
             [
              0,
              "#0d0887"
             ],
             [
              0.1111111111111111,
              "#46039f"
             ],
             [
              0.2222222222222222,
              "#7201a8"
             ],
             [
              0.3333333333333333,
              "#9c179e"
             ],
             [
              0.4444444444444444,
              "#bd3786"
             ],
             [
              0.5555555555555556,
              "#d8576b"
             ],
             [
              0.6666666666666666,
              "#ed7953"
             ],
             [
              0.7777777777777778,
              "#fb9f3a"
             ],
             [
              0.8888888888888888,
              "#fdca26"
             ],
             [
              1,
              "#f0f921"
             ]
            ],
            "type": "surface"
           }
          ],
          "table": [
           {
            "cells": {
             "fill": {
              "color": "#506784"
             },
             "line": {
              "color": "rgb(17,17,17)"
             }
            },
            "header": {
             "fill": {
              "color": "#2a3f5f"
             },
             "line": {
              "color": "rgb(17,17,17)"
             }
            },
            "type": "table"
           }
          ]
         },
         "layout": {
          "annotationdefaults": {
           "arrowcolor": "#f2f5fa",
           "arrowhead": 0,
           "arrowwidth": 1
          },
          "autotypenumbers": "strict",
          "coloraxis": {
           "colorbar": {
            "outlinewidth": 0,
            "ticks": ""
           }
          },
          "colorscale": {
           "diverging": [
            [
             0,
             "#8e0152"
            ],
            [
             0.1,
             "#c51b7d"
            ],
            [
             0.2,
             "#de77ae"
            ],
            [
             0.3,
             "#f1b6da"
            ],
            [
             0.4,
             "#fde0ef"
            ],
            [
             0.5,
             "#f7f7f7"
            ],
            [
             0.6,
             "#e6f5d0"
            ],
            [
             0.7,
             "#b8e186"
            ],
            [
             0.8,
             "#7fbc41"
            ],
            [
             0.9,
             "#4d9221"
            ],
            [
             1,
             "#276419"
            ]
           ],
           "sequential": [
            [
             0,
             "#0d0887"
            ],
            [
             0.1111111111111111,
             "#46039f"
            ],
            [
             0.2222222222222222,
             "#7201a8"
            ],
            [
             0.3333333333333333,
             "#9c179e"
            ],
            [
             0.4444444444444444,
             "#bd3786"
            ],
            [
             0.5555555555555556,
             "#d8576b"
            ],
            [
             0.6666666666666666,
             "#ed7953"
            ],
            [
             0.7777777777777778,
             "#fb9f3a"
            ],
            [
             0.8888888888888888,
             "#fdca26"
            ],
            [
             1,
             "#f0f921"
            ]
           ],
           "sequentialminus": [
            [
             0,
             "#0d0887"
            ],
            [
             0.1111111111111111,
             "#46039f"
            ],
            [
             0.2222222222222222,
             "#7201a8"
            ],
            [
             0.3333333333333333,
             "#9c179e"
            ],
            [
             0.4444444444444444,
             "#bd3786"
            ],
            [
             0.5555555555555556,
             "#d8576b"
            ],
            [
             0.6666666666666666,
             "#ed7953"
            ],
            [
             0.7777777777777778,
             "#fb9f3a"
            ],
            [
             0.8888888888888888,
             "#fdca26"
            ],
            [
             1,
             "#f0f921"
            ]
           ]
          },
          "colorway": [
           "#636efa",
           "#EF553B",
           "#00cc96",
           "#ab63fa",
           "#FFA15A",
           "#19d3f3",
           "#FF6692",
           "#B6E880",
           "#FF97FF",
           "#FECB52"
          ],
          "font": {
           "color": "#f2f5fa"
          },
          "geo": {
           "bgcolor": "rgb(17,17,17)",
           "lakecolor": "rgb(17,17,17)",
           "landcolor": "rgb(17,17,17)",
           "showlakes": true,
           "showland": true,
           "subunitcolor": "#506784"
          },
          "hoverlabel": {
           "align": "left"
          },
          "hovermode": "closest",
          "mapbox": {
           "style": "dark"
          },
          "paper_bgcolor": "rgb(17,17,17)",
          "plot_bgcolor": "rgb(17,17,17)",
          "polar": {
           "angularaxis": {
            "gridcolor": "#506784",
            "linecolor": "#506784",
            "ticks": ""
           },
           "bgcolor": "rgb(17,17,17)",
           "radialaxis": {
            "gridcolor": "#506784",
            "linecolor": "#506784",
            "ticks": ""
           }
          },
          "scene": {
           "xaxis": {
            "backgroundcolor": "rgb(17,17,17)",
            "gridcolor": "#506784",
            "gridwidth": 2,
            "linecolor": "#506784",
            "showbackground": true,
            "ticks": "",
            "zerolinecolor": "#C8D4E3"
           },
           "yaxis": {
            "backgroundcolor": "rgb(17,17,17)",
            "gridcolor": "#506784",
            "gridwidth": 2,
            "linecolor": "#506784",
            "showbackground": true,
            "ticks": "",
            "zerolinecolor": "#C8D4E3"
           },
           "zaxis": {
            "backgroundcolor": "rgb(17,17,17)",
            "gridcolor": "#506784",
            "gridwidth": 2,
            "linecolor": "#506784",
            "showbackground": true,
            "ticks": "",
            "zerolinecolor": "#C8D4E3"
           }
          },
          "shapedefaults": {
           "line": {
            "color": "#f2f5fa"
           }
          },
          "sliderdefaults": {
           "bgcolor": "#C8D4E3",
           "bordercolor": "rgb(17,17,17)",
           "borderwidth": 1,
           "tickwidth": 0
          },
          "ternary": {
           "aaxis": {
            "gridcolor": "#506784",
            "linecolor": "#506784",
            "ticks": ""
           },
           "baxis": {
            "gridcolor": "#506784",
            "linecolor": "#506784",
            "ticks": ""
           },
           "bgcolor": "rgb(17,17,17)",
           "caxis": {
            "gridcolor": "#506784",
            "linecolor": "#506784",
            "ticks": ""
           }
          },
          "title": {
           "x": 0.05
          },
          "updatemenudefaults": {
           "bgcolor": "#506784",
           "borderwidth": 0
          },
          "xaxis": {
           "automargin": true,
           "gridcolor": "#283442",
           "linecolor": "#506784",
           "ticks": "",
           "title": {
            "standoff": 15
           },
           "zerolinecolor": "#283442",
           "zerolinewidth": 2
          },
          "yaxis": {
           "automargin": true,
           "gridcolor": "#283442",
           "linecolor": "#506784",
           "ticks": "",
           "title": {
            "standoff": 15
           },
           "zerolinecolor": "#283442",
           "zerolinewidth": 2
          }
         }
        },
        "title": {
         "text": "Recovery Rates Over Time"
        },
        "xaxis": {
         "tickangle": 90,
         "title": {
          "text": "Week Start Date"
         },
         "type": "category"
        },
        "yaxis": {
         "title": {
          "text": "Recovery Rate"
         },
         "type": "log"
        }
       }
      }
     },
     "metadata": {},
     "output_type": "display_data"
    }
   ],
   "source": [
    "import plotly.graph_objects as go\n",
    "import pandas as pd\n",
    "\n",
    "# Create an interactive Plotly figure\n",
    "fig = go.Figure()\n",
    "\n",
    "# Add traces for each line\n",
    "fig.add_trace(go.Scatter(x=df1['WkstartDate'].astype('category'), y=df1['Bucket1_Normalized'], mode='lines+markers', name='Bucket1_Normalized'))\n",
    "fig.add_trace(go.Scatter(x=df1['WkstartDate'].astype('category'), y=df1['bucket2Normalizationrate'], mode='lines+markers', name='bucket2Normalizationrate'))\n",
    "fig.add_trace(go.Scatter(x=df1['WkstartDate'].astype('category'), y=df1['recoveryrate'], mode='lines+markers', name='recoveryrate'))\n",
    "fig.add_trace(go.Scatter(x=df1['WkstartDate'].astype('category'), y=df1['rollback_rate'], mode='lines+markers', name='rollback_rate'))\n",
    "fig.add_trace(go.Scatter(x=df1['WkstartDate'].astype('category'), y=df1['rollback_rate_v'], mode='lines+markers', name='rollback_rate_v'))\n",
    "\n",
    "# Update layout for better appearance\n",
    "fig.update_layout(\n",
    "    title='Recovery Rates Over Time',\n",
    "    xaxis=dict(title='Week Start Date', type='category', tickangle=90),\n",
    "    yaxis=dict(title='Recovery Rate', type='log'),  # Use type='log' for logarithmic scale\n",
    "    template='plotly_dark'  # You can choose a different template if needed\n",
    ")\n",
    "\n",
    "# Show the interactive plot\n",
    "fig.show()\n"
   ]
  },
  {
   "cell_type": "markdown",
   "metadata": {},
   "source": [
    "# Try the csv one if the above query fails"
   ]
  },
  {
   "cell_type": "code",
   "execution_count": 31,
   "metadata": {},
   "outputs": [],
   "source": [
    "# from google.cloud import bigquery\n",
    "\n",
    "# # Set up the BigQuery client with your project ID\n",
    "# project_id = 'prj-prod-dataplatform'  # Replace with your own project ID\n",
    "# client = bigquery.Client(project=project_id)\n",
    "\n",
    "# # Define the dataset and table references\n",
    "# dataset_id = 'dap_ds_poweruser_playground'\n",
    "# table_id = 'temp_collection_Monthly_kpi_v5'\n",
    "\n",
    "# # Specify the path to your CSV file\n",
    "# source_file = r'D:\\MyStuff\\Anne\\WeeklyKPI\\Temp_file.csv'\n",
    "\n",
    "# # Define the schema of your table (optional)\n",
    "# schema = [\n",
    "#     bigquery.SchemaField(\"WkstartDate\", \"string\"),\n",
    "#     bigquery.SchemaField(\"WkendDate\", \"string\"),\n",
    "#     bigquery.SchemaField(\"apc_wc_connected\", \"int64\"),\n",
    "#     bigquery.SchemaField(\"wccalled\", \"int64\"),\n",
    "#     bigquery.SchemaField(\"WelcomeCall_ContactRate\", \"float64\"),\n",
    "#     bigquery.SchemaField(\"apc_rc_connected\", \"int64\"),\n",
    "#     bigquery.SchemaField(\"rccalled\", \"int64\"),\n",
    "#     bigquery.SchemaField(\"remindercallcontactrate\", \"float64\"),\n",
    "#     bigquery.SchemaField(\"bucket1contacted\", \"int64\"),\n",
    "#     bigquery.SchemaField(\"bucketcallcontacted\", \"int64\"),\n",
    "#     bigquery.SchemaField(\"bucket1contactrate\", \"float64\"),\n",
    "#     bigquery.SchemaField(\"Normalized_Greg\", \"int64\"),\n",
    "#     bigquery.SchemaField(\"Normalized_denominator\", \"int64\"),\n",
    "#     bigquery.SchemaField(\"Bucket1_Normalized\", \"float64\"),\n",
    "#     bigquery.SchemaField(\"bucket2contacted\", \"int64\"),\n",
    "#     bigquery.SchemaField(\"bucketcallcontacted\", \"int64\"),\n",
    "#     bigquery.SchemaField(\"bucket2contactrate\", \"float64\"),\n",
    "#     bigquery.SchemaField(\"Normalized_buck2_Greg\", \"int64\"),\n",
    "#     bigquery.SchemaField(\"Normalized_buck2_denominator\", \"int64\"),\n",
    "#     bigquery.SchemaField(\"bucket2Normalizationrate\", \"float64\"),\n",
    "#     bigquery.SchemaField(\"ptp_received\", \"int64\"),\n",
    "#     bigquery.SchemaField(\"kept_ptp\", \"int64\"),\n",
    "#     bigquery.SchemaField(\"kept_ptp_rate\", \"float64\"),\n",
    "#     bigquery.SchemaField(\"bucket1ptppmt\", \"float64\"),\n",
    "#     bigquery.SchemaField(\"bucket2ptppmt\", \"float64\"),\n",
    "#     bigquery.SchemaField(\"FTE\", \"int64\"),\n",
    "#     bigquery.SchemaField(\"total_accounts\", \"int64\"),\n",
    "#     bigquery.SchemaField(\"active_works\", \"int64\"),\n",
    "# ]\n",
    "\n",
    "# # Create the dataset reference\n",
    "# dataset_ref = client.dataset(dataset_id)\n",
    "\n",
    "# # Define the table reference\n",
    "# table_ref = dataset_ref.table(table_id)\n",
    "\n",
    "# # Configure the job to load data from the CSV file\n",
    "# job_config = bigquery.LoadJobConfig(schema=schema, skip_leading_rows=1, source_format=bigquery.SourceFormat.CSV)\n",
    "\n",
    "# # Load data from the CSV file into the BigQuery table\n",
    "# with open(source_file, \"rb\") as source_file:\n",
    "#     job = client.load_table_from_file(source_file, table_ref, job_config=job_config)\n",
    "\n",
    "# # Wait for the job to complete\n",
    "# job.result()\n",
    "\n",
    "# # Print a success message\n",
    "# print(f\"Loaded {job.output_rows} rows into {dataset_id}.{table_id}\")\n"
   ]
  },
  {
   "cell_type": "code",
   "execution_count": null,
   "metadata": {},
   "outputs": [],
   "source": []
  },
  {
   "cell_type": "code",
   "execution_count": 32,
   "metadata": {},
   "outputs": [
    {
     "data": {
      "text/plain": [
       "QueryJob<project=prj-prod-dataplatform, location=asia-southeast1, id=aa616afd-b865-4105-bb68-46c28540cc2e>"
      ]
     },
     "execution_count": 32,
     "metadata": {},
     "output_type": "execute_result"
    }
   ],
   "source": [
    "sq = f\"\"\"insert into  prj-prod-dataplatform.dap_ds_poweruser_playground.collection_weekly_kpi_v4\n",
    "select date(WkstartDate)WkstartDate, date(WkendDate)WkendDate, apc_wc_connected, wccalled\n",
    ", bucket1contacted, bucketcallcontacted,\n",
    "Normalized_Greg bucket1normalized_greg, Normalized_denominator bucket1normalized_denominator\n",
    ", Normalized_buck2_denominator bucket2normalized_denominator\n",
    ", Normalized_buck2_Greg bucket2normalized_greg\n",
    ", ptp_received, kept_ptp, bucket1ptppmt,\n",
    "       bucket2ptppmt, FTE, total_accounts, active_works \n",
    "from dap_ds_poweruser_playground.collection_Weekly_kpi_v5 where WkstartDate = '{sd}';\"\"\"\n",
    "\n",
    "client.query(sq)\n",
    "\n"
   ]
  },
  {
   "cell_type": "code",
   "execution_count": 36,
   "metadata": {},
   "outputs": [
    {
     "name": "stdout",
     "output_type": "stream",
     "text": [
      "Job ID 037f2bf1-97c1-4acf-805c-53f5f7d29c80 successfully executed: 100%|\u001b[32m██████████\u001b[0m|\n",
      "Downloading: 100%|\u001b[32m██████████\u001b[0m|\n"
     ]
    }
   ],
   "source": [
    "sq = \"\"\"select * from prj-prod-dataplatform.dap_ds_poweruser_playground.collection_weekly_kpi_v4 order by 1 desc;\"\"\"\n",
    "\n",
    "df2 = client.query(sq).to_dataframe(progress_bar_type='tqdm')\n"
   ]
  },
  {
   "cell_type": "code",
   "execution_count": 37,
   "metadata": {},
   "outputs": [
    {
     "data": {
      "text/html": [
       "<div>\n",
       "<style scoped>\n",
       "    .dataframe tbody tr th:only-of-type {\n",
       "        vertical-align: middle;\n",
       "    }\n",
       "\n",
       "    .dataframe tbody tr th {\n",
       "        vertical-align: top;\n",
       "    }\n",
       "\n",
       "    .dataframe thead th {\n",
       "        text-align: right;\n",
       "    }\n",
       "</style>\n",
       "<table border=\"1\" class=\"dataframe\">\n",
       "  <thead>\n",
       "    <tr style=\"text-align: right;\">\n",
       "      <th></th>\n",
       "      <th>WkstartDate</th>\n",
       "      <th>WkendDate</th>\n",
       "      <th>apc_wc_connected</th>\n",
       "      <th>wccalled</th>\n",
       "      <th>bucket1contacted</th>\n",
       "      <th>bucketcallcontacted</th>\n",
       "      <th>bucket1normalized_greg</th>\n",
       "      <th>bucket1normalized_denominator</th>\n",
       "      <th>bucket2normalized_denominator</th>\n",
       "      <th>bucket2normalized_greg</th>\n",
       "      <th>ptp_received</th>\n",
       "      <th>kept_ptp</th>\n",
       "      <th>bucket1ptppmt</th>\n",
       "      <th>bucket2ptppmt</th>\n",
       "      <th>FTE</th>\n",
       "      <th>total_accounts</th>\n",
       "      <th>active_works</th>\n",
       "    </tr>\n",
       "  </thead>\n",
       "  <tbody>\n",
       "    <tr>\n",
       "      <th>0</th>\n",
       "      <td>2024-04-01</td>\n",
       "      <td>2024-04-07</td>\n",
       "      <td>1096</td>\n",
       "      <td>1982</td>\n",
       "      <td>975</td>\n",
       "      <td>4758</td>\n",
       "      <td>952</td>\n",
       "      <td>3661</td>\n",
       "      <td>2119</td>\n",
       "      <td>106</td>\n",
       "      <td>2547</td>\n",
       "      <td>436</td>\n",
       "      <td>812492.74</td>\n",
       "      <td>60498.02</td>\n",
       "      <td>27</td>\n",
       "      <td>56588</td>\n",
       "      <td>11708</td>\n",
       "    </tr>\n",
       "    <tr>\n",
       "      <th>1</th>\n",
       "      <td>2024-03-25</td>\n",
       "      <td>2024-03-31</td>\n",
       "      <td>334</td>\n",
       "      <td>601</td>\n",
       "      <td>449</td>\n",
       "      <td>3623</td>\n",
       "      <td>729</td>\n",
       "      <td>3600</td>\n",
       "      <td>1974</td>\n",
       "      <td>76</td>\n",
       "      <td>2164</td>\n",
       "      <td>149</td>\n",
       "      <td>248999.11</td>\n",
       "      <td>13224.16</td>\n",
       "      <td>28</td>\n",
       "      <td>55742</td>\n",
       "      <td>11595</td>\n",
       "    </tr>\n",
       "    <tr>\n",
       "      <th>2</th>\n",
       "      <td>2024-03-18</td>\n",
       "      <td>2024-03-24</td>\n",
       "      <td>1030</td>\n",
       "      <td>1545</td>\n",
       "      <td>715</td>\n",
       "      <td>3986</td>\n",
       "      <td>410</td>\n",
       "      <td>3135</td>\n",
       "      <td>1914</td>\n",
       "      <td>47</td>\n",
       "      <td>2129</td>\n",
       "      <td>263</td>\n",
       "      <td>518001.55</td>\n",
       "      <td>40034.70</td>\n",
       "      <td>28</td>\n",
       "      <td>54741</td>\n",
       "      <td>10874</td>\n",
       "    </tr>\n",
       "    <tr>\n",
       "      <th>3</th>\n",
       "      <td>2024-03-11</td>\n",
       "      <td>2024-03-17</td>\n",
       "      <td>952</td>\n",
       "      <td>1449</td>\n",
       "      <td>786</td>\n",
       "      <td>4678</td>\n",
       "      <td>491</td>\n",
       "      <td>3108</td>\n",
       "      <td>1860</td>\n",
       "      <td>68</td>\n",
       "      <td>2343</td>\n",
       "      <td>336</td>\n",
       "      <td>730139.48</td>\n",
       "      <td>52946.73</td>\n",
       "      <td>28</td>\n",
       "      <td>53815</td>\n",
       "      <td>10645</td>\n",
       "    </tr>\n",
       "    <tr>\n",
       "      <th>4</th>\n",
       "      <td>2024-03-04</td>\n",
       "      <td>2024-03-10</td>\n",
       "      <td>838</td>\n",
       "      <td>1291</td>\n",
       "      <td>574</td>\n",
       "      <td>3661</td>\n",
       "      <td>503</td>\n",
       "      <td>3213</td>\n",
       "      <td>1817</td>\n",
       "      <td>68</td>\n",
       "      <td>2050</td>\n",
       "      <td>195</td>\n",
       "      <td>380608.70</td>\n",
       "      <td>25750.82</td>\n",
       "      <td>28</td>\n",
       "      <td>53276</td>\n",
       "      <td>11026</td>\n",
       "    </tr>\n",
       "    <tr>\n",
       "      <th>...</th>\n",
       "      <td>...</td>\n",
       "      <td>...</td>\n",
       "      <td>...</td>\n",
       "      <td>...</td>\n",
       "      <td>...</td>\n",
       "      <td>...</td>\n",
       "      <td>...</td>\n",
       "      <td>...</td>\n",
       "      <td>...</td>\n",
       "      <td>...</td>\n",
       "      <td>...</td>\n",
       "      <td>...</td>\n",
       "      <td>...</td>\n",
       "      <td>...</td>\n",
       "      <td>...</td>\n",
       "      <td>...</td>\n",
       "      <td>...</td>\n",
       "    </tr>\n",
       "    <tr>\n",
       "      <th>60</th>\n",
       "      <td>2023-02-06</td>\n",
       "      <td>2023-02-12</td>\n",
       "      <td>488</td>\n",
       "      <td>566</td>\n",
       "      <td>244</td>\n",
       "      <td>1245</td>\n",
       "      <td>185</td>\n",
       "      <td>1317</td>\n",
       "      <td>1148</td>\n",
       "      <td>30</td>\n",
       "      <td>814</td>\n",
       "      <td>51</td>\n",
       "      <td>112049.71</td>\n",
       "      <td>23257.42</td>\n",
       "      <td>22</td>\n",
       "      <td>21815</td>\n",
       "      <td>6560</td>\n",
       "    </tr>\n",
       "    <tr>\n",
       "      <th>61</th>\n",
       "      <td>2023-01-30</td>\n",
       "      <td>2023-02-05</td>\n",
       "      <td>525</td>\n",
       "      <td>592</td>\n",
       "      <td>441</td>\n",
       "      <td>1827</td>\n",
       "      <td>1119</td>\n",
       "      <td>1914</td>\n",
       "      <td>1178</td>\n",
       "      <td>93</td>\n",
       "      <td>1024</td>\n",
       "      <td>136</td>\n",
       "      <td>242938.38</td>\n",
       "      <td>66507.19</td>\n",
       "      <td>22</td>\n",
       "      <td>21219</td>\n",
       "      <td>7285</td>\n",
       "    </tr>\n",
       "    <tr>\n",
       "      <th>62</th>\n",
       "      <td>2023-01-23</td>\n",
       "      <td>2023-01-29</td>\n",
       "      <td>470</td>\n",
       "      <td>526</td>\n",
       "      <td>253</td>\n",
       "      <td>1342</td>\n",
       "      <td>263</td>\n",
       "      <td>1435</td>\n",
       "      <td>1667</td>\n",
       "      <td>53</td>\n",
       "      <td>1060</td>\n",
       "      <td>54</td>\n",
       "      <td>95194.61</td>\n",
       "      <td>8955.20</td>\n",
       "      <td>22</td>\n",
       "      <td>20693</td>\n",
       "      <td>6387</td>\n",
       "    </tr>\n",
       "    <tr>\n",
       "      <th>63</th>\n",
       "      <td>2023-01-16</td>\n",
       "      <td>2023-01-22</td>\n",
       "      <td>486</td>\n",
       "      <td>579</td>\n",
       "      <td>260</td>\n",
       "      <td>1366</td>\n",
       "      <td>234</td>\n",
       "      <td>1499</td>\n",
       "      <td>1194</td>\n",
       "      <td>30</td>\n",
       "      <td>878</td>\n",
       "      <td>49</td>\n",
       "      <td>122555.36</td>\n",
       "      <td>5000.00</td>\n",
       "      <td>22</td>\n",
       "      <td>20114</td>\n",
       "      <td>6481</td>\n",
       "    </tr>\n",
       "    <tr>\n",
       "      <th>64</th>\n",
       "      <td>2023-01-06</td>\n",
       "      <td>2023-01-15</td>\n",
       "      <td>616</td>\n",
       "      <td>749</td>\n",
       "      <td>286</td>\n",
       "      <td>1418</td>\n",
       "      <td>333</td>\n",
       "      <td>1825</td>\n",
       "      <td>1384</td>\n",
       "      <td>57</td>\n",
       "      <td>1057</td>\n",
       "      <td>49</td>\n",
       "      <td>104162.08</td>\n",
       "      <td>35047.20</td>\n",
       "      <td>22</td>\n",
       "      <td>19365</td>\n",
       "      <td>6446</td>\n",
       "    </tr>\n",
       "  </tbody>\n",
       "</table>\n",
       "<p>65 rows × 17 columns</p>\n",
       "</div>"
      ],
      "text/plain": [
       "   WkstartDate   WkendDate  apc_wc_connected  wccalled  bucket1contacted  \\\n",
       "0   2024-04-01  2024-04-07              1096      1982               975   \n",
       "1   2024-03-25  2024-03-31               334       601               449   \n",
       "2   2024-03-18  2024-03-24              1030      1545               715   \n",
       "3   2024-03-11  2024-03-17               952      1449               786   \n",
       "4   2024-03-04  2024-03-10               838      1291               574   \n",
       "..         ...         ...               ...       ...               ...   \n",
       "60  2023-02-06  2023-02-12               488       566               244   \n",
       "61  2023-01-30  2023-02-05               525       592               441   \n",
       "62  2023-01-23  2023-01-29               470       526               253   \n",
       "63  2023-01-16  2023-01-22               486       579               260   \n",
       "64  2023-01-06  2023-01-15               616       749               286   \n",
       "\n",
       "    bucketcallcontacted  bucket1normalized_greg  \\\n",
       "0                  4758                     952   \n",
       "1                  3623                     729   \n",
       "2                  3986                     410   \n",
       "3                  4678                     491   \n",
       "4                  3661                     503   \n",
       "..                  ...                     ...   \n",
       "60                 1245                     185   \n",
       "61                 1827                    1119   \n",
       "62                 1342                     263   \n",
       "63                 1366                     234   \n",
       "64                 1418                     333   \n",
       "\n",
       "    bucket1normalized_denominator  bucket2normalized_denominator  \\\n",
       "0                            3661                           2119   \n",
       "1                            3600                           1974   \n",
       "2                            3135                           1914   \n",
       "3                            3108                           1860   \n",
       "4                            3213                           1817   \n",
       "..                            ...                            ...   \n",
       "60                           1317                           1148   \n",
       "61                           1914                           1178   \n",
       "62                           1435                           1667   \n",
       "63                           1499                           1194   \n",
       "64                           1825                           1384   \n",
       "\n",
       "    bucket2normalized_greg  ptp_received  kept_ptp  bucket1ptppmt  \\\n",
       "0                      106          2547       436      812492.74   \n",
       "1                       76          2164       149      248999.11   \n",
       "2                       47          2129       263      518001.55   \n",
       "3                       68          2343       336      730139.48   \n",
       "4                       68          2050       195      380608.70   \n",
       "..                     ...           ...       ...            ...   \n",
       "60                      30           814        51      112049.71   \n",
       "61                      93          1024       136      242938.38   \n",
       "62                      53          1060        54       95194.61   \n",
       "63                      30           878        49      122555.36   \n",
       "64                      57          1057        49      104162.08   \n",
       "\n",
       "    bucket2ptppmt  FTE  total_accounts  active_works  \n",
       "0        60498.02   27           56588         11708  \n",
       "1        13224.16   28           55742         11595  \n",
       "2        40034.70   28           54741         10874  \n",
       "3        52946.73   28           53815         10645  \n",
       "4        25750.82   28           53276         11026  \n",
       "..            ...  ...             ...           ...  \n",
       "60       23257.42   22           21815          6560  \n",
       "61       66507.19   22           21219          7285  \n",
       "62        8955.20   22           20693          6387  \n",
       "63        5000.00   22           20114          6481  \n",
       "64       35047.20   22           19365          6446  \n",
       "\n",
       "[65 rows x 17 columns]"
      ]
     },
     "execution_count": 37,
     "metadata": {},
     "output_type": "execute_result"
    }
   ],
   "source": [
    "df2"
   ]
  },
  {
   "cell_type": "code",
   "execution_count": null,
   "metadata": {},
   "outputs": [],
   "source": []
  },
  {
   "cell_type": "code",
   "execution_count": null,
   "metadata": {},
   "outputs": [],
   "source": []
  }
 ],
 "metadata": {
  "kernelspec": {
   "display_name": "prjfraudscore",
   "language": "python",
   "name": "python3"
  },
  "language_info": {
   "codemirror_mode": {
    "name": "ipython",
    "version": 3
   },
   "file_extension": ".py",
   "mimetype": "text/x-python",
   "name": "python",
   "nbconvert_exporter": "python",
   "pygments_lexer": "ipython3",
   "version": "3.9.10"
  }
 },
 "nbformat": 4,
 "nbformat_minor": 2
}
